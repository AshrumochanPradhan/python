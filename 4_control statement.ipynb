{
 "cells": [
  {
   "cell_type": "code",
   "execution_count": 4,
   "id": "9c1824d3",
   "metadata": {},
   "outputs": [
    {
     "name": "stdout",
     "output_type": "stream",
     "text": [
      "thank you\n"
     ]
    }
   ],
   "source": [
    "#Tell the output of this program\n",
    "name=\"surendra\"\n",
    "if name==\"surendra\":\n",
    "    print('thank you')"
   ]
  },
  {
   "cell_type": "code",
   "execution_count": 5,
   "id": "9f17177a",
   "metadata": {},
   "outputs": [
    {
     "name": "stdout",
     "output_type": "stream",
     "text": [
      "differ\n"
     ]
    },
    {
     "name": "stderr",
     "output_type": "stream",
     "text": [
      "<>:3: SyntaxWarning: \"is\" with a literal. Did you mean \"==\"?\n",
      "<>:3: SyntaxWarning: \"is\" with a literal. Did you mean \"==\"?\n",
      "C:\\Users\\ashru\\AppData\\Local\\Temp\\ipykernel_4172\\1561356444.py:3: SyntaxWarning: \"is\" with a literal. Did you mean \"==\"?\n",
      "  if 'num' is 'num1':\n"
     ]
    }
   ],
   "source": [
    "#Tell the output of this program\n",
    "num=10\n",
    "num1=10\n",
    "if 'num' is 'num1':\n",
    "    print('same')\n",
    "else:\n",
    "    print('differ')"
   ]
  },
  {
   "cell_type": "code",
   "execution_count": 13,
   "id": "01a5594f",
   "metadata": {},
   "outputs": [],
   "source": [
    "#Tell the output\n",
    "age=10\n",
    "if age==\"10\":\n",
    "    print('thank you')"
   ]
  },
  {
   "cell_type": "code",
   "execution_count": 14,
   "id": "6aa6442a",
   "metadata": {},
   "outputs": [],
   "source": [
    "#Tell the output of this program\n",
    "\n",
    "age=10\n",
    "if age==\"10\":\n",
    "    print('thank you')\n",
    "    print('thank you')\n",
    "\n",
    "    "
   ]
  },
  {
   "cell_type": "code",
   "execution_count": 15,
   "id": "009a4605",
   "metadata": {},
   "outputs": [
    {
     "name": "stdout",
     "output_type": "stream",
     "text": [
      "thank u2\n"
     ]
    }
   ],
   "source": [
    "#Tell the output of this program\n",
    "age=10\n",
    "if age==\"10\":\n",
    "    print('thank u1')\n",
    "print('thank u2')"
   ]
  },
  {
   "cell_type": "code",
   "execution_count": 19,
   "id": "725b7071",
   "metadata": {},
   "outputs": [
    {
     "name": "stdout",
     "output_type": "stream",
     "text": [
      "thank you\n"
     ]
    }
   ],
   "source": [
    "#Tell the output of this program\n",
    "age=10\n",
    "if age==\"10\":\n",
    "    print('thank you1')\n",
    "    print('thank you2')\n",
    "print('thank you')"
   ]
  },
  {
   "cell_type": "code",
   "execution_count": null,
   "id": "80cd2e9e",
   "metadata": {},
   "outputs": [],
   "source": []
  },
  {
   "cell_type": "code",
   "execution_count": 22,
   "id": "895362af",
   "metadata": {},
   "outputs": [
    {
     "name": "stdout",
     "output_type": "stream",
     "text": [
      "thank you1\n",
      "thank you2\n",
      "thank you\n"
     ]
    }
   ],
   "source": [
    "#Tell the output of this program\n",
    "age='10'\n",
    "if age==\"10\":\n",
    "        print('thank you1')\n",
    "        print('thank you2')\n",
    "print('thank you')"
   ]
  },
  {
   "cell_type": "code",
   "execution_count": 24,
   "id": "0fa3087e",
   "metadata": {},
   "outputs": [
    {
     "name": "stdout",
     "output_type": "stream",
     "text": [
      "thank you\n",
      "thank you1\n",
      "thank you2\n"
     ]
    }
   ],
   "source": [
    "#Tell the output of this program\n",
    "name=\"surendra\"\n",
    "if name:\n",
    "    print('thank you')\n",
    "    print('thank you1')\n",
    "print('thank you2')"
   ]
  },
  {
   "cell_type": "code",
   "execution_count": 26,
   "id": "96b1661c",
   "metadata": {},
   "outputs": [
    {
     "name": "stdout",
     "output_type": "stream",
     "text": [
      "thank you1\n",
      "thank you2\n",
      "thank you3\n"
     ]
    }
   ],
   "source": [
    "#Tell the output of this program\n",
    "name=10\n",
    "if name:\n",
    "    print('thank you1')\n",
    "    print('thank you2')\n",
    "print('thank you3')"
   ]
  },
  {
   "cell_type": "code",
   "execution_count": 27,
   "id": "27f01b98",
   "metadata": {},
   "outputs": [
    {
     "name": "stdout",
     "output_type": "stream",
     "text": [
      "thank you3\n"
     ]
    }
   ],
   "source": [
    "#Tell the output of this program\n",
    "name=None\n",
    "if name:\n",
    "    print('thank you1')\n",
    "    print('thank you2')\n",
    "print('thank you3')"
   ]
  },
  {
   "cell_type": "code",
   "execution_count": 29,
   "id": "9f8fd73a",
   "metadata": {},
   "outputs": [
    {
     "name": "stdout",
     "output_type": "stream",
     "text": [
      "thank you1\n",
      "thank you2\n",
      "thank you3\n"
     ]
    }
   ],
   "source": [
    "#Tell the output of this program\n",
    "x=-90\n",
    "if x:\n",
    "    print('thank you1')\n",
    "    print('thank you2')\n",
    "print('thank you3')"
   ]
  },
  {
   "cell_type": "code",
   "execution_count": 30,
   "id": "f3f953f4",
   "metadata": {},
   "outputs": [
    {
     "name": "stdout",
     "output_type": "stream",
     "text": [
      "thank you3\n"
     ]
    }
   ],
   "source": [
    "#Tell the output of this program\n",
    "x=0\n",
    "if x:\n",
    "    print('thank you1')\n",
    "    print('thank you2')\n",
    "print('thank you3')"
   ]
  },
  {
   "cell_type": "code",
   "execution_count": 31,
   "id": "d009f199",
   "metadata": {},
   "outputs": [
    {
     "name": "stdout",
     "output_type": "stream",
     "text": [
      "thank you1\n",
      "thank you2\n",
      "thank you3\n"
     ]
    }
   ],
   "source": [
    "#Tell the output of this program\n",
    "x=True\n",
    "if x:\n",
    "    print('thank you1')\n",
    "    print('thank you2')\n",
    "print('thank you3')"
   ]
  },
  {
   "cell_type": "code",
   "execution_count": 32,
   "id": "115e781c",
   "metadata": {},
   "outputs": [
    {
     "name": "stdout",
     "output_type": "stream",
     "text": [
      "thank you3\n"
     ]
    }
   ],
   "source": [
    "#Tell the output of this program\n",
    "x=False\n",
    "if x:\n",
    "    print('thank you1')\n",
    "    print('thank you2')\n",
    "print('thank you3')"
   ]
  },
  {
   "cell_type": "markdown",
   "id": "e70ffa6c",
   "metadata": {},
   "source": []
  },
  {
   "cell_type": "code",
   "execution_count": 34,
   "id": "c0818fe0",
   "metadata": {},
   "outputs": [
    {
     "name": "stdout",
     "output_type": "stream",
     "text": [
      "thank you3\n"
     ]
    }
   ],
   "source": [
    "#Tell the output of this program\n",
    "x,y=10,20\n",
    "if x==y:\n",
    "    print('thank you1')\n",
    "    print('thank you2')\n",
    "print('thank you3')"
   ]
  },
  {
   "cell_type": "code",
   "execution_count": 35,
   "id": "5a342c09",
   "metadata": {},
   "outputs": [
    {
     "name": "stdout",
     "output_type": "stream",
     "text": [
      "thank you3\n"
     ]
    }
   ],
   "source": [
    "#Tell the output of this program\n",
    "x=-0\n",
    "if x:\n",
    "    print('thank you1')\n",
    "    print('thank you2')\n",
    "print('thank you3')"
   ]
  },
  {
   "cell_type": "code",
   "execution_count": 36,
   "id": "c37bc0bf",
   "metadata": {},
   "outputs": [
    {
     "name": "stdout",
     "output_type": "stream",
     "text": [
      "thank you3\n"
     ]
    }
   ],
   "source": [
    "#Tell the output of this program\n",
    "x=''\n",
    "if x:\n",
    "    print('thank you1')\n",
    "    print('thank you2')\n",
    "print('thank you3')"
   ]
  },
  {
   "cell_type": "code",
   "execution_count": 37,
   "id": "22842d77",
   "metadata": {},
   "outputs": [
    {
     "name": "stdout",
     "output_type": "stream",
     "text": [
      "thank you1\n",
      "thank you2\n",
      "thank you3\n"
     ]
    }
   ],
   "source": [
    "#Tell the output of this program\n",
    "x=' '\n",
    "if x:\n",
    "    print('thank you1')\n",
    "    print('thank you2')\n",
    "print('thank you3')"
   ]
  },
  {
   "cell_type": "code",
   "execution_count": 39,
   "id": "a9745a3b",
   "metadata": {},
   "outputs": [],
   "source": [
    "#Tell the output of this program\n",
    "l=['surendra','priyanka','rahu','zini']\n",
    "if 'Priyanka' in l:\n",
    "    print('available')"
   ]
  },
  {
   "cell_type": "code",
   "execution_count": 42,
   "id": "d862d4bb",
   "metadata": {},
   "outputs": [
    {
     "name": "stdout",
     "output_type": "stream",
     "text": [
      "available\n"
     ]
    }
   ],
   "source": [
    "#Tell the output of this program\n",
    "l=['surendra','priyanka','rahu','zini']\n",
    "if 'priyanka' in l:\n",
    "    print('available')"
   ]
  },
  {
   "cell_type": "code",
   "execution_count": 43,
   "id": "9e077cf6",
   "metadata": {},
   "outputs": [
    {
     "name": "stdout",
     "output_type": "stream",
     "text": [
      "available\n"
     ]
    }
   ],
   "source": [
    "#Tell the output of this program\n",
    "l=['surendra','priyanka','rahu','zini']\n",
    "if not ('priyanka' not in l):\n",
    "    print('available')"
   ]
  },
  {
   "cell_type": "code",
   "execution_count": null,
   "id": "f5fc142d",
   "metadata": {},
   "outputs": [],
   "source": [
    "#if else"
   ]
  },
  {
   "cell_type": "code",
   "execution_count": 44,
   "id": "e8929e56",
   "metadata": {},
   "outputs": [
    {
     "name": "stdout",
     "output_type": "stream",
     "text": [
      "not available\n"
     ]
    }
   ],
   "source": [
    "#Tell the output of this program\n",
    "l=['surendra','priyanka','rahu','zini']\n",
    "if 'dev' in l:\n",
    "    print('available')\n",
    "else:\n",
    "    print('not available')"
   ]
  },
  {
   "cell_type": "code",
   "execution_count": 45,
   "id": "897df628",
   "metadata": {},
   "outputs": [
    {
     "name": "stdout",
     "output_type": "stream",
     "text": [
      "surendra\n"
     ]
    }
   ],
   "source": [
    "#Tell the output of this program\n",
    "num=10\n",
    "if num:\n",
    "    print('surendra')\n",
    "else:\n",
    "    print('priyanka')"
   ]
  },
  {
   "cell_type": "code",
   "execution_count": 46,
   "id": "ca620acb",
   "metadata": {},
   "outputs": [
    {
     "ename": "SyntaxError",
     "evalue": "invalid syntax (1461298813.py, line 2)",
     "output_type": "error",
     "traceback": [
      "\u001b[1;36m  Cell \u001b[1;32mIn[46], line 2\u001b[1;36m\u001b[0m\n\u001b[1;33m    if (if type(num)=='int'):\u001b[0m\n\u001b[1;37m        ^\u001b[0m\n\u001b[1;31mSyntaxError\u001b[0m\u001b[1;31m:\u001b[0m invalid syntax\n"
     ]
    }
   ],
   "source": [
    "#Tell the output of this program\n",
    "num=10\n",
    "if (if type(num)=='int'):\n",
    "    print('surendra')\n",
    "else:\n",
    "    print('priyanka')"
   ]
  },
  {
   "cell_type": "code",
   "execution_count": 47,
   "id": "8a4f33ad",
   "metadata": {},
   "outputs": [
    {
     "ename": "SyntaxError",
     "evalue": "invalid syntax (4089983236.py, line 2)",
     "output_type": "error",
     "traceback": [
      "\u001b[1;36m  Cell \u001b[1;32mIn[47], line 2\u001b[1;36m\u001b[0m\n\u001b[1;33m    if if type(num)=='int':\u001b[0m\n\u001b[1;37m       ^\u001b[0m\n\u001b[1;31mSyntaxError\u001b[0m\u001b[1;31m:\u001b[0m invalid syntax\n"
     ]
    }
   ],
   "source": [
    "#find out the output of this program\n",
    "num=10\n",
    "if if type(num)=='int':\n",
    "    print('surendra')\n",
    "else:\n",
    "    print('priyanka')"
   ]
  },
  {
   "cell_type": "code",
   "execution_count": 48,
   "id": "50fcec96",
   "metadata": {},
   "outputs": [
    {
     "name": "stdout",
     "output_type": "stream",
     "text": [
      "priyanka\n"
     ]
    }
   ],
   "source": [
    "#find out the output of this program\n",
    "num=10\n",
    "if  type(num)=='int':\n",
    "    print('surendra')\n",
    "else:\n",
    "    print('priyanka')"
   ]
  },
  {
   "cell_type": "code",
   "execution_count": 49,
   "id": "94e528df",
   "metadata": {},
   "outputs": [
    {
     "name": "stdout",
     "output_type": "stream",
     "text": [
      "surendra\n"
     ]
    }
   ],
   "source": [
    "#find out the output of this progra\n",
    "num=10\n",
    "if  type(num)==int:\n",
    "    print('surendra')\n",
    "else:\n",
    "    print('priyanka')"
   ]
  },
  {
   "cell_type": "code",
   "execution_count": 51,
   "id": "e7b0d2ec",
   "metadata": {},
   "outputs": [
    {
     "name": "stdout",
     "output_type": "stream",
     "text": [
      "positive\n"
     ]
    }
   ],
   "source": [
    "#tell the number is positive or negative\n",
    "num=10\n",
    "if num>0:\n",
    "    print('positive')\n",
    "else:\n",
    "    print('negative')"
   ]
  },
  {
   "cell_type": "code",
   "execution_count": 52,
   "id": "ea3a5f60",
   "metadata": {},
   "outputs": [
    {
     "name": "stdout",
     "output_type": "stream",
     "text": [
      "even\n"
     ]
    }
   ],
   "source": [
    "#even or odd program\n",
    "num=10\n",
    "if num%2==0:\n",
    "    print('even')\n",
    "else:\n",
    "    print('odd')"
   ]
  },
  {
   "cell_type": "code",
   "execution_count": 53,
   "id": "333fae87",
   "metadata": {},
   "outputs": [
    {
     "name": "stdout",
     "output_type": "stream",
     "text": [
      "same\n"
     ]
    }
   ],
   "source": [
    "#same or differ\n",
    "num=10\n",
    "num1=10\n",
    "if num==num1:\n",
    "    print('same')\n",
    "else:\n",
    "    print('differ')"
   ]
  },
  {
   "cell_type": "code",
   "execution_count": 54,
   "id": "9d652099",
   "metadata": {},
   "outputs": [
    {
     "name": "stdout",
     "output_type": "stream",
     "text": [
      "same\n"
     ]
    }
   ],
   "source": [
    "#same or differ\n",
    "num=10\n",
    "num1=10\n",
    "if num is num1:\n",
    "    print('same')\n",
    "else:\n",
    "    print('differ')"
   ]
  },
  {
   "cell_type": "code",
   "execution_count": 55,
   "id": "33f642b8",
   "metadata": {},
   "outputs": [
    {
     "name": "stdout",
     "output_type": "stream",
     "text": [
      "differ\n"
     ]
    }
   ],
   "source": [
    "#same or differ\n",
    "num=10\n",
    "num1=10\n",
    "if 'num'=='num1':\n",
    "    print('same')\n",
    "else:\n",
    "    print('differ')"
   ]
  },
  {
   "cell_type": "code",
   "execution_count": 56,
   "id": "82ca15c9",
   "metadata": {},
   "outputs": [
    {
     "name": "stdout",
     "output_type": "stream",
     "text": [
      "same\n"
     ]
    }
   ],
   "source": [
    "#same or differ\n",
    "num=10\n",
    "num1=10\n",
    "if 'num'=='num':\n",
    "    print('same')\n",
    "else:\n",
    "    print('differ')"
   ]
  },
  {
   "cell_type": "code",
   "execution_count": 57,
   "id": "ecec6133",
   "metadata": {},
   "outputs": [
    {
     "name": "stdout",
     "output_type": "stream",
     "text": [
      "same\n"
     ]
    },
    {
     "name": "stderr",
     "output_type": "stream",
     "text": [
      "<>:3: SyntaxWarning: \"is\" with a literal. Did you mean \"==\"?\n",
      "<>:3: SyntaxWarning: \"is\" with a literal. Did you mean \"==\"?\n",
      "C:\\Users\\ashru\\AppData\\Local\\Temp\\ipykernel_4172\\1638888182.py:3: SyntaxWarning: \"is\" with a literal. Did you mean \"==\"?\n",
      "  if 'num' is'num':\n"
     ]
    }
   ],
   "source": [
    "#same or differ\n",
    "num=10\n",
    "num1=10\n",
    "if 'num' is'num':\n",
    "    print('same')\n",
    "else:\n",
    "    print('differ')"
   ]
  },
  {
   "cell_type": "markdown",
   "id": "b5157103",
   "metadata": {},
   "source": []
  },
  {
   "cell_type": "code",
   "execution_count": 58,
   "id": "4165802f",
   "metadata": {},
   "outputs": [
    {
     "name": "stdout",
     "output_type": "stream",
     "text": [
      "not ten not twenty not thirty\n"
     ]
    }
   ],
   "source": [
    "#program to find the number is present or not\n",
    "num=35\n",
    "if num==10:\n",
    "    print('ten')\n",
    "elif num==20:\n",
    "    print('twenty')\n",
    "elif num==30:\n",
    "    print('thirty')\n",
    "else:\n",
    "    print('not ten not twenty not thirty')"
   ]
  },
  {
   "cell_type": "code",
   "execution_count": 59,
   "id": "6fe40d61",
   "metadata": {},
   "outputs": [
    {
     "name": "stdout",
     "output_type": "stream",
     "text": [
      "thirty\n"
     ]
    }
   ],
   "source": [
    "#program to find the number is present or not\n",
    "num=30\n",
    "if num==10:\n",
    "    print('ten')\n",
    "elif num==20:\n",
    "    print('twenty')\n",
    "elif num==30:\n",
    "    print('thirty')\n",
    "else:\n",
    "    print('not ten not twenty not thirty')"
   ]
  },
  {
   "cell_type": "code",
   "execution_count": 2,
   "id": "f9052063",
   "metadata": {},
   "outputs": [
    {
     "name": "stdout",
     "output_type": "stream",
     "text": [
      "thirty\n"
     ]
    }
   ],
   "source": [
    "#program to find the number is present or not\n",
    "num=30.0\n",
    "if num==10:\n",
    "    print('ten')\n",
    "elif num==20:\n",
    "    print('twenty')\n",
    "elif num==30:\n",
    "    print('thirty')\n",
    "else:\n",
    "    print('not ten not twenty not thirty')"
   ]
  },
  {
   "cell_type": "code",
   "execution_count": null,
   "id": "361cab95",
   "metadata": {},
   "outputs": [],
   "source": [
    "#nested if"
   ]
  },
  {
   "cell_type": "code",
   "execution_count": 3,
   "id": "6d45d89b",
   "metadata": {},
   "outputs": [
    {
     "name": "stdout",
     "output_type": "stream",
     "text": [
      "cong!\n"
     ]
    }
   ],
   "source": [
    "#find out the output\n",
    "age=26\n",
    "height=6.0\n",
    "if age>=22:\n",
    "    if (height>=5.7):\n",
    "        print('cong!')\n"
   ]
  },
  {
   "cell_type": "code",
   "execution_count": 5,
   "id": "6a217e4b",
   "metadata": {},
   "outputs": [],
   "source": [
    "#find out the output\n",
    "age=26\n",
    "height=3.8\n",
    "if age>=22:\n",
    "    if (height>=5.7):\n",
    "        print('cong!')\n"
   ]
  },
  {
   "cell_type": "code",
   "execution_count": 6,
   "id": "4b4a7e67",
   "metadata": {},
   "outputs": [
    {
     "name": "stdout",
     "output_type": "stream",
     "text": [
      "your heiht is less than 5.7\n"
     ]
    }
   ],
   "source": [
    "#find out the output of this program\n",
    "age=26\n",
    "height=3.8\n",
    "if age>=22:\n",
    "    if (height>=5.7):\n",
    "        print('cong!')\n",
    "    else:\n",
    "        print('your hegiht is less than 5.7')\n"
   ]
  },
  {
   "cell_type": "code",
   "execution_count": 7,
   "id": "7c0dbcc3",
   "metadata": {},
   "outputs": [],
   "source": [
    "#find out the output of this program\n",
    "age=16\n",
    "height=3.8\n",
    "if age>=22:\n",
    "    if (height>=5.7):\n",
    "        print('cong!')\n",
    "    else:\n",
    "        print('your hegiht is less than 5.7')\n"
   ]
  },
  {
   "cell_type": "code",
   "execution_count": 8,
   "id": "9e9b4c92",
   "metadata": {},
   "outputs": [
    {
     "name": "stdout",
     "output_type": "stream",
     "text": [
      "your age is less than 22\n"
     ]
    }
   ],
   "source": [
    "#find out the output of this program\n",
    "age=16\n",
    "height=3.8\n",
    "if age>=22:\n",
    "    if (height>=5.7):\n",
    "        print('cong!')\n",
    "    else:\n",
    "        print('your heiht is less than 5.7')\n",
    "else:\n",
    "    print('your age is less than 22')\n"
   ]
  },
  {
   "cell_type": "code",
   "execution_count": null,
   "id": "4f1b86d9",
   "metadata": {},
   "outputs": [],
   "source": [
    "#Dynamic input"
   ]
  },
  {
   "cell_type": "code",
   "execution_count": 9,
   "id": "b639d0a8",
   "metadata": {},
   "outputs": [
    {
     "name": "stdout",
     "output_type": "stream",
     "text": [
      "enter your nameashru\n",
      "ashru\n"
     ]
    }
   ],
   "source": [
    "name=input('enter your name')\n",
    "print(name)"
   ]
  },
  {
   "cell_type": "code",
   "execution_count": 10,
   "id": "f984959a",
   "metadata": {},
   "outputs": [
    {
     "name": "stdout",
     "output_type": "stream",
     "text": [
      "enter a number for a: 10\n",
      "enter a number for b: 20\n",
      "1020\n"
     ]
    }
   ],
   "source": [
    "#find the sum of two number using dynamic input\n",
    "a=input('enter a number for a: ')\n",
    "b=input('enter a number for b: ')\n",
    "sum=a+b\n",
    "print(sum) #when we don't declare the type of data then bydefault it act as string \n"
   ]
  },
  {
   "cell_type": "code",
   "execution_count": 11,
   "id": "ec2df3ce",
   "metadata": {},
   "outputs": [
    {
     "name": "stdout",
     "output_type": "stream",
     "text": [
      "enter a number for a: 10\n",
      "enter a number for b: 46\n",
      "56\n"
     ]
    }
   ],
   "source": [
    "#find the sum of two  integer number using dynamic input\n",
    "a=int(input('enter a number for a: '))\n",
    "b=int(input('enter a number for b: '))\n",
    "sum=a+b\n",
    "print(sum)"
   ]
  },
  {
   "cell_type": "code",
   "execution_count": 12,
   "id": "17a9a411",
   "metadata": {},
   "outputs": [
    {
     "name": "stdout",
     "output_type": "stream",
     "text": [
      "enter a number for a: 21\n",
      "enter a number for b: 37\n",
      "58.0\n"
     ]
    }
   ],
   "source": [
    "#find the sum of two  float number using dynamic input\n",
    "a=float(input('enter a number for a: '))\n",
    "b=float(input('enter a number for b: '))\n",
    "sum=a+b\n",
    "print(sum)"
   ]
  },
  {
   "cell_type": "code",
   "execution_count": 13,
   "id": "d5f4cc27",
   "metadata": {},
   "outputs": [
    {
     "name": "stdout",
     "output_type": "stream",
     "text": [
      "enter a number for a: 23\n",
      "enter a number for b: 24\n"
     ]
    },
    {
     "ename": "TypeError",
     "evalue": "unsupported operand type(s) for +: 'int' and 'str'",
     "output_type": "error",
     "traceback": [
      "\u001b[1;31m---------------------------------------------------------------------------\u001b[0m",
      "\u001b[1;31mTypeError\u001b[0m                                 Traceback (most recent call last)",
      "Cell \u001b[1;32mIn[13], line 3\u001b[0m\n\u001b[0;32m      1\u001b[0m a\u001b[38;5;241m=\u001b[39m\u001b[38;5;28mint\u001b[39m(\u001b[38;5;28minput\u001b[39m(\u001b[38;5;124m'\u001b[39m\u001b[38;5;124menter a number for a: \u001b[39m\u001b[38;5;124m'\u001b[39m))\n\u001b[0;32m      2\u001b[0m b\u001b[38;5;241m=\u001b[39m(\u001b[38;5;28minput\u001b[39m(\u001b[38;5;124m'\u001b[39m\u001b[38;5;124menter a number for b: \u001b[39m\u001b[38;5;124m'\u001b[39m))\n\u001b[1;32m----> 3\u001b[0m \u001b[38;5;28msum\u001b[39m\u001b[38;5;241m=\u001b[39ma\u001b[38;5;241m+\u001b[39mb\n\u001b[0;32m      4\u001b[0m \u001b[38;5;28mprint\u001b[39m(\u001b[38;5;28msum\u001b[39m)\n",
      "\u001b[1;31mTypeError\u001b[0m: unsupported operand type(s) for +: 'int' and 'str'"
     ]
    }
   ],
   "source": [
    "#find the sum of two  integer number using dynamic input\n",
    "a=int(input('enter a number for a: '))\n",
    "b=(input('enter a number for b: '))\n",
    "sum=a+b\n",
    "print(sum)"
   ]
  },
  {
   "cell_type": "code",
   "execution_count": 14,
   "id": "b0ee021d",
   "metadata": {},
   "outputs": [
    {
     "name": "stdout",
     "output_type": "stream",
     "text": [
      "32\n",
      "21\n",
      "53\n"
     ]
    }
   ],
   "source": [
    "#find the sum of two  integer number using dynamic input\n",
    "num1=int(input(''))\n",
    "num2=int(input(''))\n",
    "print(num1+num2)"
   ]
  },
  {
   "cell_type": "code",
   "execution_count": 15,
   "id": "c2b77cc6",
   "metadata": {},
   "outputs": [
    {
     "name": "stdout",
     "output_type": "stream",
     "text": [
      "enter the value of a: 23\n",
      "enter the value of b: 34\n",
      "enter a choice[+-*/]+\n",
      "57\n"
     ]
    }
   ],
   "source": [
    "#wap to find out the value of two number using choice\n",
    "num1=int(input('enter the value of a: '))\n",
    "num2=int(input('enter the value of b: '))\n",
    "choice=input('enter a choice[+-*/]')\n",
    "if choice=='+':\n",
    "    print(num1+num2)\n",
    "elif choice=='-':\n",
    "    print(num1-num2)\n",
    "elif choice=='*':\n",
    "    print(num1+num2)\n",
    "elif choice=='/':\n",
    "    print(num1+num2)\n",
    "else:\n",
    "    print('invalid option')"
   ]
  },
  {
   "cell_type": "code",
   "execution_count": 1,
   "id": "23e70869",
   "metadata": {},
   "outputs": [
    {
     "ename": "SyntaxError",
     "evalue": "invalid syntax (2537769133.py, line 11)",
     "output_type": "error",
     "traceback": [
      "\u001b[1;36m  Cell \u001b[1;32mIn[1], line 11\u001b[1;36m\u001b[0m\n\u001b[1;33m    elif choice=='*':\u001b[0m\n\u001b[1;37m    ^\u001b[0m\n\u001b[1;31mSyntaxError\u001b[0m\u001b[1;31m:\u001b[0m invalid syntax\n"
     ]
    }
   ],
   "source": [
    "#wap to find out the value of two number using choice\n",
    "num1=int(input('enter the value of a: '))\n",
    "num2=int(input('enter the value of b: '))\n",
    "choice=input('enter a choice[+-*/]')\n",
    "if choice=='+':\n",
    "    print(num1+num2)\n",
    "elif choice=='-':\n",
    "    print(num1-num2)\n",
    "else:                             #we cant use else after the elif codition\n",
    "    print('invalid option')\n",
    "elif choice=='*':\n",
    "    print(num1+num2)\n",
    "elif choice=='/':\n",
    "    print(num1+num2)\n"
   ]
  },
  {
   "cell_type": "code",
   "execution_count": 17,
   "id": "c39f0d26",
   "metadata": {},
   "outputs": [
    {
     "name": "stdout",
     "output_type": "stream",
     "text": [
      "ashru\n",
      "ashru\n",
      "ashru\n",
      "ashru\n",
      "ashru\n"
     ]
    }
   ],
   "source": [
    "#print u r name 5 times in while loop\n",
    "i=1\n",
    "while i<=5:\n",
    "    print('ashru')\n",
    "    i=i+1"
   ]
  },
  {
   "cell_type": "code",
   "execution_count": 18,
   "id": "7320f392",
   "metadata": {},
   "outputs": [
    {
     "name": "stdout",
     "output_type": "stream",
     "text": [
      "ashru\n",
      "ashru\n",
      "ashru\n",
      "ashru\n",
      "ashru\n",
      "6\n"
     ]
    }
   ],
   "source": [
    "#find out the output of this program\n",
    "i=1\n",
    "while i<=5:\n",
    "    print('ashru')\n",
    "    i=i+1\n",
    "print(i)"
   ]
  },
  {
   "cell_type": "code",
   "execution_count": 2,
   "id": "9b64505e",
   "metadata": {},
   "outputs": [
    {
     "name": "stdout",
     "output_type": "stream",
     "text": [
      "140715842507560\n",
      "ashru\n",
      "140715842507592\n",
      "ashru\n",
      "140715842507624\n",
      "ashru\n",
      "140715842507656\n",
      "ashru\n",
      "140715842507688\n",
      "ashru\n",
      "6\n"
     ]
    }
   ],
   "source": [
    "#print the id of ur name\n",
    "i=1\n",
    "while i<=5:\n",
    "    print(id(i))\n",
    "    print('ashru')\n",
    "    i=i+1\n",
    "print(i)"
   ]
  },
  {
   "cell_type": "code",
   "execution_count": 20,
   "id": "ff1d3b33",
   "metadata": {},
   "outputs": [
    {
     "name": "stdout",
     "output_type": "stream",
     "text": [
      "ashru\n",
      "ashru\n",
      "ashru\n",
      "ashru\n",
      "ashru\n",
      "0\n"
     ]
    }
   ],
   "source": [
    "#print ur name in descending order\n",
    "i=5\n",
    "while i>=1:\n",
    "    print('ashru')\n",
    "    i=i-1\n",
    "print(i)"
   ]
  },
  {
   "cell_type": "code",
   "execution_count": 21,
   "id": "eb5d075b",
   "metadata": {},
   "outputs": [
    {
     "name": "stdout",
     "output_type": "stream",
     "text": [
      "ashru\n",
      "ashru\n",
      "ashru\n",
      "ashru\n",
      "ashru\n",
      "ashru\n",
      "ashru\n"
     ]
    }
   ],
   "source": [
    "#Find the output of this program\n",
    "i=1\n",
    "while i<=20:\n",
    "    print('ashru')\n",
    "    i=i+3"
   ]
  },
  {
   "cell_type": "code",
   "execution_count": 23,
   "id": "a2fa79e2",
   "metadata": {},
   "outputs": [
    {
     "name": "stdout",
     "output_type": "stream",
     "text": [
      "1\n"
     ]
    }
   ],
   "source": [
    "#Find the output of this program\n",
    "i=1\n",
    "while i>=5:\n",
    "    print('ashru')\n",
    "    i=i-1\n",
    "print(i)"
   ]
  },
  {
   "cell_type": "code",
   "execution_count": 25,
   "id": "29ce6458",
   "metadata": {},
   "outputs": [
    {
     "name": "stdout",
     "output_type": "stream",
     "text": [
      "1\n",
      "4\n",
      "7\n",
      "10\n",
      "13\n",
      "16\n",
      "19\n"
     ]
    }
   ],
   "source": [
    "#Find the output of this program\n",
    "i=1\n",
    "while i<=20:\n",
    "    print(i)\n",
    "    i=i+3"
   ]
  },
  {
   "cell_type": "code",
   "execution_count": 31,
   "id": "9b424eda",
   "metadata": {},
   "outputs": [
    {
     "name": "stdout",
     "output_type": "stream",
     "text": [
      "2\n",
      "4\n",
      "6\n",
      "8\n",
      "10\n"
     ]
    }
   ],
   "source": [
    "#Find the output of this program\n",
    "i=1\n",
    "while i<=10:\n",
    "    if i%2==0:\n",
    "        print(i)\n",
    "    i=i+1"
   ]
  },
  {
   "cell_type": "code",
   "execution_count": 32,
   "id": "03a4c15c",
   "metadata": {},
   "outputs": [
    {
     "name": "stdout",
     "output_type": "stream",
     "text": [
      "1\n",
      "3\n",
      "5\n",
      "7\n",
      "9\n"
     ]
    }
   ],
   "source": [
    "#wap to print the number  which is not divisible by 1 to 10 \n",
    "i=1\n",
    "while i<=10:\n",
    "    if i%2!=0:\n",
    "      print(i)\n",
    "    i=i+1"
   ]
  },
  {
   "cell_type": "code",
   "execution_count": 34,
   "id": "487d062d",
   "metadata": {},
   "outputs": [
    {
     "name": "stdout",
     "output_type": "stream",
     "text": [
      "*\n",
      "**\n",
      "***\n",
      "****\n",
      "*****\n"
     ]
    }
   ],
   "source": [
    "#print the pattern\n",
    "*\n",
    "**\n",
    "***\n",
    "****\n",
    "*****\n",
    "i=1\n",
    "while i<=5:\n",
    "     print(i*'*')\n",
    "     i=i+1"
   ]
  },
  {
   "cell_type": "code",
   "execution_count": 37,
   "id": "76cde2fc",
   "metadata": {},
   "outputs": [
    {
     "name": "stdout",
     "output_type": "stream",
     "text": [
      "*****\n",
      "****\n",
      "***\n",
      "**\n",
      "*\n"
     ]
    }
   ],
   "source": [
    "#print the pattern\n",
    "*****\n",
    "****\n",
    "***\n",
    "**\n",
    "*\n",
    "i=5\n",
    "while i>=1:\n",
    "     print(i*'*')\n",
    "     i=i-1"
   ]
  },
  {
   "cell_type": "code",
   "execution_count": 38,
   "id": "5ea33cb3",
   "metadata": {},
   "outputs": [
    {
     "name": "stdout",
     "output_type": "stream",
     "text": [
      "1\n",
      "4\n",
      "9\n",
      "16\n",
      "25\n"
     ]
    }
   ],
   "source": [
    "#find out the output of this code\n",
    "i=1\n",
    "while i<=5:\n",
    "    print(i*i)\n",
    "    i=i+1"
   ]
  }
 ],
 "metadata": {
  "kernelspec": {
   "display_name": "Python 3 (ipykernel)",
   "language": "python",
   "name": "python3"
  },
  "language_info": {
   "codemirror_mode": {
    "name": "ipython",
    "version": 3
   },
   "file_extension": ".py",
   "mimetype": "text/x-python",
   "name": "python",
   "nbconvert_exporter": "python",
   "pygments_lexer": "ipython3",
   "version": "3.11.4"
  }
 },
 "nbformat": 4,
 "nbformat_minor": 5
}
