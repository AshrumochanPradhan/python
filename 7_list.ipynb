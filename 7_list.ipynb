{
 "cells": [
  {
   "cell_type": "code",
   "execution_count": 1,
   "id": "24d2e5f9",
   "metadata": {},
   "outputs": [
    {
     "name": "stdout",
     "output_type": "stream",
     "text": [
      "10 is present at index 0/ -5\n",
      "20 is present at index 1/ -4\n",
      "30.2 is present at index 2/ -3\n",
      "ashru is present at index 3/ -2\n",
      "True is present at index 4/ -1\n"
     ]
    }
   ],
   "source": [
    "#wap to display list elements of a list along with positive and negative index using for loop\n",
    "l=[10,20,30.2,'ashru',True]\n",
    "a=len(l)\n",
    "for i in range(a):\n",
    "    print(f'{l[i]} is present at index {i}/ {i-a}')"
   ]
  },
  {
   "cell_type": "code",
   "execution_count": 3,
   "id": "95e1ae15",
   "metadata": {},
   "outputs": [
    {
     "name": "stdout",
     "output_type": "stream",
     "text": [
      "10 is present at index 0/-5\n",
      "20 is present at index 1/-4\n",
      "30.2 is present at index 2/-3\n",
      "ashru is present at index 3/-2\n",
      "True is present at index 4/-1\n"
     ]
    }
   ],
   "source": [
    "#wap to display list elements of a list along with positive and negative index using while loop\n",
    "l=[10,20,30.2,'ashru',True]\n",
    "d=len(l)\n",
    "i=0\n",
    "while i<d:\n",
    "        print(\"{} is present at index {}/{}\".format (l[i],i,i-d))\n",
    "        i=i+1"
   ]
  },
  {
   "cell_type": "code",
   "execution_count": 1,
   "id": "c4c7a7fd",
   "metadata": {},
   "outputs": [
    {
     "name": "stdout",
     "output_type": "stream",
     "text": [
      "[]\n"
     ]
    }
   ],
   "source": [
    "#creation of empty list\n",
    "l=[]\n",
    "print(l)"
   ]
  },
  {
   "cell_type": "code",
   "execution_count": 3,
   "id": "18053a24",
   "metadata": {},
   "outputs": [
    {
     "name": "stdout",
     "output_type": "stream",
     "text": [
      "Enter a list: [23,35,45]\n",
      "[23, 35, 45]\n"
     ]
    }
   ],
   "source": [
    "#creation of list using dynamically using eval() function\n",
    "l=eval(input('Enter a list: '))\n",
    "print(l)"
   ]
  },
  {
   "cell_type": "code",
   "execution_count": 4,
   "id": "f1170674",
   "metadata": {},
   "outputs": [
    {
     "name": "stdout",
     "output_type": "stream",
     "text": [
      "[23, 24, 25, 26]\n"
     ]
    }
   ],
   "source": [
    "#creation of list using list()\n",
    "l=list((23,24,25,26))\n",
    "print(l)"
   ]
  },
  {
   "cell_type": "code",
   "execution_count": 5,
   "id": "b9f23d9e",
   "metadata": {},
   "outputs": [
    {
     "name": "stdout",
     "output_type": "stream",
     "text": [
      "[10, 13, 16, 19]\n"
     ]
    }
   ],
   "source": [
    "#creation of list using range()\n",
    "l=list(range(10,21,3))\n",
    "print(l)"
   ]
  },
  {
   "cell_type": "code",
   "execution_count": 6,
   "id": "55440e62",
   "metadata": {},
   "outputs": [
    {
     "name": "stdout",
     "output_type": "stream",
     "text": [
      "[23, 24, 25, 26, 27, 19, 16]\n"
     ]
    }
   ],
   "source": [
    "#creation list directly\n",
    "l=[23,24,25,26,27,19,16]\n",
    "print(l)"
   ]
  },
  {
   "cell_type": "code",
   "execution_count": 7,
   "id": "3335de01",
   "metadata": {},
   "outputs": [
    {
     "name": "stdout",
     "output_type": "stream",
     "text": [
      "[13, {'name': 'Ashru'}, [10, 20, 30]]\n"
     ]
    }
   ],
   "source": [
    "#creation of list using complex object\n",
    "l=[13,{'name':'Ashru'},[10,20,30]]\n",
    "print(l)"
   ]
  },
  {
   "cell_type": "code",
   "execution_count": 8,
   "id": "a6651f5a",
   "metadata": {},
   "outputs": [
    {
     "name": "stdout",
     "output_type": "stream",
     "text": [
      "['Welcome', 'to', 'python', 'class']\n"
     ]
    }
   ],
   "source": [
    "#creation of list using split()\n",
    "msg=\"Welcome to python class\"\n",
    "l=msg.split()\n",
    "print(l)"
   ]
  },
  {
   "cell_type": "code",
   "execution_count": 1,
   "id": "7da2d2f1",
   "metadata": {},
   "outputs": [
    {
     "name": "stdout",
     "output_type": "stream",
     "text": [
      "23\n",
      "34\n",
      "54\n",
      "25\n"
     ]
    }
   ],
   "source": [
    "#accessing list using index\n",
    "l=[23,34,54,25]\n",
    "print(l[0])\n",
    "print(l[1])\n",
    "print(l[2])\n",
    "print(l[3])"
   ]
  },
  {
   "cell_type": "code",
   "execution_count": 2,
   "id": "22273382",
   "metadata": {},
   "outputs": [
    {
     "name": "stdout",
     "output_type": "stream",
     "text": [
      "[23, 34, 54, 25]\n",
      "[23, 34]\n"
     ]
    }
   ],
   "source": [
    "#accessing list using slice operator\n",
    "l=[23,34,54,25]\n",
    "print(l[::])\n",
    "print(l[:2])"
   ]
  },
  {
   "cell_type": "code",
   "execution_count": 3,
   "id": "478dbbac",
   "metadata": {},
   "outputs": [
    {
     "name": "stdout",
     "output_type": "stream",
     "text": [
      "[23, 34, 54, 25]\n",
      "[23, 34, 54, 25]\n",
      "[23, 34, 54, 25]\n",
      "[23, 34, 54, 25]\n"
     ]
    }
   ],
   "source": [
    "#traversing list using for loop\n",
    "l=[23,34,54,25]\n",
    "for i in l:\n",
    "    print(l)"
   ]
  },
  {
   "cell_type": "code",
   "execution_count": 5,
   "id": "58d733a6",
   "metadata": {},
   "outputs": [
    {
     "name": "stdout",
     "output_type": "stream",
     "text": [
      "[23, 34, 54, 25]\n",
      "[23, 34, 54, 25]\n",
      "[23, 34, 54, 25]\n",
      "[23, 34, 54, 25]\n"
     ]
    }
   ],
   "source": [
    "#traversing list using while loop\n",
    "l=[23,34,54,25]\n",
    "i=0\n",
    "while i<=3:\n",
    "    print(l)\n",
    "    i=i+1"
   ]
  }
 ],
 "metadata": {
  "kernelspec": {
   "display_name": "Python 3 (ipykernel)",
   "language": "python",
   "name": "python3"
  },
  "language_info": {
   "codemirror_mode": {
    "name": "ipython",
    "version": 3
   },
   "file_extension": ".py",
   "mimetype": "text/x-python",
   "name": "python",
   "nbconvert_exporter": "python",
   "pygments_lexer": "ipython3",
   "version": "3.11.4"
  }
 },
 "nbformat": 4,
 "nbformat_minor": 5
}
