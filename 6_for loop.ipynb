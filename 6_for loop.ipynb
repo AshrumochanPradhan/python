{
 "cells": [
  {
   "cell_type": "code",
   "execution_count": 1,
   "id": "c847c3d9",
   "metadata": {},
   "outputs": [
    {
     "name": "stdout",
     "output_type": "stream",
     "text": [
      "a\n",
      "s\n",
      "h\n",
      "r\n",
      "u\n"
     ]
    }
   ],
   "source": [
    "#print the output\n",
    "a=\"ashru\"\n",
    "for i in a:\n",
    "    print(i)"
   ]
  },
  {
   "cell_type": "code",
   "execution_count": 3,
   "id": "19c08e9a",
   "metadata": {},
   "outputs": [
    {
     "name": "stdout",
     "output_type": "stream",
     "text": [
      "a 140715712661248\n",
      "s 140715712662256\n",
      "h 140715712661640\n",
      "r 140715712662200\n",
      "u 140715712662368\n"
     ]
    }
   ],
   "source": [
    "print  each letter with id\n",
    "a=\"ashru\"\n",
    "for i in a:\n",
    "    print(f'{i} {id(i)}')"
   ]
  },
  {
   "cell_type": "code",
   "execution_count": 4,
   "id": "3a9c78cf",
   "metadata": {},
   "outputs": [
    {
     "name": "stdout",
     "output_type": "stream",
     "text": [
      "a140715712661248\n",
      "s140715712662256\n",
      "h140715712661640\n",
      "r140715712662200\n",
      "u140715712662368\n",
      "u\n"
     ]
    }
   ],
   "source": [
    "#print the output of this program\n",
    "a=\"ashru\"\n",
    "for i in a:\n",
    "    print(f'{i}{id(i)}')\n",
    "print(i)\n",
    "    "
   ]
  },
  {
   "cell_type": "code",
   "execution_count": 5,
   "id": "2c5f432c",
   "metadata": {},
   "outputs": [
    {
     "name": "stdout",
     "output_type": "stream",
     "text": [
      "c 140715712661360\n",
      "i 140715712661696\n",
      "n 140715712661976\n",
      "e 140715712661472\n",
      "m 140715712661920\n",
      "a 140715712661248\n",
      "a\n"
     ]
    }
   ],
   "source": [
    "#print the output of this program\n",
    "for c in 'cinema':\n",
    "    print(f'{c} {id(c)}')\n",
    "print(c)"
   ]
  },
  {
   "cell_type": "code",
   "execution_count": 6,
   "id": "b73221f2",
   "metadata": {},
   "outputs": [
    {
     "ename": "TypeError",
     "evalue": "'int' object is not iterable",
     "output_type": "error",
     "traceback": [
      "\u001b[1;31m---------------------------------------------------------------------------\u001b[0m",
      "\u001b[1;31mTypeError\u001b[0m                                 Traceback (most recent call last)",
      "Cell \u001b[1;32mIn[6], line 2\u001b[0m\n\u001b[0;32m      1\u001b[0m n\u001b[38;5;241m=\u001b[39m\u001b[38;5;241m345\u001b[39m\n\u001b[1;32m----> 2\u001b[0m \u001b[38;5;28;01mfor\u001b[39;00m i \u001b[38;5;129;01min\u001b[39;00m n:\n\u001b[0;32m      3\u001b[0m     \u001b[38;5;28mprint\u001b[39m(i)\n",
      "\u001b[1;31mTypeError\u001b[0m: 'int' object is not iterable"
     ]
    }
   ],
   "source": [
    "#int datatype with loop\n",
    "n=345\n",
    "for i in n:\n",
    "    print(i)"
   ]
  },
  {
   "cell_type": "code",
   "execution_count": 7,
   "id": "0e55c1c4",
   "metadata": {},
   "outputs": [
    {
     "name": "stdout",
     "output_type": "stream",
     "text": [
      "2\n",
      "3\n",
      "4\n"
     ]
    }
   ],
   "source": [
    "#str datatype with loop\n",
    "n='234'\n",
    "for i in n:\n",
    "    print(i)"
   ]
  },
  {
   "cell_type": "code",
   "execution_count": 1,
   "id": "9af2d68f",
   "metadata": {},
   "outputs": [
    {
     "ename": "TypeError",
     "evalue": "'float' object is not iterable",
     "output_type": "error",
     "traceback": [
      "\u001b[1;31m---------------------------------------------------------------------------\u001b[0m",
      "\u001b[1;31mTypeError\u001b[0m                                 Traceback (most recent call last)",
      "Cell \u001b[1;32mIn[1], line 2\u001b[0m\n\u001b[0;32m      1\u001b[0m n\u001b[38;5;241m=\u001b[39m\u001b[38;5;241m34.5\u001b[39m\n\u001b[1;32m----> 2\u001b[0m \u001b[38;5;28;01mfor\u001b[39;00m i \u001b[38;5;129;01min\u001b[39;00m n:\n\u001b[0;32m      3\u001b[0m     \u001b[38;5;28mprint\u001b[39m(i)\n",
      "\u001b[1;31mTypeError\u001b[0m: 'float' object is not iterable"
     ]
    }
   ],
   "source": [
    "#float datatype with loop\n",
    "n=34.5\n",
    "for i in n:\n",
    "    print(i)"
   ]
  },
  {
   "cell_type": "code",
   "execution_count": 2,
   "id": "85a0467a",
   "metadata": {},
   "outputs": [
    {
     "ename": "TypeError",
     "evalue": "'bool' object is not iterable",
     "output_type": "error",
     "traceback": [
      "\u001b[1;31m---------------------------------------------------------------------------\u001b[0m",
      "\u001b[1;31mTypeError\u001b[0m                                 Traceback (most recent call last)",
      "Cell \u001b[1;32mIn[2], line 2\u001b[0m\n\u001b[0;32m      1\u001b[0m p\u001b[38;5;241m=\u001b[39m\u001b[38;5;28;01mTrue\u001b[39;00m\n\u001b[1;32m----> 2\u001b[0m \u001b[38;5;28;01mfor\u001b[39;00m i \u001b[38;5;129;01min\u001b[39;00m p:\n\u001b[0;32m      3\u001b[0m     \u001b[38;5;28mprint\u001b[39m(i)\n",
      "\u001b[1;31mTypeError\u001b[0m: 'bool' object is not iterable"
     ]
    }
   ],
   "source": [
    "#bool datatype with loop\n",
    "p=True\n",
    "for i in p:\n",
    "    print(i)"
   ]
  },
  {
   "cell_type": "code",
   "execution_count": 4,
   "id": "a274a01f",
   "metadata": {},
   "outputs": [
    {
     "ename": "TypeError",
     "evalue": "'complex' object is not iterable",
     "output_type": "error",
     "traceback": [
      "\u001b[1;31m---------------------------------------------------------------------------\u001b[0m",
      "\u001b[1;31mTypeError\u001b[0m                                 Traceback (most recent call last)",
      "Cell \u001b[1;32mIn[4], line 2\u001b[0m\n\u001b[0;32m      1\u001b[0m s\u001b[38;5;241m=\u001b[39m\u001b[38;5;241m10\u001b[39m\u001b[38;5;241m+\u001b[39m\u001b[38;5;241m3\u001b[39mj\n\u001b[1;32m----> 2\u001b[0m \u001b[38;5;28;01mfor\u001b[39;00m i \u001b[38;5;129;01min\u001b[39;00m s:\n\u001b[0;32m      3\u001b[0m     \u001b[38;5;28mprint\u001b[39m(i)\n",
      "\u001b[1;31mTypeError\u001b[0m: 'complex' object is not iterable"
     ]
    }
   ],
   "source": [
    "#complex datatype with loop\n",
    "s=10+3j\n",
    "for i in s:\n",
    "    print(i)"
   ]
  },
  {
   "cell_type": "code",
   "execution_count": 5,
   "id": "131f5ab2",
   "metadata": {},
   "outputs": [
    {
     "name": "stdout",
     "output_type": "stream",
     "text": [
      "ashru\n",
      "satya\n",
      "samir\n"
     ]
    }
   ],
   "source": [
    "#print the name using for loop\n",
    "a=['ashru','satya','samir']\n",
    "for i in a:\n",
    "    print(i)"
   ]
  },
  {
   "cell_type": "code",
   "execution_count": 7,
   "id": "42373038",
   "metadata": {},
   "outputs": [
    {
     "name": "stdout",
     "output_type": "stream",
     "text": [
      "a\n",
      "s\n",
      "h\n",
      "r\n",
      "u\n",
      "s\n",
      "a\n",
      "t\n",
      "y\n",
      "a\n",
      "s\n",
      "a\n",
      "m\n",
      "i\n",
      "r\n"
     ]
    }
   ],
   "source": [
    "#print  each letter of the word using for loop\n",
    "a=['ashru','satya','samir']\n",
    "for i in a:\n",
    "    for j in i:\n",
    "      print(j)"
   ]
  },
  {
   "cell_type": "code",
   "execution_count": null,
   "id": "f49118ed",
   "metadata": {},
   "outputs": [],
   "source": [
    "#for with range"
   ]
  },
  {
   "cell_type": "code",
   "execution_count": 8,
   "id": "b32b2021",
   "metadata": {},
   "outputs": [
    {
     "name": "stdout",
     "output_type": "stream",
     "text": [
      "1\n",
      "2\n",
      "3\n",
      "4\n",
      "5\n",
      "6\n"
     ]
    }
   ],
   "source": [
    "for i in range(1,7):\n",
    "    print(i)"
   ]
  },
  {
   "cell_type": "code",
   "execution_count": 9,
   "id": "4f7ba71a",
   "metadata": {},
   "outputs": [
    {
     "name": "stdout",
     "output_type": "stream",
     "text": [
      "10\n",
      "7\n",
      "4\n"
     ]
    }
   ],
   "source": [
    "#print the number using for with range\n",
    "for i in range(10,1,-3):\n",
    "    print(i)"
   ]
  },
  {
   "cell_type": "code",
   "execution_count": 10,
   "id": "935bbb84",
   "metadata": {},
   "outputs": [
    {
     "name": "stdout",
     "output_type": "stream",
     "text": [
      "1\n",
      "3\n",
      "5\n"
     ]
    }
   ],
   "source": [
    "#print the number using for with range\n",
    "for i in range(1,7,2):\n",
    "    print(i)"
   ]
  },
  {
   "cell_type": "code",
   "execution_count": 11,
   "id": "ae960bd0",
   "metadata": {},
   "outputs": [
    {
     "name": "stdout",
     "output_type": "stream",
     "text": [
      "ashru\n",
      "ashru\n",
      "ashru\n",
      "ashru\n",
      "ashru\n",
      "ashru\n"
     ]
    }
   ],
   "source": [
    "#print the name using for with range\n",
    "for i in range(1,7):\n",
    "    print('ashru')"
   ]
  },
  {
   "cell_type": "code",
   "execution_count": 13,
   "id": "04a1ac0e",
   "metadata": {},
   "outputs": [
    {
     "name": "stdout",
     "output_type": "stream",
     "text": [
      "daka\n",
      "ashru\n",
      "daka\n",
      "ashru\n",
      "daka\n",
      "ashru\n"
     ]
    }
   ],
   "source": [
    "#print the output\n",
    "for i in range(1,7):\n",
    "    if i%2==0:\n",
    "        print('ashru')\n",
    "    else:\n",
    "        print('daka')\n",
    "        "
   ]
  },
  {
   "cell_type": "code",
   "execution_count": 14,
   "id": "f3abe987",
   "metadata": {},
   "outputs": [
    {
     "name": "stdout",
     "output_type": "stream",
     "text": [
      "enter value for a: 4\n",
      "enter value for b: 12\n",
      "4\n",
      "5\n",
      "6\n",
      "7\n",
      "8\n",
      "9\n",
      "10\n",
      "11\n",
      "12\n"
     ]
    }
   ],
   "source": [
    "#print the value using dynamically using for with range()\n",
    "a=int(input('enter value for a: '))\n",
    "b=int(input('enter value for b: '))\n",
    "for i in range(a,b+1):\n",
    "    print(i)"
   ]
  },
  {
   "cell_type": "code",
   "execution_count": 15,
   "id": "502c7449",
   "metadata": {},
   "outputs": [
    {
     "name": "stdout",
     "output_type": "stream",
     "text": [
      "15\n"
     ]
    }
   ],
   "source": [
    "#Wap to find out the sum of all natural no.from 1 to 5(5 included)\n",
    "result=0\n",
    "for i in range(1,6):\n",
    "    result=result+i\n",
    "print(result)"
   ]
  },
  {
   "cell_type": "code",
   "execution_count": 16,
   "id": "ca33353c",
   "metadata": {},
   "outputs": [
    {
     "name": "stdout",
     "output_type": "stream",
     "text": [
      "1\n",
      "3\n",
      "6\n",
      "10\n",
      "15\n"
     ]
    }
   ],
   "source": [
    "result=0\n",
    "for i in range(1,6):\n",
    "    result=result+i\n",
    "    print(result)  "
   ]
  },
  {
   "cell_type": "code",
   "execution_count": 17,
   "id": "bca3c3db",
   "metadata": {},
   "outputs": [
    {
     "name": "stdout",
     "output_type": "stream",
     "text": [
      "120\n"
     ]
    }
   ],
   "source": [
    "#wap to find factorial of a number\n",
    "result=1\n",
    "for i in range(1,6):\n",
    "    result=result*i\n",
    "print(result)"
   ]
  },
  {
   "cell_type": "code",
   "execution_count": 19,
   "id": "83786c8c",
   "metadata": {},
   "outputs": [
    {
     "name": "stdout",
     "output_type": "stream",
     "text": [
      "1\n",
      "2\n",
      "6\n",
      "24\n",
      "120\n"
     ]
    }
   ],
   "source": [
    "result=1\n",
    "for i in range(1,6):\n",
    "    result=result*i\n",
    "    print(result)"
   ]
  },
  {
   "cell_type": "code",
   "execution_count": 26,
   "id": "65eb64b3",
   "metadata": {},
   "outputs": [
    {
     "name": "stdout",
     "output_type": "stream",
     "text": [
      "1*1=1\n",
      "1*2=2\n",
      "2*3=6\n",
      "6*4=24\n",
      "24*5=120\n"
     ]
    }
   ],
   "source": [
    "result=1\n",
    "for i in range(1,6):\n",
    "    print(f'{result}*{i}={result*i}')\n",
    "    result=result*i"
   ]
  },
  {
   "cell_type": "code",
   "execution_count": 27,
   "id": "b100dfae",
   "metadata": {},
   "outputs": [
    {
     "name": "stdout",
     "output_type": "stream",
     "text": [
      "enter a number check prime or not9\n",
      "not prime no\n"
     ]
    }
   ],
   "source": [
    "#wap to check a number is prime number or not\n",
    "factor=0\n",
    "a=int(input('enter a number check prime or not'))\n",
    "for i in range(1,a+1):\n",
    "    if a%2==0:\n",
    "        factor=factor+1\n",
    "if factor==2:\n",
    "    print('prime no')\n",
    "else:\n",
    "    print('not prime no')"
   ]
  },
  {
   "cell_type": "code",
   "execution_count": 28,
   "id": "1b46446a",
   "metadata": {},
   "outputs": [
    {
     "name": "stdout",
     "output_type": "stream",
     "text": [
      "*\n",
      "**\n",
      "***\n",
      "****\n",
      "*****\n"
     ]
    }
   ],
   "source": [
    "#print the * pattern using for loop\n",
    "for i in range(1,6):\n",
    "    print(i*'*')"
   ]
  },
  {
   "cell_type": "code",
   "execution_count": 29,
   "id": "5e3453b0",
   "metadata": {},
   "outputs": [
    {
     "name": "stdout",
     "output_type": "stream",
     "text": [
      "*****\n",
      "****\n",
      "***\n",
      "**\n",
      "*\n"
     ]
    }
   ],
   "source": [
    "#print the * pattern using for loop\n",
    "for i in range(5,0,-1):\n",
    "    print(i*'*')"
   ]
  },
  {
   "cell_type": "code",
   "execution_count": 30,
   "id": "a8b33b16",
   "metadata": {},
   "outputs": [
    {
     "name": "stdout",
     "output_type": "stream",
     "text": [
      "*****\n",
      "*****\n",
      "*****\n",
      "*****\n",
      "*****\n"
     ]
    }
   ],
   "source": [
    "#print the * pattern using for loop\n",
    "for i in range(1,6):\n",
    "    print(5*'*')"
   ]
  },
  {
   "cell_type": "code",
   "execution_count": null,
   "id": "5e9a477c",
   "metadata": {},
   "outputs": [],
   "source": [
    "#for with break"
   ]
  },
  {
   "cell_type": "code",
   "execution_count": 31,
   "id": "91624068",
   "metadata": {},
   "outputs": [
    {
     "name": "stdout",
     "output_type": "stream",
     "text": [
      "1\n",
      "2\n",
      "3\n",
      "4\n"
     ]
    }
   ],
   "source": [
    "for i in range(1,11):\n",
    "    if i==5:\n",
    "        break\n",
    "    print(i)"
   ]
  },
  {
   "cell_type": "code",
   "execution_count": 32,
   "id": "d557ed1c",
   "metadata": {},
   "outputs": [
    {
     "name": "stdout",
     "output_type": "stream",
     "text": [
      "1\n",
      "2\n",
      "3\n",
      "4\n",
      "5\n"
     ]
    }
   ],
   "source": [
    "for i in range(1,11):\n",
    "    print(i)\n",
    "    if i==5:\n",
    "        break\n",
    "    "
   ]
  },
  {
   "cell_type": "code",
   "execution_count": 33,
   "id": "6c1da29f",
   "metadata": {},
   "outputs": [
    {
     "name": "stdout",
     "output_type": "stream",
     "text": [
      "1\n",
      "1\n",
      "2\n",
      "2\n",
      "3\n",
      "3\n",
      "4\n",
      "4\n",
      "5\n"
     ]
    }
   ],
   "source": [
    "for i in range(1,11):\n",
    "    print(i)\n",
    "    if i==5:\n",
    "        break\n",
    "    print(i)"
   ]
  },
  {
   "cell_type": "code",
   "execution_count": 35,
   "id": "e1bcbc05",
   "metadata": {},
   "outputs": [
    {
     "name": "stdout",
     "output_type": "stream",
     "text": [
      "1\n",
      "2\n",
      "3\n",
      "4\n",
      "5\n",
      "5\n"
     ]
    }
   ],
   "source": [
    "for i in range(1,11):\n",
    "    print(i)\n",
    "    if i==5:\n",
    "        print(i)\n",
    "        break"
   ]
  },
  {
   "cell_type": "code",
   "execution_count": 36,
   "id": "cce24264",
   "metadata": {},
   "outputs": [
    {
     "name": "stdout",
     "output_type": "stream",
     "text": [
      "1\n",
      "2\n",
      "3\n",
      "4\n",
      "5\n",
      "5\n"
     ]
    }
   ],
   "source": [
    "for i in range(1,11):\n",
    "    print(i)\n",
    "    if i==5:\n",
    "        print(i)\n",
    "        break\n",
    "        print(i)"
   ]
  },
  {
   "cell_type": "code",
   "execution_count": 37,
   "id": "f585d05d",
   "metadata": {},
   "outputs": [
    {
     "name": "stdout",
     "output_type": "stream",
     "text": [
      "1\n",
      "2\n"
     ]
    }
   ],
   "source": [
    "for i in range(1,11):\n",
    "    if i%3==0 or i%4==0:\n",
    "        break\n",
    "    print(i)"
   ]
  },
  {
   "cell_type": "code",
   "execution_count": 38,
   "id": "2167ff46",
   "metadata": {},
   "outputs": [
    {
     "name": "stdout",
     "output_type": "stream",
     "text": [
      "1\n",
      "2\n",
      "3\n",
      "4\n",
      "5\n",
      "6\n",
      "7\n",
      "8\n",
      "9\n",
      "10\n"
     ]
    }
   ],
   "source": [
    "#print the output\n",
    "for i in range(1,11):\n",
    "    if i%3==0 and i%4==0:\n",
    "        break\n",
    "    print(i)"
   ]
  },
  {
   "cell_type": "code",
   "execution_count": 40,
   "id": "d78d636b",
   "metadata": {},
   "outputs": [
    {
     "name": "stdout",
     "output_type": "stream",
     "text": [
      "1\n",
      "2\n",
      "3\n",
      "4\n",
      "5\n"
     ]
    }
   ],
   "source": [
    "#print the output\n",
    "for i in range(1,11):\n",
    "    if i%3==0 and i%2==0:\n",
    "        break\n",
    "    print(i)"
   ]
  },
  {
   "cell_type": "code",
   "execution_count": 43,
   "id": "68601251",
   "metadata": {},
   "outputs": [
    {
     "name": "stdout",
     "output_type": "stream",
     "text": [
      "1\n",
      "2\n",
      "3\n",
      "4\n",
      "5\n",
      "7\n",
      "8\n",
      "9\n",
      "10\n"
     ]
    }
   ],
   "source": [
    "#for with continue\n",
    "for i in range(1,11):\n",
    "    if i==6:\n",
    "       continue\n",
    "    print(i)"
   ]
  },
  {
   "cell_type": "code",
   "execution_count": 45,
   "id": "815349a4",
   "metadata": {},
   "outputs": [
    {
     "name": "stdout",
     "output_type": "stream",
     "text": [
      "1\n",
      "2\n",
      "3\n",
      "4\n",
      "5\n",
      "6\n",
      "7\n"
     ]
    }
   ],
   "source": [
    "for i in range(1,8):\n",
    "    print(i)\n",
    "    if i==6:\n",
    "       continue\n"
   ]
  },
  {
   "cell_type": "code",
   "execution_count": 46,
   "id": "17b15787",
   "metadata": {},
   "outputs": [
    {
     "name": "stdout",
     "output_type": "stream",
     "text": [
      "1\n",
      "1\n",
      "2\n",
      "2\n",
      "3\n",
      "3\n",
      "4\n",
      "4\n",
      "5\n",
      "5\n",
      "6\n",
      "7\n",
      "7\n"
     ]
    }
   ],
   "source": [
    "for i in range(1,8):\n",
    "    print(i)\n",
    "    if i==6:\n",
    "       continue\n",
    "    print(i)"
   ]
  },
  {
   "cell_type": "code",
   "execution_count": 47,
   "id": "96a1f32d",
   "metadata": {},
   "outputs": [
    {
     "name": "stdout",
     "output_type": "stream",
     "text": [
      "1\n",
      "1\n",
      "2\n",
      "2\n",
      "3\n",
      "4\n",
      "4\n",
      "5\n",
      "6\n",
      "6\n"
     ]
    }
   ],
   "source": [
    "for i in range(1,7):\n",
    "    print(i)\n",
    "    if i==3 or i==5:\n",
    "       continue\n",
    "    print(i)"
   ]
  },
  {
   "cell_type": "code",
   "execution_count": 48,
   "id": "c1687210",
   "metadata": {},
   "outputs": [
    {
     "name": "stdout",
     "output_type": "stream",
     "text": [
      "1\n",
      "1\n",
      "2\n",
      "2\n",
      "3\n",
      "3\n",
      "4\n",
      "4\n",
      "5\n",
      "5\n",
      "6\n"
     ]
    }
   ],
   "source": [
    "for i in range(1,7):\n",
    "    print(i)\n",
    "    if i%2==0 and i%3==0:\n",
    "       continue\n",
    "    print(i)"
   ]
  },
  {
   "cell_type": "code",
   "execution_count": null,
   "id": "244a3f14",
   "metadata": {},
   "outputs": [],
   "source": [
    "#for with pass"
   ]
  },
  {
   "cell_type": "code",
   "execution_count": 49,
   "id": "06d1ea0d",
   "metadata": {},
   "outputs": [
    {
     "name": "stdout",
     "output_type": "stream",
     "text": [
      "1 is odd\n",
      "3 is odd\n",
      "5 is odd\n",
      "7 is odd\n"
     ]
    }
   ],
   "source": [
    "for i in range(1,9):\n",
    "    if i%2==0:\n",
    "        pass\n",
    "    else:\n",
    "        print(f'{i} is odd')"
   ]
  },
  {
   "cell_type": "code",
   "execution_count": 51,
   "id": "909ab103",
   "metadata": {},
   "outputs": [
    {
     "name": "stdout",
     "output_type": "stream",
     "text": [
      "8\n"
     ]
    }
   ],
   "source": [
    "for i in range(1,9):\n",
    "    if i%2==0:\n",
    "        pass\n",
    "    else:\n",
    "        pass\n",
    "print(i)"
   ]
  },
  {
   "cell_type": "code",
   "execution_count": null,
   "id": "78f9a758",
   "metadata": {},
   "outputs": [],
   "source": [
    "#for with else"
   ]
  },
  {
   "cell_type": "code",
   "execution_count": 52,
   "id": "92917387",
   "metadata": {},
   "outputs": [
    {
     "name": "stdout",
     "output_type": "stream",
     "text": [
      "1\n",
      "2\n",
      "3\n",
      "4\n",
      "5\n",
      "i m else block\n"
     ]
    }
   ],
   "source": [
    "for i in range(1,6):\n",
    "    print(i)\n",
    "else:\n",
    "    print('i m else block')"
   ]
  },
  {
   "cell_type": "code",
   "execution_count": 53,
   "id": "847fd611",
   "metadata": {},
   "outputs": [
    {
     "name": "stdout",
     "output_type": "stream",
     "text": [
      "1\n",
      "2\n",
      "3\n",
      "4\n"
     ]
    }
   ],
   "source": [
    "for i in range(1,11):\n",
    "    if i==5:\n",
    "        break\n",
    "    print(i)\n",
    "else:\n",
    "    print('i m else block')"
   ]
  },
  {
   "cell_type": "code",
   "execution_count": null,
   "id": "e84649a8",
   "metadata": {},
   "outputs": [],
   "source": [
    "#nested for loop"
   ]
  },
  {
   "cell_type": "code",
   "execution_count": 54,
   "id": "174bf4c4",
   "metadata": {},
   "outputs": [
    {
     "name": "stdout",
     "output_type": "stream",
     "text": [
      "a\n",
      "s\n",
      "h\n",
      "r\n",
      "u\n",
      "s\n",
      "a\n",
      "t\n",
      "y\n",
      "a\n",
      "s\n",
      "a\n",
      "m\n",
      "i\n",
      "r\n"
     ]
    }
   ],
   "source": [
    "name=['ashru','satya','samir']\n",
    "for i in name:\n",
    "    for j in i:\n",
    "        print(j)"
   ]
  },
  {
   "cell_type": "code",
   "execution_count": 55,
   "id": "e68afbee",
   "metadata": {},
   "outputs": [
    {
     "name": "stdout",
     "output_type": "stream",
     "text": [
      "a\n",
      "s\n",
      "h\n",
      "r\n",
      "u\n"
     ]
    }
   ],
   "source": [
    "name=['ashru']\n",
    "for i in name:\n",
    "    for j in i:\n",
    "        print(j)"
   ]
  },
  {
   "cell_type": "code",
   "execution_count": 58,
   "id": "9325d129",
   "metadata": {},
   "outputs": [
    {
     "name": "stdout",
     "output_type": "stream",
     "text": [
      "a\n",
      "s\n",
      "h\n",
      "r\n",
      "u\n"
     ]
    }
   ],
   "source": [
    "name='ashru'\n",
    "for i in name:\n",
    "        print(i)"
   ]
  },
  {
   "cell_type": "code",
   "execution_count": 59,
   "id": "4dc9a33a",
   "metadata": {},
   "outputs": [
    {
     "name": "stdout",
     "output_type": "stream",
     "text": [
      "a\n"
     ]
    }
   ],
   "source": [
    "name='a'\n",
    "for i in name:\n",
    "        print(i)"
   ]
  },
  {
   "cell_type": "code",
   "execution_count": 62,
   "id": "0c338285",
   "metadata": {},
   "outputs": [
    {
     "name": "stdout",
     "output_type": "stream",
     "text": [
      "1    1\n",
      "1    2\n",
      "1    3\n",
      "2    1\n",
      "2    2\n",
      "2    3\n",
      "3    1\n",
      "3    2\n",
      "3    3\n"
     ]
    }
   ],
   "source": [
    "for i in range(1,4):\n",
    "    for j in range(1,4):\n",
    "        print(f'{i}    {j}')"
   ]
  },
  {
   "cell_type": "code",
   "execution_count": 63,
   "id": "1f64e99b",
   "metadata": {},
   "outputs": [
    {
     "name": "stdout",
     "output_type": "stream",
     "text": [
      "i=1  j=1\n",
      "i=1  j=2\n",
      "i=1  j=3\n",
      "i=2  j=1\n",
      "i=2  j=2\n",
      "i=2  j=3\n",
      "i=3  j=1\n",
      "i=3  j=2\n",
      "i=3  j=3\n"
     ]
    }
   ],
   "source": [
    "for i in range(1,4):\n",
    "    for j in range(1,4):\n",
    "        print(f'i={i}  j={j}')"
   ]
  },
  {
   "cell_type": "code",
   "execution_count": 64,
   "id": "45910a18",
   "metadata": {},
   "outputs": [
    {
     "name": "stdout",
     "output_type": "stream",
     "text": [
      "5*1=5\n",
      "5*2=10\n",
      "5*3=15\n",
      "5*4=20\n",
      "5*5=25\n",
      "5*6=30\n",
      "5*7=35\n",
      "5*8=40\n",
      "5*9=45\n",
      "5*10=50\n"
     ]
    }
   ],
   "source": [
    "for i in range(1,11):\n",
    "    print(f'{5}*{i}={5*i}')"
   ]
  }
 ],
 "metadata": {
  "kernelspec": {
   "display_name": "Python 3 (ipykernel)",
   "language": "python",
   "name": "python3"
  },
  "language_info": {
   "codemirror_mode": {
    "name": "ipython",
    "version": 3
   },
   "file_extension": ".py",
   "mimetype": "text/x-python",
   "name": "python",
   "nbconvert_exporter": "python",
   "pygments_lexer": "ipython3",
   "version": "3.11.4"
  }
 },
 "nbformat": 4,
 "nbformat_minor": 5
}
