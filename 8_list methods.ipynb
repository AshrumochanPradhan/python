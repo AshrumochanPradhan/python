{
 "cells": [
  {
   "cell_type": "code",
   "execution_count": null,
   "id": "bcf77a4c",
   "metadata": {},
   "outputs": [],
   "source": [
    "#append()"
   ]
  },
  {
   "cell_type": "code",
   "execution_count": 1,
   "id": "3b2b4bd0",
   "metadata": {},
   "outputs": [
    {
     "name": "stdout",
     "output_type": "stream",
     "text": [
      "[10, 20, 30]\n",
      "[10, 20, 30, 34]\n",
      "[10, 20, 30, 34, 54]\n"
     ]
    }
   ],
   "source": [
    "l=[10,20,30]\n",
    "print(l)\n",
    "l.append(34)\n",
    "print(l)\n",
    "l.append(54)\n",
    "print(l)"
   ]
  },
  {
   "cell_type": "code",
   "execution_count": 2,
   "id": "3e3dab4b",
   "metadata": {},
   "outputs": [
    {
     "name": "stdout",
     "output_type": "stream",
     "text": [
      "[]\n",
      "[177]\n",
      "140714741180712\n",
      "140714741180712\n",
      "140714741180712\n",
      "140714741175432\n"
     ]
    }
   ],
   "source": [
    "#append\n",
    "l=[]\n",
    "print(l)\n",
    "l.append(177)\n",
    "print(l)\n",
    "l.append(177)\n",
    "print(id(l[0]))\n",
    "print(id(l[1]))\n",
    "l[1]=12\n",
    "print(id(l[0]))\n",
    "print(id(l[1]))"
   ]
  },
  {
   "cell_type": "code",
   "execution_count": 3,
   "id": "8552a2c9",
   "metadata": {},
   "outputs": [
    {
     "ename": "IndexError",
     "evalue": "list assignment index out of range",
     "output_type": "error",
     "traceback": [
      "\u001b[1;31m---------------------------------------------------------------------------\u001b[0m",
      "\u001b[1;31mIndexError\u001b[0m                                Traceback (most recent call last)",
      "Cell \u001b[1;32mIn[3], line 3\u001b[0m\n\u001b[0;32m      1\u001b[0m \u001b[38;5;66;03m#wap to add an element at end of the list without using append()\u001b[39;00m\n\u001b[0;32m      2\u001b[0m l\u001b[38;5;241m=\u001b[39m[\u001b[38;5;241m10\u001b[39m,\u001b[38;5;241m20\u001b[39m,\u001b[38;5;241m30\u001b[39m]\n\u001b[1;32m----> 3\u001b[0m l[\u001b[38;5;241m4\u001b[39m]\u001b[38;5;241m=\u001b[39m\u001b[38;5;241m28\u001b[39m\n\u001b[0;32m      4\u001b[0m \u001b[38;5;28mprint\u001b[39m(l)\n",
      "\u001b[1;31mIndexError\u001b[0m: list assignment index out of range"
     ]
    }
   ],
   "source": [
    "#wap to add an element at end of the list without using append()\n",
    "l=[10,20,30]\n",
    "l[4]=28\n",
    "print(l)"
   ]
  },
  {
   "cell_type": "code",
   "execution_count": 5,
   "id": "3c10c530",
   "metadata": {},
   "outputs": [
    {
     "name": "stdout",
     "output_type": "stream",
     "text": [
      "[10, 20, 30, 45]\n"
     ]
    }
   ],
   "source": [
    "#update the list\n",
    "l=[10,20,30,40]\n",
    "l[3]=45\n",
    "print(l)\n"
   ]
  },
  {
   "cell_type": "code",
   "execution_count": 6,
   "id": "48c3fec8",
   "metadata": {},
   "outputs": [
    {
     "name": "stdout",
     "output_type": "stream",
     "text": [
      "[0, 0, 0, 0, 0, 0, 0, 0, 0, 0]\n"
     ]
    }
   ],
   "source": [
    "#wap to create a list by adding 10 o's\n",
    "l=[]\n",
    "for i in range(1,11):\n",
    "    l.append(0)\n",
    "print(l)"
   ]
  },
  {
   "cell_type": "code",
   "execution_count": 8,
   "id": "b49f8a81",
   "metadata": {},
   "outputs": [
    {
     "name": "stdout",
     "output_type": "stream",
     "text": [
      "[1, 2, 3, 4, 5, 6, 7, 8, 9, 10]\n"
     ]
    }
   ],
   "source": [
    "#add the value in l from 0 to 10\n",
    "l=[]\n",
    "for i in range(1,11):\n",
    "    l.append(i)\n",
    "print(l)"
   ]
  },
  {
   "cell_type": "code",
   "execution_count": 9,
   "id": "576e4f46",
   "metadata": {},
   "outputs": [
    {
     "name": "stdout",
     "output_type": "stream",
     "text": [
      "[0, 1, 2, 3, 4, 5, 6, 7, 8, 9]\n"
     ]
    }
   ],
   "source": [
    "#add the value in l from 0 to 9\n",
    "l=[]\n",
    "for i in range(10):\n",
    "    l.append(i)\n",
    "print(l)"
   ]
  },
  {
   "cell_type": "code",
   "execution_count": 10,
   "id": "fde08302",
   "metadata": {},
   "outputs": [
    {
     "name": "stdout",
     "output_type": "stream",
     "text": [
      "[1, 5, 9, 13, 17, 21]\n"
     ]
    }
   ],
   "source": [
    "#add the value in l from 1 to 23\n",
    "l=[]\n",
    "for i in range(1,23,4):\n",
    "    l.append(i)\n",
    "print(l)"
   ]
  },
  {
   "cell_type": "code",
   "execution_count": 12,
   "id": "4919febe",
   "metadata": {},
   "outputs": [
    {
     "name": "stdout",
     "output_type": "stream",
     "text": [
      "[100, 102, 104, 106, 108, 110, 112, 114, 116, 118, 120, 122, 124, 126, 128, 130]\n",
      "\n",
      "[101, 103, 105, 107, 109, 111, 113, 115, 117, 119, 121, 123, 125, 127, 129]\n"
     ]
    }
   ],
   "source": [
    "#wap to separate  all the even and odd number and print it\n",
    "even_list=[]\n",
    "odd_list=[]\n",
    "for i in range(100,131):\n",
    "    if i%2==0:\n",
    "        even_list.append(i)\n",
    "    else:\n",
    "        odd_list.append(i)\n",
    "print(even_list)\n",
    "print()\n",
    "print(odd_list)"
   ]
  },
  {
   "cell_type": "code",
   "execution_count": 13,
   "id": "7ff5805a",
   "metadata": {},
   "outputs": [
    {
     "name": "stdout",
     "output_type": "stream",
     "text": [
      "['ashru', 'satya', 'mongo db']\n"
     ]
    }
   ],
   "source": [
    "#wap to create a list named as str_list by adding all string element from l\n",
    "l=[10,20,30,'ashru','satya','mongo db',636.3]\n",
    "str_list=[]\n",
    "for i in l:\n",
    "    if type(i)==str:\n",
    "        str_list.append(i)\n",
    "print(str_list)"
   ]
  },
  {
   "cell_type": "code",
   "execution_count": 15,
   "id": "7903b239",
   "metadata": {},
   "outputs": [
    {
     "name": "stdout",
     "output_type": "stream",
     "text": [
      "['ashru', 'satya', 'chanu']\n",
      "['a', 's', 'c']\n"
     ]
    }
   ],
   "source": [
    "#wap to print the 1st letter of every word and stored in a different list\n",
    "l=['ashru','satya','chanu']\n",
    "s=[]\n",
    "for i in l:\n",
    "    s.append(i[0])\n",
    "print(l)\n",
    "print(s)"
   ]
  },
  {
   "cell_type": "code",
   "execution_count": 16,
   "id": "c9d324ce",
   "metadata": {},
   "outputs": [
    {
     "name": "stdout",
     "output_type": "stream",
     "text": [
      "['ashru', 'satya', 'chanu']\n",
      "[5, 5, 5]\n"
     ]
    }
   ],
   "source": [
    "#wap to find out the length of each word\n",
    "l=['ashru','satya','chanu']\n",
    "length=[]\n",
    "for i in l:\n",
    "    length.append(len(i))\n",
    "print(l)\n",
    "print(length)"
   ]
  },
  {
   "cell_type": "code",
   "execution_count": null,
   "id": "a7bca4a3",
   "metadata": {},
   "outputs": [],
   "source": [
    "#wap to print that string whose letter no is greater than or equal to 5"
   ]
  },
  {
   "cell_type": "code",
   "execution_count": 17,
   "id": "9c8b60f8",
   "metadata": {},
   "outputs": [
    {
     "name": "stdout",
     "output_type": "stream",
     "text": [
      "['ashru', 'satya', 'chanu', 'miky', 'salinm']\n",
      "['ashru', 'satya', 'chanu', 'salinm']\n"
     ]
    }
   ],
   "source": [
    "l=['ashru','satya','chanu','miky','salinm']\n",
    "s=[]\n",
    "for i in l:\n",
    "    if len(i)>=5:\n",
    "        s.append(i)\n",
    "print(l)\n",
    "print(s)"
   ]
  },
  {
   "cell_type": "code",
   "execution_count": 19,
   "id": "cbdfbae2",
   "metadata": {},
   "outputs": [
    {
     "name": "stdout",
     "output_type": "stream",
     "text": [
      "[5, 5, 7]\n"
     ]
    }
   ],
   "source": [
    "#wap to find out the length of each word\n",
    "l=['ashru','satya','chandni']\n",
    "count=0\n",
    "for i in l:\n",
    "    l[count]=len(i)\n",
    "    count=count+1\n",
    "print(l)"
   ]
  },
  {
   "cell_type": "code",
   "execution_count": 30,
   "id": "b62236eb",
   "metadata": {},
   "outputs": [
    {
     "name": "stdout",
     "output_type": "stream",
     "text": [
      "[4, 5, 8, 8]\n"
     ]
    }
   ],
   "source": [
    "#wap a program to fin out this output\n",
    "#l=['surendra','priyanka','rahul','zini']\n",
    "#l=[4,5,8,8]\n",
    "l=['surendra','priyanka','rahul','zini']\n",
    "count=0\n",
    "for i in l:\n",
    "    l[count]=len(i)\n",
    "    count=count+1\n",
    "l.reverse()\n",
    "print(l)"
   ]
  },
  {
   "cell_type": "code",
   "execution_count": 20,
   "id": "f4276829",
   "metadata": {},
   "outputs": [
    {
     "name": "stdout",
     "output_type": "stream",
     "text": [
      "Enter  a value : 24\n",
      "Enter  a value : -34\n",
      "Enter  a value : -56\n",
      "Enter  a value : -2\n",
      "Enter  a value : 3536\n",
      "Enter  a value : -1\n",
      "[24, -34, -56, -2, 3536]\n"
     ]
    }
   ],
   "source": [
    "#wap to create a list ddynamicallyby appending data untill press -1\n",
    "l=[]\n",
    "while True:\n",
    "    val=int(input('Enter  a value : '))\n",
    "    if val==-1:\n",
    "        break\n",
    "    l.append(val)\n",
    "print(l)"
   ]
  },
  {
   "cell_type": "code",
   "execution_count": null,
   "id": "21a4c64b",
   "metadata": {},
   "outputs": [],
   "source": [
    "#insert()"
   ]
  },
  {
   "cell_type": "code",
   "execution_count": 21,
   "id": "406de2ab",
   "metadata": {},
   "outputs": [
    {
     "name": "stdout",
     "output_type": "stream",
     "text": [
      "[10, 20, 30, 40]\n",
      "[10, 20, 45, 30, 40]\n"
     ]
    }
   ],
   "source": [
    "l=[10,20,30,40]\n",
    "print(l)\n",
    "l.insert(2,45)\n",
    "print(l)"
   ]
  },
  {
   "cell_type": "code",
   "execution_count": 22,
   "id": "c76ee8c1",
   "metadata": {},
   "outputs": [
    {
     "name": "stdout",
     "output_type": "stream",
     "text": [
      "[10, 20, 30, 40]\n",
      "[45, 10, 20, 30, 40]\n"
     ]
    }
   ],
   "source": [
    "l=[10,20,30,40]\n",
    "print(l)\n",
    "l.insert(-20,45)\n",
    "print(l)"
   ]
  },
  {
   "cell_type": "code",
   "execution_count": null,
   "id": "4e4f4c09",
   "metadata": {},
   "outputs": [],
   "source": [
    "#count()"
   ]
  },
  {
   "cell_type": "code",
   "execution_count": 23,
   "id": "36ef9403",
   "metadata": {},
   "outputs": [
    {
     "name": "stdout",
     "output_type": "stream",
     "text": [
      "3\n",
      "2\n"
     ]
    }
   ],
   "source": [
    "l=[10,20,30,10,20,10]\n",
    "print(l.count(10))\n",
    "print(l.count(20))"
   ]
  },
  {
   "cell_type": "code",
   "execution_count": 24,
   "id": "b5cb5ff6",
   "metadata": {},
   "outputs": [
    {
     "name": "stdout",
     "output_type": "stream",
     "text": [
      "Enter a number to check number of occurances: 34\n",
      "0\n"
     ]
    }
   ],
   "source": [
    "#program to count a number without using count()method\n",
    "l=[10,20,30,10,20,10]\n",
    "count=0\n",
    "num=int(input('Enter a number to check number of occurances: '))\n",
    "for i in l:\n",
    "    if i==num:\n",
    "        count=count+1\n",
    "print(count)"
   ]
  },
  {
   "cell_type": "code",
   "execution_count": null,
   "id": "ab160e19",
   "metadata": {},
   "outputs": [],
   "source": [
    "#index()"
   ]
  },
  {
   "cell_type": "code",
   "execution_count": 25,
   "id": "c6823e20",
   "metadata": {},
   "outputs": [
    {
     "name": "stdout",
     "output_type": "stream",
     "text": [
      "2\n",
      "5\n"
     ]
    },
    {
     "ename": "ValueError",
     "evalue": "345 is not in list",
     "output_type": "error",
     "traceback": [
      "\u001b[1;31m---------------------------------------------------------------------------\u001b[0m",
      "\u001b[1;31mValueError\u001b[0m                                Traceback (most recent call last)",
      "Cell \u001b[1;32mIn[25], line 4\u001b[0m\n\u001b[0;32m      2\u001b[0m \u001b[38;5;28mprint\u001b[39m(l\u001b[38;5;241m.\u001b[39mindex(\u001b[38;5;241m23\u001b[39m))\n\u001b[0;32m      3\u001b[0m \u001b[38;5;28mprint\u001b[39m(l\u001b[38;5;241m.\u001b[39mindex(\u001b[38;5;241m11\u001b[39m))\n\u001b[1;32m----> 4\u001b[0m \u001b[38;5;28mprint\u001b[39m(l\u001b[38;5;241m.\u001b[39mindex(\u001b[38;5;241m345\u001b[39m))\n",
      "\u001b[1;31mValueError\u001b[0m: 345 is not in list"
     ]
    }
   ],
   "source": [
    "l=[10,20,23,33,23,11,22,44,23]\n",
    "print(l.index(23))\n",
    "print(l.index(11))\n",
    "print(l.index(345))"
   ]
  },
  {
   "cell_type": "code",
   "execution_count": 29,
   "id": "d436aa23",
   "metadata": {},
   "outputs": [
    {
     "name": "stdout",
     "output_type": "stream",
     "text": [
      "3\n"
     ]
    }
   ],
   "source": [
    "#print  the index of a specified value without using index() method\n",
    "l=[10,20,23,33,23,11,22,44,23]\n",
    "val=33\n",
    "count=0\n",
    "for i in l:\n",
    "    if i==val:\n",
    "        print(count)\n",
    "        break\n",
    "    count=count+1"
   ]
  },
  {
   "cell_type": "code",
   "execution_count": 31,
   "id": "2fbdddcc",
   "metadata": {},
   "outputs": [
    {
     "name": "stdout",
     "output_type": "stream",
     "text": [
      "value is 10 index is 0\n"
     ]
    }
   ],
   "source": [
    "# find out the value of index using format string\n",
    "l=[10,20,23,33,23,11,22,44,23]\n",
    "val=10\n",
    "count=0\n",
    "for i in l:\n",
    "    if i==val:\n",
    "        print(f'value is {val} index is {count}')\n",
    "        break\n",
    "    count=count+1"
   ]
  },
  {
   "cell_type": "code",
   "execution_count": 33,
   "id": "4b9f5bde",
   "metadata": {},
   "outputs": [
    {
     "name": "stdout",
     "output_type": "stream",
     "text": [
      "value is 23 index is 2\n",
      "value is 23 index is 4\n",
      "value is 23 index is 8\n"
     ]
    }
   ],
   "source": [
    "# find out the value of index using format string\n",
    "l=[10,20,23,33,23,11,22,44,23]\n",
    "val=23\n",
    "count=0\n",
    "for i in l:\n",
    "    if i==val:\n",
    "        print(f'value is {val} index is {count}')\n",
    "    count=count+1"
   ]
  },
  {
   "cell_type": "code",
   "execution_count": null,
   "id": "a7c5121d",
   "metadata": {},
   "outputs": [],
   "source": [
    "#remove"
   ]
  },
  {
   "cell_type": "code",
   "execution_count": 34,
   "id": "e80569fa",
   "metadata": {},
   "outputs": [
    {
     "name": "stdout",
     "output_type": "stream",
     "text": [
      "[10, 20, 33, 23, 11, 22, 44, 23]\n",
      "[10, 20, 33, 23, 22, 44, 23]\n"
     ]
    }
   ],
   "source": [
    "l=[10,20,23,33,23,11,22,44,23]\n",
    "l.remove(23)\n",
    "print(l)\n",
    "l.remove(11)\n",
    "print(l)"
   ]
  },
  {
   "cell_type": "code",
   "execution_count": 2,
   "id": "f18c60ae",
   "metadata": {},
   "outputs": [
    {
     "name": "stdout",
     "output_type": "stream",
     "text": [
      "[10, 20, 33, 11, 22, 44]\n"
     ]
    }
   ],
   "source": [
    "l=[10,20,23,33,23,11,22,44,23]\n",
    "l.remove(23)\n",
    "l.remove(23)\n",
    "l.remove(23)\n",
    "print(l)"
   ]
  },
  {
   "cell_type": "code",
   "execution_count": null,
   "id": "f8c008bb",
   "metadata": {},
   "outputs": [],
   "source": [
    "#pop"
   ]
  },
  {
   "cell_type": "code",
   "execution_count": 3,
   "id": "6e7b7fd2",
   "metadata": {},
   "outputs": [
    {
     "name": "stdout",
     "output_type": "stream",
     "text": [
      "40\n",
      "[10, 20, 30]\n",
      "30\n",
      "[10, 20]\n"
     ]
    }
   ],
   "source": [
    "l=[10,20,30,40]\n",
    "print(l.pop())\n",
    "print(l)\n",
    "print(l.pop(2))\n",
    "print(l)"
   ]
  },
  {
   "cell_type": "code",
   "execution_count": null,
   "id": "3fc1dc90",
   "metadata": {},
   "outputs": [],
   "source": [
    "#extend()"
   ]
  },
  {
   "cell_type": "code",
   "execution_count": 4,
   "id": "37deb48f",
   "metadata": {},
   "outputs": [
    {
     "name": "stdout",
     "output_type": "stream",
     "text": [
      "['c', 'java', 'php', 'AI', 'ML']\n",
      "['AI', 'ML']\n"
     ]
    }
   ],
   "source": [
    "oldgf=['c','java','php']\n",
    "newgf=['AI','ML']\n",
    "oldgf.extend(newgf)\n",
    "print(oldgf)\n",
    "print(newgf)"
   ]
  },
  {
   "cell_type": "code",
   "execution_count": 5,
   "id": "5f240a5d",
   "metadata": {},
   "outputs": [
    {
     "name": "stdout",
     "output_type": "stream",
     "text": [
      "[10, 20, 30, 'a', 's', 'h', 'r', 'u']\n"
     ]
    }
   ],
   "source": [
    "l=[10,20,30]\n",
    "name='ashru'\n",
    "l.extend(name)\n",
    "print(l)"
   ]
  },
  {
   "cell_type": "code",
   "execution_count": 6,
   "id": "6ed9d6b2",
   "metadata": {},
   "outputs": [
    {
     "name": "stdout",
     "output_type": "stream",
     "text": [
      "[10, 20, 30, 23, 34, 57]\n"
     ]
    }
   ],
   "source": [
    "l=[10,20,30]\n",
    "x=(23,34,57)\n",
    "l.extend(x)\n",
    "print(l)"
   ]
  },
  {
   "cell_type": "code",
   "execution_count": 7,
   "id": "6dc9ea5a",
   "metadata": {},
   "outputs": [
    {
     "ename": "TypeError",
     "evalue": "'int' object is not iterable",
     "output_type": "error",
     "traceback": [
      "\u001b[1;31m---------------------------------------------------------------------------\u001b[0m",
      "\u001b[1;31mTypeError\u001b[0m                                 Traceback (most recent call last)",
      "Cell \u001b[1;32mIn[7], line 3\u001b[0m\n\u001b[0;32m      1\u001b[0m l\u001b[38;5;241m=\u001b[39m[\u001b[38;5;241m10\u001b[39m,\u001b[38;5;241m20\u001b[39m,\u001b[38;5;241m30\u001b[39m]\n\u001b[0;32m      2\u001b[0m x\u001b[38;5;241m=\u001b[39m\u001b[38;5;241m667\u001b[39m\n\u001b[1;32m----> 3\u001b[0m l\u001b[38;5;241m.\u001b[39mextend(x)\n\u001b[0;32m      4\u001b[0m \u001b[38;5;28mprint\u001b[39m(l)\n",
      "\u001b[1;31mTypeError\u001b[0m: 'int' object is not iterable"
     ]
    }
   ],
   "source": [
    "l=[10,20,30]\n",
    "x=667\n",
    "l.extend(x)\n",
    "print(l)"
   ]
  },
  {
   "cell_type": "code",
   "execution_count": 8,
   "id": "d6051f7f",
   "metadata": {},
   "outputs": [
    {
     "name": "stdout",
     "output_type": "stream",
     "text": [
      "[10, 20, 30, '5', '5', '7']\n"
     ]
    }
   ],
   "source": [
    "l=[10,20,30]\n",
    "x=\"557\"\n",
    "l.extend(x)\n",
    "print(l)"
   ]
  },
  {
   "cell_type": "code",
   "execution_count": null,
   "id": "b364fd89",
   "metadata": {},
   "outputs": [],
   "source": [
    "#reverse()"
   ]
  },
  {
   "cell_type": "code",
   "execution_count": 9,
   "id": "d7f2c752",
   "metadata": {},
   "outputs": [
    {
     "name": "stdout",
     "output_type": "stream",
     "text": [
      "[30, 20, 10]\n"
     ]
    }
   ],
   "source": [
    "l=[10,20,30]\n",
    "l.reverse()\n",
    "print(l)"
   ]
  },
  {
   "cell_type": "code",
   "execution_count": 10,
   "id": "db30988b",
   "metadata": {},
   "outputs": [
    {
     "name": "stdout",
     "output_type": "stream",
     "text": [
      "[30, 20, 10]\n",
      "[10, 20, 30]\n"
     ]
    }
   ],
   "source": [
    "l=[10,20,30]\n",
    "print(l[::-1])\n",
    "print(l)"
   ]
  },
  {
   "cell_type": "code",
   "execution_count": 11,
   "id": "ce718b87",
   "metadata": {},
   "outputs": [
    {
     "name": "stdout",
     "output_type": "stream",
     "text": [
      "[30, 20, 10]\n",
      "[10, 20, 30]\n"
     ]
    }
   ],
   "source": [
    "l=[10,20,30]\n",
    "x=l[::-1]\n",
    "print(x)\n",
    "print(l)"
   ]
  },
  {
   "cell_type": "code",
   "execution_count": 13,
   "id": "599e9a6c",
   "metadata": {},
   "outputs": [
    {
     "name": "stdout",
     "output_type": "stream",
     "text": [
      "[30, 20, 10]\n"
     ]
    }
   ],
   "source": [
    "#USES OF S\n",
    "l=[10,20,30]\n",
    "l=l[::-1]\n",
    "print(l)"
   ]
  },
  {
   "cell_type": "code",
   "execution_count": null,
   "id": "ab6bc1e5",
   "metadata": {},
   "outputs": [],
   "source": [
    "#sort()"
   ]
  },
  {
   "cell_type": "code",
   "execution_count": 14,
   "id": "70f5a91a",
   "metadata": {},
   "outputs": [
    {
     "name": "stdout",
     "output_type": "stream",
     "text": [
      "[1, 15, 34, 37, 152, 39736]\n"
     ]
    }
   ],
   "source": [
    "l=[15,34,1,37,39736,152]\n",
    "l.sort()\n",
    "print(l)"
   ]
  },
  {
   "cell_type": "code",
   "execution_count": 15,
   "id": "77564261",
   "metadata": {},
   "outputs": [
    {
     "name": "stdout",
     "output_type": "stream",
     "text": [
      "[39736, 152, 37, 34, 15, 1]\n"
     ]
    }
   ],
   "source": [
    "#sort in reverse order\n",
    "l=[15,34,1,37,39736,152]\n",
    "l.sort(reverse=True)\n",
    "print(l)"
   ]
  },
  {
   "cell_type": "code",
   "execution_count": 17,
   "id": "ccd825db",
   "metadata": {},
   "outputs": [
    {
     "name": "stdout",
     "output_type": "stream",
     "text": [
      "['satya', 'ashru']\n",
      "[24, 31, 12, 3]\n",
      "['satya', 'ashru']\n",
      "[3, 12, 24, 31]\n"
     ]
    }
   ],
   "source": [
    "#separate the string and integer value\n",
    "l=['satya','ashru',24,31,12,3]\n",
    "str_list=[]\n",
    "int_list=[]\n",
    "for i in l:\n",
    "    if type(i)==str:\n",
    "        str_list.append(i)\n",
    "    elif type(i)==int:\n",
    "        int_list.append(i)\n",
    "print(str_list)\n",
    "print(int_list)\n",
    "str_list.sort\n",
    "int_list.sort()\n",
    "print(str_list)\n",
    "print(int_list)"
   ]
  },
  {
   "cell_type": "code",
   "execution_count": null,
   "id": "0d0a31cf",
   "metadata": {},
   "outputs": [],
   "source": [
    "#clear()"
   ]
  },
  {
   "cell_type": "code",
   "execution_count": 18,
   "id": "bbeb4e33",
   "metadata": {},
   "outputs": [
    {
     "name": "stdout",
     "output_type": "stream",
     "text": [
      "[23, 33, 43, 23, 53, 64, 23]\n",
      "[]\n"
     ]
    }
   ],
   "source": [
    "l=[23,33,43,23,53,64,23]\n",
    "print(l)\n",
    "l.clear()\n",
    "print(l)"
   ]
  },
  {
   "cell_type": "code",
   "execution_count": 19,
   "id": "966f9975",
   "metadata": {},
   "outputs": [
    {
     "name": "stdout",
     "output_type": "stream",
     "text": [
      "[10, 20, 30]\n"
     ]
    },
    {
     "ename": "NameError",
     "evalue": "name 'l' is not defined",
     "output_type": "error",
     "traceback": [
      "\u001b[1;31m---------------------------------------------------------------------------\u001b[0m",
      "\u001b[1;31mNameError\u001b[0m                                 Traceback (most recent call last)",
      "Cell \u001b[1;32mIn[19], line 4\u001b[0m\n\u001b[0;32m      2\u001b[0m \u001b[38;5;28mprint\u001b[39m(l)\n\u001b[0;32m      3\u001b[0m \u001b[38;5;28;01mdel\u001b[39;00m l\n\u001b[1;32m----> 4\u001b[0m \u001b[38;5;28mprint\u001b[39m(l)\n",
      "\u001b[1;31mNameError\u001b[0m: name 'l' is not defined"
     ]
    }
   ],
   "source": [
    "#uses del()\n",
    "l=[10,20,30]\n",
    "print(l)\n",
    "del l\n",
    "print(l)"
   ]
  },
  {
   "cell_type": "markdown",
   "id": "84fdbe5b",
   "metadata": {},
   "source": []
  },
  {
   "cell_type": "code",
   "execution_count": 27,
   "id": "783cd358",
   "metadata": {},
   "outputs": [
    {
     "ename": "IndexError",
     "evalue": "pop index out of range",
     "output_type": "error",
     "traceback": [
      "\u001b[1;31m---------------------------------------------------------------------------\u001b[0m",
      "\u001b[1;31mIndexError\u001b[0m                                Traceback (most recent call last)",
      "Cell \u001b[1;32mIn[27], line 3\u001b[0m\n\u001b[0;32m      1\u001b[0m l\u001b[38;5;241m=\u001b[39m[\u001b[38;5;241m10\u001b[39m,\u001b[38;5;241m20\u001b[39m,\u001b[38;5;241m30\u001b[39m,\u001b[38;5;241m10\u001b[39m]\n\u001b[0;32m      2\u001b[0m \u001b[38;5;28;01mfor\u001b[39;00m i \u001b[38;5;129;01min\u001b[39;00m l:\n\u001b[1;32m----> 3\u001b[0m     l\u001b[38;5;241m.\u001b[39mpop(i)\n\u001b[0;32m      4\u001b[0m \u001b[38;5;28mprint\u001b[39m(l)\n",
      "\u001b[1;31mIndexError\u001b[0m: pop index out of range"
     ]
    }
   ],
   "source": [
    "#clear all the data without usingclear()\n",
    "l=[10,20,30,10]\n",
    "for i in l:\n",
    "    l.pop(i)\n",
    "print(l)"
   ]
  },
  {
   "cell_type": "code",
   "execution_count": 28,
   "id": "9638922b",
   "metadata": {},
   "outputs": [
    {
     "name": "stdout",
     "output_type": "stream",
     "text": [
      "[10, 20]\n"
     ]
    }
   ],
   "source": [
    "#clear all the data without usingclear()\n",
    "l=[10,20,30,10]\n",
    "for i in l:\n",
    "    l.pop()\n",
    "print(l)"
   ]
  },
  {
   "cell_type": "code",
   "execution_count": 31,
   "id": "b7bc3c26",
   "metadata": {},
   "outputs": [
    {
     "name": "stdout",
     "output_type": "stream",
     "text": [
      "[20, 40, 20]\n"
     ]
    }
   ],
   "source": [
    "#clear all the data without using clear()\n",
    "l=[10,20,30,40,10,20]\n",
    "for i in l:\n",
    "    l.remove(i)\n",
    "print(l)"
   ]
  }
 ],
 "metadata": {
  "kernelspec": {
   "display_name": "Python 3 (ipykernel)",
   "language": "python",
   "name": "python3"
  },
  "language_info": {
   "codemirror_mode": {
    "name": "ipython",
    "version": 3
   },
   "file_extension": ".py",
   "mimetype": "text/x-python",
   "name": "python",
   "nbconvert_exporter": "python",
   "pygments_lexer": "ipython3",
   "version": "3.11.4"
  }
 },
 "nbformat": 4,
 "nbformat_minor": 5
}
