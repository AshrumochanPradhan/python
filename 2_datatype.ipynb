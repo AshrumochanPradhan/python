{
 "cells": [
  {
   "cell_type": "markdown",
   "id": "7014cafc",
   "metadata": {},
   "source": [
    "# DATATYPE"
   ]
  },
  {
   "cell_type": "code",
   "execution_count": 1,
   "id": "5096b444",
   "metadata": {},
   "outputs": [
    {
     "name": "stdout",
     "output_type": "stream",
     "text": [
      "['False', 'None', 'True', 'and', 'as', 'assert', 'async', 'await', 'break', 'class', 'continue', 'def', 'del', 'elif', 'else', 'except', 'finally', 'for', 'from', 'global', 'if', 'import', 'in', 'is', 'lambda', 'nonlocal', 'not', 'or', 'pass', 'raise', 'return', 'try', 'while', 'with', 'yield']\n",
      "35\n"
     ]
    }
   ],
   "source": [
    "#import the keyword and how manny keyword is present in python\n",
    "import keyword\n",
    "print(keyword.kwlist)\n",
    "print(len(keyword.kwlist))"
   ]
  },
  {
   "cell_type": "code",
   "execution_count": 4,
   "id": "6dde351c",
   "metadata": {},
   "outputs": [
    {
     "name": "stdout",
     "output_type": "stream",
     "text": [
      "40\n"
     ]
    }
   ],
   "source": [
    "#find out the value\n",
    "x=10+10*3\n",
    "print(x)\n"
   ]
  },
  {
   "cell_type": "code",
   "execution_count": 6,
   "id": "6b8559b5",
   "metadata": {},
   "outputs": [
    {
     "name": "stdout",
     "output_type": "stream",
     "text": [
      "dipu\n",
      "21\n",
      "299877.09\n",
      "<class 'bool'>\n"
     ]
    }
   ],
   "source": [
    "#Tell the output\n",
    "name=\"dipu\"\n",
    "age=21\n",
    "bnk_balance=299877.09\n",
    "isMarried=False\n",
    "print(name)\n",
    "print(age)\n",
    "print(bnk_balance)\n",
    "print(type(isMarried))"
   ]
  },
  {
   "cell_type": "code",
   "execution_count": 7,
   "id": "d8e2c237",
   "metadata": {},
   "outputs": [
    {
     "name": "stdout",
     "output_type": "stream",
     "text": [
      "3077070450672\n",
      "140736219093480\n",
      "140736219093480\n"
     ]
    }
   ],
   "source": [
    "#Tell the output\n",
    "name=\"chinmay\"\n",
    "age=55\n",
    "bank_balance=55\n",
    "print(id(name))\n",
    "print(id(age))\n",
    "print(id(bank_balance))"
   ]
  },
  {
   "cell_type": "code",
   "execution_count": 8,
   "id": "24e37c88",
   "metadata": {},
   "outputs": [
    {
     "name": "stdout",
     "output_type": "stream",
     "text": [
      "100\n"
     ]
    },
    {
     "ename": "NameError",
     "evalue": "name 't' is not defined",
     "output_type": "error",
     "traceback": [
      "\u001b[1;31m---------------------------------------------------------------------------\u001b[0m",
      "\u001b[1;31mNameError\u001b[0m                                 Traceback (most recent call last)",
      "Cell \u001b[1;32mIn[8], line 4\u001b[0m\n\u001b[0;32m      2\u001b[0m \u001b[38;5;28mprint\u001b[39m(k)\n\u001b[0;32m      3\u001b[0m \u001b[38;5;28;01mdel\u001b[39;00m k\n\u001b[1;32m----> 4\u001b[0m \u001b[38;5;28mprint\u001b[39m(t)\n",
      "\u001b[1;31mNameError\u001b[0m: name 't' is not defined"
     ]
    }
   ],
   "source": [
    "#Tell the output\n",
    "k=100\n",
    "print(k)\n",
    "del k\n",
    "print(t)\n"
   ]
  },
  {
   "cell_type": "code",
   "execution_count": 9,
   "id": "c84ed694",
   "metadata": {},
   "outputs": [
    {
     "name": "stdout",
     "output_type": "stream",
     "text": [
      "23\n",
      "23\n",
      "140736219092456\n",
      "140736219092456\n"
     ]
    }
   ],
   "source": [
    "#Tell the output\n",
    "m=23\n",
    "print(m)\n",
    "l=m\n",
    "print(l)\n",
    "print(id(l))\n",
    "print(id(m))"
   ]
  },
  {
   "cell_type": "code",
   "execution_count": 10,
   "id": "11fb57f8",
   "metadata": {},
   "outputs": [
    {
     "name": "stdout",
     "output_type": "stream",
     "text": [
      "140736219091752\n",
      "140736217623072\n"
     ]
    }
   ],
   "source": [
    "#Tell the output\n",
    "a=1\n",
    "b=True\n",
    "print(id(a))\n",
    "print(id(b))"
   ]
  },
  {
   "cell_type": "code",
   "execution_count": 11,
   "id": "c2d8a829",
   "metadata": {},
   "outputs": [
    {
     "name": "stdout",
     "output_type": "stream",
     "text": [
      "True\n"
     ]
    }
   ],
   "source": [
    "#Tell the output\n",
    "a=1\n",
    "b=True\n",
    "print(a==b) #check value"
   ]
  },
  {
   "cell_type": "code",
   "execution_count": 12,
   "id": "b0333cb7",
   "metadata": {},
   "outputs": [
    {
     "name": "stdout",
     "output_type": "stream",
     "text": [
      "False\n"
     ]
    }
   ],
   "source": [
    "#Tell the output\n",
    "a=1\n",
    "b=True\n",
    "print(a is b) #check address"
   ]
  },
  {
   "cell_type": "code",
   "execution_count": 13,
   "id": "f864f5f1",
   "metadata": {},
   "outputs": [
    {
     "name": "stdout",
     "output_type": "stream",
     "text": [
      "True\n",
      "False\n",
      "3077086880240\n",
      "3077086880688\n"
     ]
    }
   ],
   "source": [
    "#Tell the output\n",
    "x=10+34j\n",
    "y=10+34j\n",
    "print(x==y)\n",
    "print(x is y)\n",
    "print(id(x))\n",
    "print(id(y))\n"
   ]
  },
  {
   "cell_type": "code",
   "execution_count": 14,
   "id": "306b512b",
   "metadata": {},
   "outputs": [
    {
     "name": "stdout",
     "output_type": "stream",
     "text": [
      "140736219091752\n",
      "140736217623072\n",
      "140736219091752\n"
     ]
    }
   ],
   "source": [
    "#Tell the output\n",
    "x=1\n",
    "y=True\n",
    "x=x*y\n",
    "print(id(x))\n",
    "print(id(y))\n",
    "print(id(x))"
   ]
  }
 ],
 "metadata": {
  "kernelspec": {
   "display_name": "Python 3 (ipykernel)",
   "language": "python",
   "name": "python3"
  },
  "language_info": {
   "codemirror_mode": {
    "name": "ipython",
    "version": 3
   },
   "file_extension": ".py",
   "mimetype": "text/x-python",
   "name": "python",
   "nbconvert_exporter": "python",
   "pygments_lexer": "ipython3",
   "version": "3.11.4"
  }
 },
 "nbformat": 4,
 "nbformat_minor": 5
}
