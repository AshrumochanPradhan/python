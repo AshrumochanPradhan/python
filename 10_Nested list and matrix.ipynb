{
 "cells": [
  {
   "cell_type": "code",
   "execution_count": 1,
   "id": "98f4ce3d",
   "metadata": {},
   "outputs": [
    {
     "name": "stdout",
     "output_type": "stream",
     "text": [
      "[10, 20, 30, 40, 11, 12, 13, 14]\n"
     ]
    }
   ],
   "source": [
    "#joint of two list\n",
    "l=[10,20,30,40]\n",
    "s=[11,12,13,14]\n",
    "data=l+s\n",
    "print(data)"
   ]
  },
  {
   "cell_type": "code",
   "execution_count": 2,
   "id": "fcfa4f75",
   "metadata": {},
   "outputs": [
    {
     "name": "stdout",
     "output_type": "stream",
     "text": [
      "[21, 32, 43, 54]\n"
     ]
    }
   ],
   "source": [
    "#vector operation of two list\n",
    "l=[10,20,30,40]\n",
    "s=[11,12,13,14]\n",
    "data=[l[0]+s[0],l[1]+s[1],l[2]+s[2],l[3]+s[3]]\n",
    "print(data)"
   ]
  },
  {
   "cell_type": "code",
   "execution_count": 3,
   "id": "860116b7",
   "metadata": {},
   "outputs": [
    {
     "name": "stdout",
     "output_type": "stream",
     "text": [
      "[21, 32, 43, 54]\n"
     ]
    }
   ],
   "source": [
    "#vector operation of two list using for loop\n",
    "l=[10,20,30,40]\n",
    "s=[11,12,13,14]\n",
    "data=[]\n",
    "for i in range(4):\n",
    "    data.append(l[i]+s[i])\n",
    "print(data)"
   ]
  },
  {
   "cell_type": "code",
   "execution_count": 5,
   "id": "eef4de55",
   "metadata": {},
   "outputs": [
    {
     "name": "stdout",
     "output_type": "stream",
     "text": [
      "[21, 32, 43, 54]\n"
     ]
    }
   ],
   "source": [
    "#vector operation of two list using while loop\n",
    "l=[10,20,30,40]\n",
    "s=[11,12,13,14]\n",
    "data=[]\n",
    "i=0\n",
    "while i<=3:\n",
    "    data.append(l[i]+s[i])\n",
    "    i=i+1\n",
    "print(data)"
   ]
  },
  {
   "cell_type": "code",
   "execution_count": 6,
   "id": "57e0acf5",
   "metadata": {},
   "outputs": [
    {
     "name": "stdout",
     "output_type": "stream",
     "text": [
      "[21, 32, 43, 54]\n"
     ]
    }
   ],
   "source": [
    "#vector operation of two list using for loop with range\n",
    "l=[10,20,30,40]\n",
    "s=[11,12,13,14]\n",
    "data=[]\n",
    "for i in range(len(l)):\n",
    "    data.append(l[i]+s[i])\n",
    "print(data)"
   ]
  },
  {
   "cell_type": "code",
   "execution_count": 7,
   "id": "7e9737ec",
   "metadata": {},
   "outputs": [
    {
     "name": "stdout",
     "output_type": "stream",
     "text": [
      "[21, 32, 43, 54]\n"
     ]
    }
   ],
   "source": [
    "#vector operation of two list with different number of element\n",
    "l=[10,20,30,40]\n",
    "s=[11,12,13,14,15]\n",
    "data=[]\n",
    "for i in range(len(l)):\n",
    "    data.append(l[i]+s[i])\n",
    "print(data)"
   ]
  },
  {
   "cell_type": "code",
   "execution_count": 8,
   "id": "43d35c34",
   "metadata": {},
   "outputs": [
    {
     "ename": "IndexError",
     "evalue": "list index out of range",
     "output_type": "error",
     "traceback": [
      "\u001b[1;31m---------------------------------------------------------------------------\u001b[0m",
      "\u001b[1;31mIndexError\u001b[0m                                Traceback (most recent call last)",
      "Cell \u001b[1;32mIn[8], line 6\u001b[0m\n\u001b[0;32m      4\u001b[0m data\u001b[38;5;241m=\u001b[39m[]\n\u001b[0;32m      5\u001b[0m \u001b[38;5;28;01mfor\u001b[39;00m i \u001b[38;5;129;01min\u001b[39;00m \u001b[38;5;28mrange\u001b[39m(\u001b[38;5;28mlen\u001b[39m(s)):\n\u001b[1;32m----> 6\u001b[0m     data\u001b[38;5;241m.\u001b[39mappend(l[i]\u001b[38;5;241m+\u001b[39ms[i])\n\u001b[0;32m      7\u001b[0m \u001b[38;5;28mprint\u001b[39m(data)\n",
      "\u001b[1;31mIndexError\u001b[0m: list index out of range"
     ]
    }
   ],
   "source": [
    "#vector operation of two list with different number of element\n",
    "l=[10,20,30,40]\n",
    "s=[11,12,13,14,15]\n",
    "data=[]\n",
    "for i in range(len(s)):\n",
    "    data.append(l[i]+s[i])\n",
    "print(data)"
   ]
  },
  {
   "cell_type": "code",
   "execution_count": 9,
   "id": "b99d3bec",
   "metadata": {},
   "outputs": [
    {
     "name": "stdout",
     "output_type": "stream",
     "text": [
      "vector operation is not possible\n",
      "[]\n"
     ]
    }
   ],
   "source": [
    "#vector operation of two list with different number of element\n",
    "l=[10,20,30,40]\n",
    "s=[11,12,13,14,15]\n",
    "data=[]\n",
    "if len(l)==len(s):\n",
    "    for i in range(len(l)):\n",
    "        data.append(l[i]+s[i])\n",
    "else:\n",
    "    print('vector operation is not possible')\n",
    "print(data)"
   ]
  },
  {
   "cell_type": "code",
   "execution_count": 10,
   "id": "59ef0932",
   "metadata": {},
   "outputs": [
    {
     "name": "stdout",
     "output_type": "stream",
     "text": [
      "[21, 32, 43, 54]\n"
     ]
    }
   ],
   "source": [
    "#vector operation of two list with different number of element\n",
    "l=[10,20,30,40]\n",
    "s=[11,12,13,14]\n",
    "data=[]\n",
    "if len(l)==len(s):\n",
    "    for i in range(len(l)):\n",
    "        data.append(l[i]+s[i])\n",
    "else:\n",
    "    print('vector operation is not possible')\n",
    "print(data)"
   ]
  },
  {
   "cell_type": "code",
   "execution_count": 6,
   "id": "525bfe69",
   "metadata": {},
   "outputs": [
    {
     "name": "stdout",
     "output_type": "stream",
     "text": [
      "140715686338440\n",
      "140715686341640\n",
      "140715686338440\n",
      "2362203671408\n",
      "2362203671376\n",
      "140715686339144\n",
      "140715686341640\n",
      "[100, 200, 523, 266, 122]\n",
      "140715686338440\n",
      "140715686341640\n",
      "2362203671408\n",
      "2362203671376\n",
      "140715686339144\n"
     ]
    }
   ],
   "source": [
    "# wap to delete all  duplicate element of a list\n",
    "# l=[100,,200,100,523,266,122,200]\n",
    "# o/p:l=[100,200,523,266,122]\n",
    "l=[100,200,100,523,266,122,200]\n",
    "t=[]\n",
    "for i in l:\n",
    "    if i not in t:\n",
    "        t.append(i)\n",
    "for i in l:\n",
    "    print(id(i))\n",
    "print(t)\n",
    "for i in t:\n",
    "    print(id(i))"
   ]
  },
  {
   "cell_type": "code",
   "execution_count": 1,
   "id": "2cecdb9d",
   "metadata": {},
   "outputs": [
    {
     "name": "stdout",
     "output_type": "stream",
     "text": [
      "5 3\n",
      "6 2\n"
     ]
    }
   ],
   "source": [
    "# program the pair whose sum will be 8\n",
    "# l=[2,3,5,4,8,6]\n",
    "# excepted o/p : 5,3 6,2\n",
    "l=[2,3,5,4,8,6]\n",
    "for i in l:\n",
    "    for j in l:\n",
    "        if i+j==8:\n",
    "            if i!=j and i>j:\n",
    "                print(i,j)  "
   ]
  },
  {
   "cell_type": "code",
   "execution_count": 2,
   "id": "8d1311ae",
   "metadata": {},
   "outputs": [
    {
     "name": "stdout",
     "output_type": "stream",
     "text": [
      "1\n"
     ]
    }
   ],
   "source": [
    "#find out the min value from a list\n",
    "l=[10,20,2,3,1,5]\n",
    "min=l[0]\n",
    "for i in l:\n",
    "    if min>i:\n",
    "        min=i\n",
    "print(min)"
   ]
  },
  {
   "cell_type": "code",
   "execution_count": 3,
   "id": "4b8c0987",
   "metadata": {},
   "outputs": [
    {
     "name": "stdout",
     "output_type": "stream",
     "text": [
      "20\n"
     ]
    }
   ],
   "source": [
    "#find out the max value from a list\n",
    "l=[10,20,2,3,1,5]\n",
    "max=l[0]\n",
    "for i in l:\n",
    "    if max<i:\n",
    "        max=i\n",
    "print(max)"
   ]
  },
  {
   "cell_type": "code",
   "execution_count": null,
   "id": "36571aaf",
   "metadata": {},
   "outputs": [],
   "source": [
    "#nested list"
   ]
  },
  {
   "cell_type": "code",
   "execution_count": 4,
   "id": "aa52d59c",
   "metadata": {},
   "outputs": [
    {
     "name": "stdout",
     "output_type": "stream",
     "text": [
      "[[10, 20, 30], [40, 50, 60], [70, 80, 90]]\n"
     ]
    }
   ],
   "source": [
    "l=[\n",
    "    [10,20,30],\n",
    "    [40,50,60],\n",
    "    [70,80,90]\n",
    "]\n",
    "print(l)"
   ]
  },
  {
   "cell_type": "code",
   "execution_count": 5,
   "id": "b82910d1",
   "metadata": {},
   "outputs": [
    {
     "name": "stdout",
     "output_type": "stream",
     "text": [
      "[10, 'aca', 30]\n",
      "[30, 20, 60]\n",
      "[25, 'aba', 10]\n"
     ]
    }
   ],
   "source": [
    "#print each list\n",
    "l=[\n",
    "    \n",
    "    [10,'aca',30],\n",
    "    [30,20,60],\n",
    "    [25,'aba',10]\n",
    "]\n",
    "for i in l:\n",
    "    print(i)"
   ]
  },
  {
   "cell_type": "code",
   "execution_count": 10,
   "id": "b67e2022",
   "metadata": {},
   "outputs": [
    {
     "name": "stdout",
     "output_type": "stream",
     "text": [
      "10\n",
      "aca\n",
      "30\n",
      "30\n",
      "20\n",
      "60\n",
      "25\n",
      "aba\n",
      "10\n"
     ]
    }
   ],
   "source": [
    "#print each element of nested list\n",
    "l=[\n",
    "    \n",
    "    [10,'aca',30],\n",
    "    [30,20,60],\n",
    "    [25,'aba',10]\n",
    "]\n",
    "for i in l:\n",
    "    for j in i: \n",
    "        print(j)"
   ]
  },
  {
   "cell_type": "code",
   "execution_count": 11,
   "id": "637d9468",
   "metadata": {},
   "outputs": [
    {
     "name": "stdout",
     "output_type": "stream",
     "text": [
      "10=140714470708296\n",
      "aca=1836677900976\n",
      "30=140714470708936\n",
      "30=140714470708936\n",
      "20=140714470708616\n",
      "60=140714470709896\n",
      "25=140714470708776\n",
      "aba=1836677977776\n",
      "10=140714470708296\n"
     ]
    }
   ],
   "source": [
    "#print each element of nested list with id\n",
    "l=[\n",
    "    \n",
    "    [10,'aca',30],\n",
    "    [30,20,60],\n",
    "    [25,'aba',10]\n",
    "]\n",
    "for i in l:\n",
    "    for j in i: \n",
    "        print(f'{j}={id(j)}')"
   ]
  },
  {
   "cell_type": "code",
   "execution_count": 12,
   "id": "085de1d7",
   "metadata": {},
   "outputs": [
    {
     "name": "stdout",
     "output_type": "stream",
     "text": [
      "140714470754048\n",
      "140714470754048\n",
      "140714470754048\n",
      "140714470754048\n",
      "140714470708936\n",
      "140714470708936\n"
     ]
    }
   ],
   "source": [
    "l=[\n",
    "    \n",
    "    [10,'aca',30],\n",
    "    [30,20,60],\n",
    "    [25,'aba',10]\n",
    "]\n",
    "print(id(l[0][1][0]))\n",
    "print(id(l[0][1][2]))\n",
    "print(id(l[2][1][0]))\n",
    "print(id(l[0][1][2]))\n",
    "print(id(l[0][2]))\n",
    "print(id(l[1][0]))"
   ]
  },
  {
   "cell_type": "code",
   "execution_count": 12,
   "id": "29496cd4",
   "metadata": {},
   "outputs": [
    {
     "name": "stdout",
     "output_type": "stream",
     "text": [
      "140714470754048\n",
      "140714470754048\n",
      "140714470754048\n",
      "140714470754048\n",
      "140714470708936\n",
      "140714470708936\n"
     ]
    }
   ],
   "source": [
    "l=[\n",
    "    \n",
    "    [10,'aca',30],\n",
    "    [30,20,60],\n",
    "    [25,'aba',10]\n",
    "]\n",
    "print(id(l[0][1][0]))\n",
    "print(id(l[0][1][2]))\n",
    "print(id(l[2][1][0]))\n",
    "print(id(l[0][1][2]))\n",
    "print(id(l[0][2]))\n",
    "print(id(l[1][0]))"
   ]
  },
  {
   "cell_type": "code",
   "execution_count": 4,
   "id": "a2c094f8",
   "metadata": {},
   "outputs": [
    {
     "name": "stdout",
     "output_type": "stream",
     "text": [
      "0 0\n",
      "0 0\n",
      "0 1\n",
      "0 1\n",
      "0 2\n",
      "0 2\n",
      "1 0\n",
      "1 0\n",
      "1 1\n",
      "1 1\n",
      "1 2\n",
      "1 2\n",
      "2 0\n",
      "2 0\n",
      "2 1\n",
      "2 1\n",
      "2 2\n",
      "2 2\n"
     ]
    }
   ],
   "source": [
    "for i in range(3):\n",
    "    for j in range(3):\n",
    "        print(i,j)\n",
    "        print(i,j)"
   ]
  },
  {
   "cell_type": "code",
   "execution_count": 15,
   "id": "d83ff110",
   "metadata": {},
   "outputs": [
    {
     "name": "stdout",
     "output_type": "stream",
     "text": [
      "[65, 42, 98, 52, 127, 139, 82, 135, 127]\n"
     ]
    }
   ],
   "source": [
    "#vector operation of list\n",
    "l=[[10, 20, 30], [40, 50, 60], [70, 80, 90]]\n",
    "s=[[55,22,68],[12,77,79],[12,55,37]]\n",
    "data=[]\n",
    "for i in range(3):\n",
    "    for j in range(3):\n",
    "        data.append(l[i][j]+s[i][j])\n",
    "print(data)"
   ]
  },
  {
   "cell_type": "code",
   "execution_count": 2,
   "id": "77debd79",
   "metadata": {},
   "outputs": [
    {
     "name": "stdout",
     "output_type": "stream",
     "text": [
      "[[65, 42, 98], [52, 127, 139], [82, 135, 127]]\n"
     ]
    }
   ],
   "source": [
    "#vector operation of list\n",
    "l=[[10, 20, 30], [40, 50, 60], [70, 80, 90]]\n",
    "s=[[55,22,68],[12,77,79],[12,55,37]]\n",
    "data=l\n",
    "for i in range(3):\n",
    "    for j in range(3):\n",
    "        data[i][j]=l[i][j]+s[i][j]\n",
    "print(data)"
   ]
  },
  {
   "cell_type": "code",
   "execution_count": 4,
   "id": "5880e252",
   "metadata": {},
   "outputs": [
    {
     "name": "stdout",
     "output_type": "stream",
     "text": [
      "2011736829440\n",
      "2011736829760\n",
      "140714739604264\n",
      "140714739603528\n",
      "140714739605320\n",
      "140714739603848\n",
      "140714739606248\n",
      "140714739606632\n",
      "140714739604808\n",
      "140714739606504\n",
      "140714739606248\n",
      "[[65, 42, 98], [52, 127, 139], [82, 135, 127]]\n",
      "[[65, 42, 98], [52, 127, 139], [82, 135, 127]]\n",
      "2011736829760\n",
      "2011736829440\n",
      "140714739604264\n",
      "140714739603528\n",
      "140714739605320\n",
      "140714739603848\n",
      "140714739606248\n",
      "140714739606632\n",
      "140714739604808\n",
      "140714739606504\n",
      "140714739606248\n"
     ]
    }
   ],
   "source": [
    "#vector operation of list\n",
    "l=[[10, 20, 30], [40, 50, 60], [70, 80, 90]]\n",
    "s=[[55,22,68],[12,77,79],[12,55,37]]\n",
    "data=l.copy()\n",
    "for i in range(3):\n",
    "    for j in range(3):\n",
    "        data[i][j]=l[i][j]+s[i][j]\n",
    "print(id(data))\n",
    "print(id(l))\n",
    "print(id(l[0][0]))\n",
    "print(id(l[0][1]))\n",
    "print(id(l[0][2]))\n",
    "print(id(l[1][0]))\n",
    "print(id(l[1][1]))\n",
    "print(id(l[1][2]))\n",
    "print(id(l[2][0]))\n",
    "print(id(l[2][1]))\n",
    "print(id(l[2][2]))\n",
    "print(data)\n",
    "print(l)\n",
    "print(id(l))\n",
    "print(id(data))\n",
    "print(id(data[0][0]))\n",
    "print(id(data[0][1]))\n",
    "print(id(data[0][2]))\n",
    "print(id(data[1][0]))\n",
    "print(id(data[1][1]))\n",
    "print(id(data[1][2]))\n",
    "print(id(data[2][0]))\n",
    "print(id(data[2][1]))\n",
    "print(id(data[2][2]))"
   ]
  }
 ],
 "metadata": {
  "kernelspec": {
   "display_name": "Python 3 (ipykernel)",
   "language": "python",
   "name": "python3"
  },
  "language_info": {
   "codemirror_mode": {
    "name": "ipython",
    "version": 3
   },
   "file_extension": ".py",
   "mimetype": "text/x-python",
   "name": "python",
   "nbconvert_exporter": "python",
   "pygments_lexer": "ipython3",
   "version": "3.11.4"
  }
 },
 "nbformat": 4,
 "nbformat_minor": 5
}
