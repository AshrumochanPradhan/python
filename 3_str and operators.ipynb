{
 "cells": [
  {
   "cell_type": "code",
   "execution_count": 1,
   "id": "9e11ff9f",
   "metadata": {},
   "outputs": [
    {
     "name": "stdout",
     "output_type": "stream",
     "text": [
      "surendra\n",
      "<class 'str'>\n"
     ]
    }
   ],
   "source": [
    "#Tell the output\n",
    "age=26\n",
    "bal=1500.00\n",
    "name='surendra'\n",
    "print(name)\n",
    "print(type(name))"
   ]
  },
  {
   "cell_type": "code",
   "execution_count": 2,
   "id": "462a8ccb",
   "metadata": {},
   "outputs": [
    {
     "name": "stdout",
     "output_type": "stream",
     "text": [
      "ashru\n"
     ]
    }
   ],
   "source": [
    "#Tell the output\n",
    "name=\"ashru\"\n",
    "print(name)"
   ]
  },
  {
   "cell_type": "code",
   "execution_count": 3,
   "id": "22f31c41",
   "metadata": {},
   "outputs": [
    {
     "name": "stdout",
     "output_type": "stream",
     "text": [
      "daka\n"
     ]
    }
   ],
   "source": [
    "#Tell the output\n",
    "name='''daka'''\n",
    "print(name)"
   ]
  },
  {
   "cell_type": "markdown",
   "id": "fc809a8b",
   "metadata": {},
   "source": []
  },
  {
   "cell_type": "code",
   "execution_count": 4,
   "id": "48ac80e7",
   "metadata": {},
   "outputs": [
    {
     "name": "stdout",
     "output_type": "stream",
     "text": [
      "\n",
      "     name:bbsr\n",
      "     pin:751021\n",
      "     lane:7\n",
      "     place:niladri vihar\n",
      "\n"
     ]
    }
   ],
   "source": [
    "#Tell the output\n",
    "address=\"\"\"\n",
    "     name:bbsr\n",
    "     pin:751021\n",
    "     lane:7\n",
    "     place:niladri vihar\n",
    "\"\"\"\n",
    "print(address)"
   ]
  },
  {
   "cell_type": "code",
   "execution_count": 5,
   "id": "553710e3",
   "metadata": {},
   "outputs": [
    {
     "name": "stdout",
     "output_type": "stream",
     "text": [
      "5\n"
     ]
    }
   ],
   "source": [
    "#Tell the output\n",
    "name='Ashru'\n",
    "print(len(name))"
   ]
  },
  {
   "cell_type": "code",
   "execution_count": 7,
   "id": "dddb854b",
   "metadata": {},
   "outputs": [
    {
     "name": "stdout",
     "output_type": "stream",
     "text": [
      "14\n"
     ]
    }
   ],
   "source": [
    "#Tell the output\n",
    "name=\"\"\"\n",
    "aaa\n",
    "bbbbb\n",
    "cc\n",
    "\"\"\"\n",
    "print(len(name))"
   ]
  },
  {
   "cell_type": "code",
   "execution_count": 8,
   "id": "e1752247",
   "metadata": {},
   "outputs": [
    {
     "name": "stdout",
     "output_type": "stream",
     "text": [
      "0\n"
     ]
    }
   ],
   "source": [
    "#Tell the output\n",
    "name=\"\"\"\"\"\"\n",
    "print(len(name))"
   ]
  },
  {
   "cell_type": "code",
   "execution_count": 9,
   "id": "8afc9998",
   "metadata": {},
   "outputs": [
    {
     "name": "stdout",
     "output_type": "stream",
     "text": [
      "1\n"
     ]
    }
   ],
   "source": [
    "#Tell the output\n",
    "name=\"\"\"\n",
    "\"\"\"\n",
    "print(len(name))"
   ]
  },
  {
   "cell_type": "code",
   "execution_count": 10,
   "id": "8fdd8757",
   "metadata": {},
   "outputs": [
    {
     "name": "stdout",
     "output_type": "stream",
     "text": [
      "3\n"
     ]
    }
   ],
   "source": [
    "#Tell the output\n",
    "name=\"\"\"\n",
    "\n",
    "\n",
    "\"\"\"\n",
    "print(len(name))"
   ]
  },
  {
   "cell_type": "code",
   "execution_count": 11,
   "id": "1a9c4efb",
   "metadata": {},
   "outputs": [
    {
     "name": "stdout",
     "output_type": "stream",
     "text": [
      "1\n"
     ]
    }
   ],
   "source": [
    "#Tell the output\n",
    "name=' '\n",
    "print(len(name))"
   ]
  },
  {
   "cell_type": "code",
   "execution_count": 13,
   "id": "f355af9d",
   "metadata": {},
   "outputs": [
    {
     "name": "stdout",
     "output_type": "stream",
     "text": [
      "Ashru\n",
      "A\n",
      "r\n",
      "s\n"
     ]
    }
   ],
   "source": [
    "#Tell the output\n",
    "name=\"Ashru\"\n",
    "print(name)\n",
    "print(name[0])\n",
    "print(name[-2])\n",
    "print(name[1])"
   ]
  },
  {
   "cell_type": "code",
   "execution_count": 20,
   "id": "a4c363ac",
   "metadata": {},
   "outputs": [
    {
     "name": "stdout",
     "output_type": "stream",
     "text": [
      "g\n",
      "g\n"
     ]
    }
   ],
   "source": [
    "#Tell the output\n",
    "msg=\"good morning\"\n",
    "low=msg[0]\n",
    "high=msg[-1]\n",
    "print(low)\n",
    "print(high)"
   ]
  },
  {
   "cell_type": "code",
   "execution_count": 21,
   "id": "cbc4fb6c",
   "metadata": {},
   "outputs": [
    {
     "name": "stdout",
     "output_type": "stream",
     "text": [
      "2038453048496\n",
      "140736499043056\n",
      "140736499043168\n",
      "140736499043000\n",
      "140736499042048\n",
      "140736499042048\n"
     ]
    }
   ],
   "source": [
    "#Tell the output\n",
    "name=\"surendra\"\n",
    "print(id(name))\n",
    "print(id(name[0]))\n",
    "print(id(name[1]))\n",
    "print(id(name[2]))\n",
    "print(id(name[7]))\n",
    "print(id(name[-1]))"
   ]
  },
  {
   "cell_type": "code",
   "execution_count": 22,
   "id": "9327dced",
   "metadata": {},
   "outputs": [
    {
     "name": "stdout",
     "output_type": "stream",
     "text": [
      "AshruPradhan\n"
     ]
    }
   ],
   "source": [
    "#Tell the output\n",
    "name='Ashru'\n",
    "title='Pradhan'\n",
    "print(name+title)"
   ]
  },
  {
   "cell_type": "code",
   "execution_count": 23,
   "id": "dbb6c073",
   "metadata": {},
   "outputs": [
    {
     "ename": "TypeError",
     "evalue": "can only concatenate str (not \"int\") to str",
     "output_type": "error",
     "traceback": [
      "\u001b[1;31m---------------------------------------------------------------------------\u001b[0m",
      "\u001b[1;31mTypeError\u001b[0m                                 Traceback (most recent call last)",
      "Cell \u001b[1;32mIn[23], line 3\u001b[0m\n\u001b[0;32m      1\u001b[0m name\u001b[38;5;241m=\u001b[39m\u001b[38;5;124m'\u001b[39m\u001b[38;5;124mAshru\u001b[39m\u001b[38;5;124m'\u001b[39m\n\u001b[0;32m      2\u001b[0m mark\u001b[38;5;241m=\u001b[39m\u001b[38;5;241m2\u001b[39m\n\u001b[1;32m----> 3\u001b[0m \u001b[38;5;28mprint\u001b[39m(name\u001b[38;5;241m+\u001b[39mmark)\n",
      "\u001b[1;31mTypeError\u001b[0m: can only concatenate str (not \"int\") to str"
     ]
    }
   ],
   "source": [
    "#Tell the output\n",
    "name='Ashru'\n",
    "mark=2\n",
    "print(name+mark)"
   ]
  },
  {
   "cell_type": "code",
   "execution_count": 24,
   "id": "1ac8f6a5",
   "metadata": {},
   "outputs": [
    {
     "name": "stdout",
     "output_type": "stream",
     "text": [
      "ashru10\n"
     ]
    }
   ],
   "source": [
    "#Tell the output\n",
    "name='ashru'\n",
    "mark='10'\n",
    "print(name+mark)"
   ]
  }
 ],
 "metadata": {
  "kernelspec": {
   "display_name": "Python 3 (ipykernel)",
   "language": "python",
   "name": "python3"
  },
  "language_info": {
   "codemirror_mode": {
    "name": "ipython",
    "version": 3
   },
   "file_extension": ".py",
   "mimetype": "text/x-python",
   "name": "python",
   "nbconvert_exporter": "python",
   "pygments_lexer": "ipython3",
   "version": "3.11.4"
  }
 },
 "nbformat": 4,
 "nbformat_minor": 5
}
