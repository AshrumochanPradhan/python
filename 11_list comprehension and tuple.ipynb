{
 "cells": [
  {
   "cell_type": "code",
   "execution_count": 1,
   "id": "cac8fc0d",
   "metadata": {},
   "outputs": [
    {
     "name": "stdout",
     "output_type": "stream",
     "text": [
      "[30, 20, 10]\n"
     ]
    }
   ],
   "source": [
    "#nested list\n",
    "l=[10,20,30]\n",
    "l.reverse()\n",
    "print(l)"
   ]
  },
  {
   "cell_type": "code",
   "execution_count": 2,
   "id": "0a76940f",
   "metadata": {},
   "outputs": [
    {
     "name": "stdout",
     "output_type": "stream",
     "text": [
      "[[988, 78], [90, 33], [10, 20, 30]]\n"
     ]
    }
   ],
   "source": [
    "#revesre the nested list\n",
    "l=[[10,20,30],[90,33],[988,78]]\n",
    "l.reverse()\n",
    "print(l)"
   ]
  },
  {
   "cell_type": "code",
   "execution_count": 3,
   "id": "3be72aea",
   "metadata": {},
   "outputs": [
    {
     "name": "stdout",
     "output_type": "stream",
     "text": [
      "[[988, 78], [90, 33], [10, 20, 30]]\n",
      "[[78, 988], [33, 90], [30, 20, 10]]\n"
     ]
    }
   ],
   "source": [
    "#reverse the nested list of each list\n",
    "l=[[10,20,30],[90,33],[988,78]]\n",
    "l.reverse()\n",
    "print(l)\n",
    "for i in l:\n",
    "    i.reverse()\n",
    "print(l)"
   ]
  },
  {
   "cell_type": "code",
   "execution_count": 4,
   "id": "509eb24f",
   "metadata": {},
   "outputs": [
    {
     "name": "stdout",
     "output_type": "stream",
     "text": [
      "[[30, 20, 10], [33, 90], [78, 988]]\n"
     ]
    }
   ],
   "source": [
    "# l=[[10,20,30],[90,33],[988,78]]\n",
    "#  expected output l=[[30,20,10],[33,90],[78,988]]\n",
    "l=[[10,20,30],[90,33],[988,78]]\n",
    "for i in l:\n",
    "    i.reverse()\n",
    "print(l)"
   ]
  },
  {
   "cell_type": "code",
   "execution_count": 68,
   "id": "fd55f6b8",
   "metadata": {},
   "outputs": [
    {
     "name": "stdout",
     "output_type": "stream",
     "text": [
      "[[10, 20, 30], [988, 78]]\n",
      "[[30, 20, 10], [78, 988]]\n"
     ]
    }
   ],
   "source": [
    "# l=[[10,20,30],[90,'surendra'],[988,78],[77,'Rahul']]\n",
    "# expected output\n",
    "# l=[[30,20,10],[78,988]]\n",
    "l=[[10,20,30],[90,'surendra'],[988,78],[77,'Rahul']]\n",
    "for i in l:\n",
    "    for j in i:\n",
    "        if type(j)==str:\n",
    "            l.remove(i)\n",
    "print(l)\n",
    "for i in l:\n",
    "    i.reverse()\n",
    "print(l)"
   ]
  },
  {
   "cell_type": "code",
   "execution_count": null,
   "id": "399f0ead",
   "metadata": {},
   "outputs": [],
   "source": [
    "#list comprehension"
   ]
  },
  {
   "cell_type": "code",
   "execution_count": 9,
   "id": "d6e9b69d",
   "metadata": {},
   "outputs": [
    {
     "name": "stdout",
     "output_type": "stream",
     "text": [
      "[0, 1, 2, 3, 4, 5, 6, 7, 8, 9]\n"
     ]
    }
   ],
   "source": [
    "#1.print o to 10 \n",
    "l=[i for i in range(10)]\n",
    "print(l)"
   ]
  },
  {
   "cell_type": "code",
   "execution_count": 10,
   "id": "72f475f5",
   "metadata": {},
   "outputs": [
    {
     "name": "stdout",
     "output_type": "stream",
     "text": [
      "[0, 1, 4, 9, 16, 25]\n"
     ]
    }
   ],
   "source": [
    "#2\n",
    "l=[i*i for i in range(6)]\n",
    "print(l)"
   ]
  },
  {
   "cell_type": "code",
   "execution_count": 11,
   "id": "18049134",
   "metadata": {},
   "outputs": [
    {
     "name": "stdout",
     "output_type": "stream",
     "text": [
      "[10, 11, 12, 13, 14, 15]\n"
     ]
    }
   ],
   "source": [
    "#3\n",
    "l=[i+10 for i in range(6)]\n",
    "print(l)"
   ]
  },
  {
   "cell_type": "code",
   "execution_count": 12,
   "id": "8fc8285c",
   "metadata": {},
   "outputs": [
    {
     "name": "stdout",
     "output_type": "stream",
     "text": [
      "[2, 4, 6, 8, 10, 12, 14, 16, 18, 20]\n"
     ]
    }
   ],
   "source": [
    "#4.no is divisible by 2 or not\n",
    "l=[i for i in range(1,21) if i%2==0]\n",
    "print(l)"
   ]
  },
  {
   "cell_type": "code",
   "execution_count": 13,
   "id": "49eb8dd1",
   "metadata": {},
   "outputs": [
    {
     "name": "stdout",
     "output_type": "stream",
     "text": [
      "[1, 1, 4, 27, 256, 3125]\n"
     ]
    }
   ],
   "source": [
    "#5.\n",
    "l=[i**i for i in range(6)]\n",
    "print(l)"
   ]
  },
  {
   "cell_type": "code",
   "execution_count": 16,
   "id": "873751e3",
   "metadata": {},
   "outputs": [
    {
     "name": "stdout",
     "output_type": "stream",
     "text": [
      "['a', 's', 's']\n"
     ]
    }
   ],
   "source": [
    "# name=['ashru','satya','samir']\n",
    "# expected o/p=['a','s','s']\n",
    "name=['ashru','satya','samir']\n",
    "l=[i[0] for i in name]\n",
    "print(l)"
   ]
  },
  {
   "cell_type": "code",
   "execution_count": 17,
   "id": "150e7623",
   "metadata": {},
   "outputs": [
    {
     "name": "stdout",
     "output_type": "stream",
     "text": [
      "['ash', 'sat', 'sam']\n"
     ]
    }
   ],
   "source": [
    "#use slice operator\n",
    "name=['ashru','satya','samir']\n",
    "l=[i[0:3] for i in name]\n",
    "print(l)"
   ]
  },
  {
   "cell_type": "code",
   "execution_count": 20,
   "id": "4fbf90ac",
   "metadata": {},
   "outputs": [
    {
     "name": "stdout",
     "output_type": "stream",
     "text": [
      "['surendra', 'priyanka', 'rahil']\n"
     ]
    }
   ],
   "source": [
    "#create  a new list by adding the element which is containing letter a\n",
    "names=['surendra','priyanka','zini','rahil']\n",
    "l=[i for i in names if 'a' in i]\n",
    "print(l)"
   ]
  },
  {
   "cell_type": "code",
   "execution_count": 22,
   "id": "bf95799d",
   "metadata": {},
   "outputs": [
    {
     "name": "stdout",
     "output_type": "stream",
     "text": [
      "['surendra', 'hello', 'zini', 'rahil']\n"
     ]
    }
   ],
   "source": [
    "#create a new list just add all the element but if the element is priyanka dont add it instead of priyanka add hello\n",
    "names=['surendra','priyanka','zini','rahil']\n",
    "l=[i if i!='priyanka' else 'hello' for i in names]\n",
    "print(l)"
   ]
  },
  {
   "cell_type": "code",
   "execution_count": 24,
   "id": "2ba9dc66",
   "metadata": {},
   "outputs": [
    {
     "name": "stdout",
     "output_type": "stream",
     "text": [
      "[10, 20, 30, 40]\n"
     ]
    }
   ],
   "source": [
    "#create  a list from tuple\n",
    "t=(10,20,30,40)\n",
    "l=[i for i in t ]\n",
    "print(l)"
   ]
  },
  {
   "cell_type": "code",
   "execution_count": 26,
   "id": "1a1eed21",
   "metadata": {},
   "outputs": [
    {
     "name": "stdout",
     "output_type": "stream",
     "text": [
      "['a', 's', 'h', 'r', 'u']\n"
     ]
    }
   ],
   "source": [
    "#create a list from string\n",
    "name='ashru'\n",
    "l=[i for i in name]\n",
    "print(l)"
   ]
  },
  {
   "cell_type": "code",
   "execution_count": 29,
   "id": "211b74d7",
   "metadata": {},
   "outputs": [
    {
     "name": "stdout",
     "output_type": "stream",
     "text": [
      "[[0, 1, 2], [0, 1, 2], [0, 1, 2]]\n"
     ]
    }
   ],
   "source": [
    "#creation of matrix using list comprehension\n",
    "m=[[j for j in range(3)] for i in range(3)]\n",
    "print(m)"
   ]
  },
  {
   "cell_type": "code",
   "execution_count": null,
   "id": "d74ae972",
   "metadata": {},
   "outputs": [],
   "source": [
    "#tuple data structure"
   ]
  },
  {
   "cell_type": "code",
   "execution_count": 2,
   "id": "5ba5e9c7",
   "metadata": {},
   "outputs": [
    {
     "name": "stdout",
     "output_type": "stream",
     "text": [
      "23 33 [43, 53, 63]\n"
     ]
    }
   ],
   "source": [
    "#print the output\n",
    "t=(23,33,43,53,63)\n",
    "a,b,*c=t\n",
    "print(a,b,c)"
   ]
  },
  {
   "cell_type": "code",
   "execution_count": 3,
   "id": "28a58e36",
   "metadata": {},
   "outputs": [
    {
     "name": "stdout",
     "output_type": "stream",
     "text": [
      "23 [33, 43, 53] 63\n"
     ]
    }
   ],
   "source": [
    "#print the output\n",
    "t=(23,33,43,53,63)\n",
    "a,*c,b=t\n",
    "print(a,c,b)"
   ]
  },
  {
   "cell_type": "code",
   "execution_count": 4,
   "id": "c9598c1c",
   "metadata": {},
   "outputs": [
    {
     "name": "stdout",
     "output_type": "stream",
     "text": [
      "[23, 33, 43, 53] 63\n"
     ]
    }
   ],
   "source": [
    "#print the output\n",
    "t=(23,33,43,53,63)\n",
    "*c,b=t\n",
    "print(c,b)"
   ]
  },
  {
   "cell_type": "code",
   "execution_count": 5,
   "id": "5cdd3c7c",
   "metadata": {},
   "outputs": [
    {
     "name": "stdout",
     "output_type": "stream",
     "text": [
      "[23, 33, 43] 53 63\n"
     ]
    }
   ],
   "source": [
    "#print the output\n",
    "t=(23,33,43,53,63)\n",
    "*c,b,d=t=t\n",
    "print(c,b,d)"
   ]
  },
  {
   "cell_type": "code",
   "execution_count": 8,
   "id": "bf7c8bac",
   "metadata": {},
   "outputs": [
    {
     "name": "stdout",
     "output_type": "stream",
     "text": [
      "1\n",
      "2\n",
      "<class 'str'>\n",
      "1\n",
      "3\n",
      "4\n",
      "134\n",
      "<class 'str'>\n"
     ]
    }
   ],
   "source": [
    "x,y='12'\n",
    "print(x)\n",
    "print(y)\n",
    "print(type(x))\n",
    "y,z='34'\n",
    "print(x)\n",
    "print(y)\n",
    "print(z)\n",
    "print(x+y+z)\n",
    "print(type(x+y+z))"
   ]
  },
  {
   "cell_type": "code",
   "execution_count": 31,
   "id": "a70f36ab",
   "metadata": {},
   "outputs": [
    {
     "name": "stdout",
     "output_type": "stream",
     "text": [
      "()\n",
      "<class 'tuple'>\n"
     ]
    }
   ],
   "source": [
    "#creation of empty tuple\n",
    "t=()\n",
    "print(t)\n",
    "print(type(t))"
   ]
  },
  {
   "cell_type": "code",
   "execution_count": 32,
   "id": "5bba30c3",
   "metadata": {},
   "outputs": [
    {
     "name": "stdout",
     "output_type": "stream",
     "text": [
      "(23,)\n",
      "<class 'tuple'>\n"
     ]
    }
   ],
   "source": [
    "#creation of  tuple with single value\n",
    "t=(23,)\n",
    "print(t)\n",
    "print(type(t))"
   ]
  },
  {
   "cell_type": "code",
   "execution_count": 33,
   "id": "ba4ec6d0",
   "metadata": {},
   "outputs": [
    {
     "name": "stdout",
     "output_type": "stream",
     "text": [
      "(23, 'ashru', 34.33, True)\n",
      "<class 'tuple'>\n"
     ]
    }
   ],
   "source": [
    "#creation of  tuple with different data item\n",
    "t=(23,'ashru',34.33,True)\n",
    "print(t)\n",
    "print(type(t))"
   ]
  },
  {
   "cell_type": "code",
   "execution_count": 34,
   "id": "c9d10a10",
   "metadata": {},
   "outputs": [
    {
     "name": "stdout",
     "output_type": "stream",
     "text": [
      "(23, 'ashru', 34.33, True)\n",
      "<class 'tuple'>\n"
     ]
    }
   ],
   "source": [
    "#creation of  tuple without using parathensis\n",
    "t=23,'ashru',34.33,True\n",
    "print(t)\n",
    "print(type(t))"
   ]
  },
  {
   "cell_type": "code",
   "execution_count": 35,
   "id": "6068c4ab",
   "metadata": {},
   "outputs": [
    {
     "name": "stdout",
     "output_type": "stream",
     "text": [
      "(10, 20, 30, 40)\n",
      "[10, 20, 30, 40]\n",
      "<class 'tuple'>\n"
     ]
    }
   ],
   "source": [
    "#creation of tuple using tuple\n",
    "l=[10,20,30,40]\n",
    "t=tuple(l)\n",
    "print(t)\n",
    "print(l)\n",
    "print(type(t))"
   ]
  },
  {
   "cell_type": "code",
   "execution_count": 36,
   "id": "ea436219",
   "metadata": {},
   "outputs": [
    {
     "name": "stdout",
     "output_type": "stream",
     "text": [
      "(0, 1, 2, 3, 4, 5, 6, 7, 8, 9)\n",
      "<class 'tuple'>\n"
     ]
    }
   ],
   "source": [
    "#tuple with range\n",
    "t=tuple(range(10))\n",
    "print(t)\n",
    "print(type(t))"
   ]
  },
  {
   "cell_type": "code",
   "execution_count": 37,
   "id": "a94e0635",
   "metadata": {},
   "outputs": [
    {
     "name": "stdout",
     "output_type": "stream",
     "text": [
      "('a', 's', 'h', 'r', 'u')\n",
      "<class 'tuple'>\n"
     ]
    }
   ],
   "source": [
    "#tuple with string\n",
    "t=tuple('ashru')\n",
    "print(t)\n",
    "print(type(t))"
   ]
  },
  {
   "cell_type": "code",
   "execution_count": 38,
   "id": "af1cc875",
   "metadata": {},
   "outputs": [
    {
     "name": "stdout",
     "output_type": "stream",
     "text": [
      "10\n",
      "20\n"
     ]
    },
    {
     "ename": "IndexError",
     "evalue": "tuple index out of range",
     "output_type": "error",
     "traceback": [
      "\u001b[1;31m---------------------------------------------------------------------------\u001b[0m",
      "\u001b[1;31mIndexError\u001b[0m                                Traceback (most recent call last)",
      "Cell \u001b[1;32mIn[38], line 5\u001b[0m\n\u001b[0;32m      3\u001b[0m \u001b[38;5;28mprint\u001b[39m(t[\u001b[38;5;241m0\u001b[39m])\n\u001b[0;32m      4\u001b[0m \u001b[38;5;28mprint\u001b[39m(t[\u001b[38;5;241m1\u001b[39m])\n\u001b[1;32m----> 5\u001b[0m \u001b[38;5;28mprint\u001b[39m(t[\u001b[38;5;241m77\u001b[39m])\n",
      "\u001b[1;31mIndexError\u001b[0m: tuple index out of range"
     ]
    }
   ],
   "source": [
    "#accessing by index\n",
    "t=(10,20,30,40)\n",
    "print(t[0])\n",
    "print(t[1])\n",
    "print(t[77])"
   ]
  },
  {
   "cell_type": "code",
   "execution_count": 39,
   "id": "eedbb3ef",
   "metadata": {},
   "outputs": [
    {
     "name": "stdout",
     "output_type": "stream",
     "text": [
      "(10, 20, 30, 40)\n",
      "(10, 20)\n",
      "(10, 30)\n"
     ]
    }
   ],
   "source": [
    "#accessing by slice operator\n",
    "t=(10,20,30,40)\n",
    "print(t[::])\n",
    "print(t[:2])\n",
    "print(t[::2])"
   ]
  },
  {
   "cell_type": "code",
   "execution_count": 40,
   "id": "c43d2b71",
   "metadata": {},
   "outputs": [
    {
     "name": "stdout",
     "output_type": "stream",
     "text": [
      "(10, 20, 30, 40, 24, 25, 34, 44, 20, 50, 38, 54)\n"
     ]
    }
   ],
   "source": [
    "#concatenation operation\n",
    "t=(10,20,30,40)\n",
    "p=(24,25,34,44)\n",
    "r=(20,50,38,54)\n",
    "a=t+p+r\n",
    "print(a)"
   ]
  },
  {
   "cell_type": "code",
   "execution_count": 41,
   "id": "54a3c140",
   "metadata": {},
   "outputs": [
    {
     "name": "stdout",
     "output_type": "stream",
     "text": [
      "(10, 20, 30, 40, 10, 20, 30, 40, 10, 20, 30, 40)\n"
     ]
    }
   ],
   "source": [
    "#repetition operation\n",
    "t=(10,20,30,40)\n",
    "a=t*3\n",
    "print(a)"
   ]
  },
  {
   "cell_type": "code",
   "execution_count": 42,
   "id": "be56755c",
   "metadata": {},
   "outputs": [
    {
     "name": "stdout",
     "output_type": "stream",
     "text": [
      "10\n",
      "20\n",
      "30\n",
      "40\n"
     ]
    }
   ],
   "source": [
    "#traversing using for loop\n",
    "t=(10,20,30,40)\n",
    "for i in t:\n",
    "    print(i)"
   ]
  },
  {
   "cell_type": "code",
   "execution_count": 43,
   "id": "c9352dfc",
   "metadata": {},
   "outputs": [
    {
     "name": "stdout",
     "output_type": "stream",
     "text": [
      "10\n",
      "20\n",
      "30\n",
      "40\n"
     ]
    }
   ],
   "source": [
    "#traversing using for loop\n",
    "t=(10,20,30,40)\n",
    "i=0\n",
    "while i<len(t):\n",
    "    print(t[i])\n",
    "    i=i+1"
   ]
  },
  {
   "cell_type": "code",
   "execution_count": 45,
   "id": "50572d11",
   "metadata": {},
   "outputs": [
    {
     "name": "stdout",
     "output_type": "stream",
     "text": [
      "0\n"
     ]
    }
   ],
   "source": [
    "#index()\n",
    "t=(10,20,30,40)\n",
    "print(t.index(10))"
   ]
  },
  {
   "cell_type": "code",
   "execution_count": 46,
   "id": "8eebcc79",
   "metadata": {},
   "outputs": [
    {
     "name": "stdout",
     "output_type": "stream",
     "text": [
      "1\n"
     ]
    }
   ],
   "source": [
    "#count\n",
    "t=(10,20,30,40)\n",
    "print(t.count(10))"
   ]
  },
  {
   "cell_type": "code",
   "execution_count": 48,
   "id": "0cb4bb92",
   "metadata": {},
   "outputs": [
    {
     "name": "stdout",
     "output_type": "stream",
     "text": [
      "4\n"
     ]
    }
   ],
   "source": [
    "#len()\n",
    "t=(10,20,30,40)\n",
    "print(len(t))"
   ]
  },
  {
   "cell_type": "code",
   "execution_count": 49,
   "id": "ea66feb5",
   "metadata": {},
   "outputs": [
    {
     "name": "stdout",
     "output_type": "stream",
     "text": [
      "10\n"
     ]
    }
   ],
   "source": [
    "#min()\n",
    "t=(10,20,30,40)\n",
    "print(min(t))"
   ]
  },
  {
   "cell_type": "raw",
   "id": "030819e5",
   "metadata": {},
   "source": [
    "#max()\n",
    "t=(10,20,30,40)\n",
    "print(max(t))"
   ]
  },
  {
   "cell_type": "code",
   "execution_count": 51,
   "id": "21dfdd9e",
   "metadata": {},
   "outputs": [
    {
     "name": "stdout",
     "output_type": "stream",
     "text": [
      "[1, 11, 12, 21, 23, 34, 45]\n"
     ]
    }
   ],
   "source": [
    "#sorted()\n",
    "e=(12,11,34,23,21,45,1)\n",
    "t=sorted(e)\n",
    "print(t)"
   ]
  },
  {
   "cell_type": "code",
   "execution_count": 53,
   "id": "101948f5",
   "metadata": {},
   "outputs": [
    {
     "name": "stdout",
     "output_type": "stream",
     "text": [
      "(10, 20, 30, 40, 50)\n"
     ]
    }
   ],
   "source": [
    "#packing\n",
    "a=10\n",
    "b=20\n",
    "c=30\n",
    "d=40\n",
    "e=50\n",
    "t=a,b,c,d,e\n",
    "print(t)"
   ]
  },
  {
   "cell_type": "code",
   "execution_count": 55,
   "id": "ed0e30c2",
   "metadata": {},
   "outputs": [
    {
     "name": "stdout",
     "output_type": "stream",
     "text": [
      "10 20 30 40\n"
     ]
    }
   ],
   "source": [
    "#unpacking\n",
    "t=(10,20,30,40)\n",
    "a,b,c,d=t\n",
    "print(a,b,c,d)"
   ]
  },
  {
   "cell_type": "code",
   "execution_count": null,
   "id": "05385a22",
   "metadata": {},
   "outputs": [],
   "source": [
    "nested tuple\n",
    "t=((23,'ashru',24.5),(23,'daka',23.6))\n",
    "print(t[0])\n",
    "print(t[0][1])"
   ]
  },
  {
   "cell_type": "code",
   "execution_count": 1,
   "id": "720ea8dc",
   "metadata": {},
   "outputs": [
    {
     "name": "stdout",
     "output_type": "stream",
     "text": [
      "['abaaba', 'acaaca', 'bbcbbcbbc', 'ckkckkckkckk', 'bspbspbsp']\n"
     ]
    }
   ],
   "source": [
    "#l=['aba','aca','bbc','ckk','ijk','mtk','bsp','dsp']\n",
    "#expected output-['abaaba','acaaca','bbcbbcbbc','ckkckkckkckk','bspbspbsp']\n",
    "l=['aba','aca','bbc','ckk','ijk','mtk','bsp','dsp']\n",
    "t=[]\n",
    "for i in l:\n",
    "    if 'a' in i:\n",
    "        t.append(2*i)\n",
    "    elif 'b' in i:\n",
    "        t.append(3*i)\n",
    "    elif 'c' in i:\n",
    "        t.append(4*i)\n",
    "print(t)"
   ]
  }
 ],
 "metadata": {
  "kernelspec": {
   "display_name": "Python 3 (ipykernel)",
   "language": "python",
   "name": "python3"
  },
  "language_info": {
   "codemirror_mode": {
    "name": "ipython",
    "version": 3
   },
   "file_extension": ".py",
   "mimetype": "text/x-python",
   "name": "python",
   "nbconvert_exporter": "python",
   "pygments_lexer": "ipython3",
   "version": "3.11.4"
  }
 },
 "nbformat": 4,
 "nbformat_minor": 5
}
