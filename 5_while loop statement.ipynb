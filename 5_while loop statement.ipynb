{
 "cells": [
  {
   "cell_type": "code",
   "execution_count": 1,
   "id": "ee13e8d9",
   "metadata": {},
   "outputs": [
    {
     "name": "stdout",
     "output_type": "stream",
     "text": [
      "100 200\n"
     ]
    }
   ],
   "source": [
    "#print the value of a and b\n",
    "a=100\n",
    "b=200\n",
    "print(a,b)"
   ]
  },
  {
   "cell_type": "code",
   "execution_count": 2,
   "id": "8a24b950",
   "metadata": {},
   "outputs": [
    {
     "name": "stdout",
     "output_type": "stream",
     "text": [
      "a b\n"
     ]
    }
   ],
   "source": [
    "print('a','b')"
   ]
  },
  {
   "cell_type": "code",
   "execution_count": 3,
   "id": "3aef9419",
   "metadata": {},
   "outputs": [
    {
     "name": "stdout",
     "output_type": "stream",
     "text": [
      "ab\n"
     ]
    }
   ],
   "source": [
    "print('a'+'b')"
   ]
  },
  {
   "cell_type": "code",
   "execution_count": 4,
   "id": "0a0c20dd",
   "metadata": {},
   "outputs": [
    {
     "name": "stdout",
     "output_type": "stream",
     "text": [
      "300\n"
     ]
    }
   ],
   "source": [
    "#sum the value of a and b\n",
    "print(a+b)"
   ]
  },
  {
   "cell_type": "code",
   "execution_count": 5,
   "id": "bae0b536",
   "metadata": {},
   "outputs": [
    {
     "name": "stdout",
     "output_type": "stream",
     "text": [
      "a is  100\n"
     ]
    }
   ],
   "source": [
    "print('a is ',a)"
   ]
  },
  {
   "cell_type": "code",
   "execution_count": 6,
   "id": "8a80955a",
   "metadata": {},
   "outputs": [
    {
     "name": "stdout",
     "output_type": "stream",
     "text": [
      "a is  100 b is  200\n"
     ]
    }
   ],
   "source": [
    "print('a is ',a,'b is ',b)"
   ]
  },
  {
   "cell_type": "code",
   "execution_count": 8,
   "id": "de275443",
   "metadata": {},
   "outputs": [
    {
     "name": "stdout",
     "output_type": "stream",
     "text": [
      "a is 100 b is 200\n"
     ]
    }
   ],
   "source": [
    "print(f'a is {a} b is {b}')"
   ]
  },
  {
   "cell_type": "code",
   "execution_count": 10,
   "id": "5b4720f9",
   "metadata": {},
   "outputs": [
    {
     "name": "stdout",
     "output_type": "stream",
     "text": [
      "a is {a} b is {b} \n"
     ]
    }
   ],
   "source": [
    "print('a is {a} b is {b} ')"
   ]
  },
  {
   "cell_type": "code",
   "execution_count": 11,
   "id": "0d9bdfbf",
   "metadata": {},
   "outputs": [
    {
     "name": "stdout",
     "output_type": "stream",
     "text": [
      "a is 10000 b is 40000\n"
     ]
    }
   ],
   "source": [
    "print(f'a is {a*a} b is {b*b}')"
   ]
  },
  {
   "cell_type": "code",
   "execution_count": null,
   "id": "30e5c6b4",
   "metadata": {},
   "outputs": [],
   "source": [
    "#nested while loop"
   ]
  },
  {
   "cell_type": "code",
   "execution_count": 1,
   "id": "645a4a16",
   "metadata": {},
   "outputs": [
    {
     "name": "stdout",
     "output_type": "stream",
     "text": [
      "i=1 j=1\n",
      "i=1 j=2\n",
      "i=1 j=3\n",
      "i=2 j=1\n",
      "i=2 j=2\n",
      "i=2 j=3\n",
      "i=3 j=1\n",
      "i=3 j=2\n",
      "i=3 j=3\n"
     ]
    }
   ],
   "source": [
    "#print the value of i and j\n",
    "i=1\n",
    "while i<=3:\n",
    "    j=1\n",
    "    while j<=3:\n",
    "        print(f'i={i} j={j}')\n",
    "        j=j+1\n",
    "    i=i+1"
   ]
  },
  {
   "cell_type": "code",
   "execution_count": 2,
   "id": "c7551b0b",
   "metadata": {},
   "outputs": [
    {
     "name": "stdout",
     "output_type": "stream",
     "text": [
      "i*j=1\n",
      "i*j=2\n",
      "i*j=3\n",
      "i*j=2\n",
      "i*j=4\n",
      "i*j=6\n",
      "i*j=3\n",
      "i*j=6\n",
      "i*j=9\n"
     ]
    }
   ],
   "source": [
    "#print the multiplication of i*j\n",
    "i=1\n",
    "while i<=3:\n",
    "    j=1\n",
    "    while j<=3:\n",
    "        print(f'i*j={i*j}')\n",
    "        j=j+1\n",
    "    i=i+1"
   ]
  },
  {
   "cell_type": "code",
   "execution_count": 3,
   "id": "ea4c93b9",
   "metadata": {},
   "outputs": [
    {
     "name": "stdout",
     "output_type": "stream",
     "text": [
      "1*1=1\n",
      "1*2=2\n",
      "1*3=3\n",
      "2*1=2\n",
      "2*2=4\n",
      "2*3=6\n",
      "3*1=3\n",
      "3*2=6\n",
      "3*3=9\n"
     ]
    }
   ],
   "source": [
    "#print the value\n",
    "i=1\n",
    "while i<=3:\n",
    "    j=1\n",
    "    while j<=3:\n",
    "        print(f'{i}*{j}={i*j}')\n",
    "        j=j+1\n",
    "    i=i+1"
   ]
  },
  {
   "cell_type": "code",
   "execution_count": 2,
   "id": "6eed180b",
   "metadata": {},
   "outputs": [
    {
     "name": "stdout",
     "output_type": "stream",
     "text": [
      "*\n",
      "*\n",
      "*\n",
      "**\n",
      "**\n",
      "**\n",
      "***\n",
      "***\n",
      "***\n"
     ]
    }
   ],
   "source": [
    "#print the pattern\n",
    "#[ *\n",
    "#  *\n",
    "#  * \n",
    "#  **\n",
    "#  **\n",
    "#  **\n",
    "#  ***\n",
    "#  ***\n",
    "#  ***]\n",
    "\n",
    "i=1\n",
    "while i<=3:\n",
    "    j=1\n",
    "    while j<=3:\n",
    "        print(f\"{i*'*'}\")\n",
    "        j=j+1\n",
    "    i=i+1"
   ]
  },
  {
   "cell_type": "code",
   "execution_count": 7,
   "id": "8fc8dd9e",
   "metadata": {},
   "outputs": [
    {
     "name": "stdout",
     "output_type": "stream",
     "text": [
      "*\n",
      "**\n",
      "***\n",
      "*\n",
      "**\n",
      "***\n",
      "*\n",
      "**\n",
      "***\n"
     ]
    }
   ],
   "source": [
    "#print the star pattern\n",
    "i=1\n",
    "while i<=3:\n",
    "    j=1\n",
    "    while j<=3:\n",
    "        print(f'{j*\"*\"}')\n",
    "        j=j+1\n",
    "    i=i+1\n",
    "    "
   ]
  },
  {
   "cell_type": "code",
   "execution_count": 8,
   "id": "d5bb11fd",
   "metadata": {},
   "outputs": [
    {
     "name": "stdout",
     "output_type": "stream",
     "text": [
      "#*\n",
      "#**\n",
      "#***\n",
      "##*\n",
      "##**\n",
      "##***\n",
      "###*\n",
      "###**\n",
      "###***\n"
     ]
    }
   ],
   "source": [
    "#print the pattern\n",
    "i=1\n",
    "while i<=3:\n",
    "    j=1\n",
    "    while j<=3:\n",
    "        print(f\"{i*'#'}{j*'*'}\")\n",
    "        j=j+1\n",
    "    i=i+1"
   ]
  },
  {
   "cell_type": "code",
   "execution_count": 9,
   "id": "c25c5721",
   "metadata": {},
   "outputs": [
    {
     "name": "stdout",
     "output_type": "stream",
     "text": [
      "2*1=2\n",
      "2*2=4\n",
      "2*3=6\n",
      "2*4=8\n",
      "2*5=10\n",
      "2*6=12\n",
      "2*7=14\n",
      "2*8=16\n",
      "2*9=18\n",
      "2*10=20\n",
      "______________\n",
      "3*1=3\n",
      "3*2=6\n",
      "3*3=9\n",
      "3*4=12\n",
      "3*5=15\n",
      "3*6=18\n",
      "3*7=21\n",
      "3*8=24\n",
      "3*9=27\n",
      "3*10=30\n",
      "______________\n",
      "4*1=4\n",
      "4*2=8\n",
      "4*3=12\n",
      "4*4=16\n",
      "4*5=20\n",
      "4*6=24\n",
      "4*7=28\n",
      "4*8=32\n",
      "4*9=36\n",
      "4*10=40\n",
      "______________\n",
      "5*1=5\n",
      "5*2=10\n",
      "5*3=15\n",
      "5*4=20\n",
      "5*5=25\n",
      "5*6=30\n",
      "5*7=35\n",
      "5*8=40\n",
      "5*9=45\n",
      "5*10=50\n",
      "______________\n",
      "6*1=6\n",
      "6*2=12\n",
      "6*3=18\n",
      "6*4=24\n",
      "6*5=30\n",
      "6*6=36\n",
      "6*7=42\n",
      "6*8=48\n",
      "6*9=54\n",
      "6*10=60\n",
      "______________\n",
      "7*1=7\n",
      "7*2=14\n",
      "7*3=21\n",
      "7*4=28\n",
      "7*5=35\n",
      "7*6=42\n",
      "7*7=49\n",
      "7*8=56\n",
      "7*9=63\n",
      "7*10=70\n",
      "______________\n",
      "8*1=8\n",
      "8*2=16\n",
      "8*3=24\n",
      "8*4=32\n",
      "8*5=40\n",
      "8*6=48\n",
      "8*7=56\n",
      "8*8=64\n",
      "8*9=72\n",
      "8*10=80\n",
      "______________\n",
      "9*1=9\n",
      "9*2=18\n",
      "9*3=27\n",
      "9*4=36\n",
      "9*5=45\n",
      "9*6=54\n",
      "9*7=63\n",
      "9*8=72\n",
      "9*9=81\n",
      "9*10=90\n",
      "______________\n",
      "10*1=10\n",
      "10*2=20\n",
      "10*3=30\n",
      "10*4=40\n",
      "10*5=50\n",
      "10*6=60\n",
      "10*7=70\n",
      "10*8=80\n",
      "10*9=90\n",
      "10*10=100\n",
      "______________\n",
      "11*1=11\n",
      "11*2=22\n",
      "11*3=33\n",
      "11*4=44\n",
      "11*5=55\n",
      "11*6=66\n",
      "11*7=77\n",
      "11*8=88\n",
      "11*9=99\n",
      "11*10=110\n",
      "______________\n",
      "12*1=12\n",
      "12*2=24\n",
      "12*3=36\n",
      "12*4=48\n",
      "12*5=60\n",
      "12*6=72\n",
      "12*7=84\n",
      "12*8=96\n",
      "12*9=108\n",
      "12*10=120\n",
      "______________\n",
      "13*1=13\n",
      "13*2=26\n",
      "13*3=39\n",
      "13*4=52\n",
      "13*5=65\n",
      "13*6=78\n",
      "13*7=91\n",
      "13*8=104\n",
      "13*9=117\n",
      "13*10=130\n",
      "______________\n",
      "14*1=14\n",
      "14*2=28\n",
      "14*3=42\n",
      "14*4=56\n",
      "14*5=70\n",
      "14*6=84\n",
      "14*7=98\n",
      "14*8=112\n",
      "14*9=126\n",
      "14*10=140\n",
      "______________\n",
      "15*1=15\n",
      "15*2=30\n",
      "15*3=45\n",
      "15*4=60\n",
      "15*5=75\n",
      "15*6=90\n",
      "15*7=105\n",
      "15*8=120\n",
      "15*9=135\n",
      "15*10=150\n",
      "______________\n",
      "16*1=16\n",
      "16*2=32\n",
      "16*3=48\n",
      "16*4=64\n",
      "16*5=80\n",
      "16*6=96\n",
      "16*7=112\n",
      "16*8=128\n",
      "16*9=144\n",
      "16*10=160\n",
      "______________\n",
      "17*1=17\n",
      "17*2=34\n",
      "17*3=51\n",
      "17*4=68\n",
      "17*5=85\n",
      "17*6=102\n",
      "17*7=119\n",
      "17*8=136\n",
      "17*9=153\n",
      "17*10=170\n",
      "______________\n",
      "18*1=18\n",
      "18*2=36\n",
      "18*3=54\n",
      "18*4=72\n",
      "18*5=90\n",
      "18*6=108\n",
      "18*7=126\n",
      "18*8=144\n",
      "18*9=162\n",
      "18*10=180\n",
      "______________\n",
      "19*1=19\n",
      "19*2=38\n",
      "19*3=57\n",
      "19*4=76\n",
      "19*5=95\n",
      "19*6=114\n",
      "19*7=133\n",
      "19*8=152\n",
      "19*9=171\n",
      "19*10=190\n",
      "______________\n",
      "20*1=20\n",
      "20*2=40\n",
      "20*3=60\n",
      "20*4=80\n",
      "20*5=100\n",
      "20*6=120\n",
      "20*7=140\n",
      "20*8=160\n",
      "20*9=180\n",
      "20*10=200\n",
      "______________\n",
      "21*1=21\n",
      "21*2=42\n",
      "21*3=63\n",
      "21*4=84\n",
      "21*5=105\n",
      "21*6=126\n",
      "21*7=147\n",
      "21*8=168\n",
      "21*9=189\n",
      "21*10=210\n",
      "______________\n",
      "22*1=22\n",
      "22*2=44\n",
      "22*3=66\n",
      "22*4=88\n",
      "22*5=110\n",
      "22*6=132\n",
      "22*7=154\n",
      "22*8=176\n",
      "22*9=198\n",
      "22*10=220\n",
      "______________\n",
      "23*1=23\n",
      "23*2=46\n",
      "23*3=69\n",
      "23*4=92\n",
      "23*5=115\n",
      "23*6=138\n",
      "23*7=161\n",
      "23*8=184\n",
      "23*9=207\n",
      "23*10=230\n",
      "______________\n",
      "24*1=24\n",
      "24*2=48\n",
      "24*3=72\n",
      "24*4=96\n",
      "24*5=120\n",
      "24*6=144\n",
      "24*7=168\n",
      "24*8=192\n",
      "24*9=216\n",
      "24*10=240\n",
      "______________\n",
      "25*1=25\n",
      "25*2=50\n",
      "25*3=75\n",
      "25*4=100\n",
      "25*5=125\n",
      "25*6=150\n",
      "25*7=175\n",
      "25*8=200\n",
      "25*9=225\n",
      "25*10=250\n",
      "______________\n"
     ]
    }
   ],
   "source": [
    "#print the multiple of 2 to 5\n",
    "i=2\n",
    "while i<=25:\n",
    "    j=1\n",
    "    while j<=10:\n",
    "        print(f'{i}*{j}={i*j}')\n",
    "        j=j+1\n",
    "    print('______________')\n",
    "    i=i+1"
   ]
  },
  {
   "cell_type": "code",
   "execution_count": 2,
   "id": "9eeda6b8",
   "metadata": {},
   "outputs": [
    {
     "name": "stdout",
     "output_type": "stream",
     "text": [
      "25*1=25\n",
      "25*2=50\n",
      "25*3=75\n",
      "25*4=100\n",
      "25*5=125\n",
      "25*6=150\n",
      "25*7=175\n",
      "25*8=200\n",
      "25*9=225\n",
      "25*10=250\n",
      "______________\n",
      "24*1=24\n",
      "24*2=48\n",
      "24*3=72\n",
      "24*4=96\n",
      "24*5=120\n",
      "24*6=144\n",
      "24*7=168\n",
      "24*8=192\n",
      "24*9=216\n",
      "24*10=240\n",
      "______________\n",
      "23*1=23\n",
      "23*2=46\n",
      "23*3=69\n",
      "23*4=92\n",
      "23*5=115\n",
      "23*6=138\n",
      "23*7=161\n",
      "23*8=184\n",
      "23*9=207\n",
      "23*10=230\n",
      "______________\n",
      "22*1=22\n",
      "22*2=44\n",
      "22*3=66\n",
      "22*4=88\n",
      "22*5=110\n",
      "22*6=132\n",
      "22*7=154\n",
      "22*8=176\n",
      "22*9=198\n",
      "22*10=220\n",
      "______________\n",
      "21*1=21\n",
      "21*2=42\n",
      "21*3=63\n",
      "21*4=84\n",
      "21*5=105\n",
      "21*6=126\n",
      "21*7=147\n",
      "21*8=168\n",
      "21*9=189\n",
      "21*10=210\n",
      "______________\n",
      "20*1=20\n",
      "20*2=40\n",
      "20*3=60\n",
      "20*4=80\n",
      "20*5=100\n",
      "20*6=120\n",
      "20*7=140\n",
      "20*8=160\n",
      "20*9=180\n",
      "20*10=200\n",
      "______________\n",
      "19*1=19\n",
      "19*2=38\n",
      "19*3=57\n",
      "19*4=76\n",
      "19*5=95\n",
      "19*6=114\n",
      "19*7=133\n",
      "19*8=152\n",
      "19*9=171\n",
      "19*10=190\n",
      "______________\n",
      "18*1=18\n",
      "18*2=36\n",
      "18*3=54\n",
      "18*4=72\n",
      "18*5=90\n",
      "18*6=108\n",
      "18*7=126\n",
      "18*8=144\n",
      "18*9=162\n",
      "18*10=180\n",
      "______________\n",
      "17*1=17\n",
      "17*2=34\n",
      "17*3=51\n",
      "17*4=68\n",
      "17*5=85\n",
      "17*6=102\n",
      "17*7=119\n",
      "17*8=136\n",
      "17*9=153\n",
      "17*10=170\n",
      "______________\n",
      "16*1=16\n",
      "16*2=32\n",
      "16*3=48\n",
      "16*4=64\n",
      "16*5=80\n",
      "16*6=96\n",
      "16*7=112\n",
      "16*8=128\n",
      "16*9=144\n",
      "16*10=160\n",
      "______________\n",
      "15*1=15\n",
      "15*2=30\n",
      "15*3=45\n",
      "15*4=60\n",
      "15*5=75\n",
      "15*6=90\n",
      "15*7=105\n",
      "15*8=120\n",
      "15*9=135\n",
      "15*10=150\n",
      "______________\n",
      "14*1=14\n",
      "14*2=28\n",
      "14*3=42\n",
      "14*4=56\n",
      "14*5=70\n",
      "14*6=84\n",
      "14*7=98\n",
      "14*8=112\n",
      "14*9=126\n",
      "14*10=140\n",
      "______________\n",
      "13*1=13\n",
      "13*2=26\n",
      "13*3=39\n",
      "13*4=52\n",
      "13*5=65\n",
      "13*6=78\n",
      "13*7=91\n",
      "13*8=104\n",
      "13*9=117\n",
      "13*10=130\n",
      "______________\n",
      "12*1=12\n",
      "12*2=24\n",
      "12*3=36\n",
      "12*4=48\n",
      "12*5=60\n",
      "12*6=72\n",
      "12*7=84\n",
      "12*8=96\n",
      "12*9=108\n",
      "12*10=120\n",
      "______________\n",
      "11*1=11\n",
      "11*2=22\n",
      "11*3=33\n",
      "11*4=44\n",
      "11*5=55\n",
      "11*6=66\n",
      "11*7=77\n",
      "11*8=88\n",
      "11*9=99\n",
      "11*10=110\n",
      "______________\n",
      "10*1=10\n",
      "10*2=20\n",
      "10*3=30\n",
      "10*4=40\n",
      "10*5=50\n",
      "10*6=60\n",
      "10*7=70\n",
      "10*8=80\n",
      "10*9=90\n",
      "10*10=100\n",
      "______________\n",
      "9*1=9\n",
      "9*2=18\n",
      "9*3=27\n",
      "9*4=36\n",
      "9*5=45\n",
      "9*6=54\n",
      "9*7=63\n",
      "9*8=72\n",
      "9*9=81\n",
      "9*10=90\n",
      "______________\n",
      "8*1=8\n",
      "8*2=16\n",
      "8*3=24\n",
      "8*4=32\n",
      "8*5=40\n",
      "8*6=48\n",
      "8*7=56\n",
      "8*8=64\n",
      "8*9=72\n",
      "8*10=80\n",
      "______________\n",
      "7*1=7\n",
      "7*2=14\n",
      "7*3=21\n",
      "7*4=28\n",
      "7*5=35\n",
      "7*6=42\n",
      "7*7=49\n",
      "7*8=56\n",
      "7*9=63\n",
      "7*10=70\n",
      "______________\n",
      "6*1=6\n",
      "6*2=12\n",
      "6*3=18\n",
      "6*4=24\n",
      "6*5=30\n",
      "6*6=36\n",
      "6*7=42\n",
      "6*8=48\n",
      "6*9=54\n",
      "6*10=60\n",
      "______________\n",
      "5*1=5\n",
      "5*2=10\n",
      "5*3=15\n",
      "5*4=20\n",
      "5*5=25\n",
      "5*6=30\n",
      "5*7=35\n",
      "5*8=40\n",
      "5*9=45\n",
      "5*10=50\n",
      "______________\n",
      "4*1=4\n",
      "4*2=8\n",
      "4*3=12\n",
      "4*4=16\n",
      "4*5=20\n",
      "4*6=24\n",
      "4*7=28\n",
      "4*8=32\n",
      "4*9=36\n",
      "4*10=40\n",
      "______________\n",
      "3*1=3\n",
      "3*2=6\n",
      "3*3=9\n",
      "3*4=12\n",
      "3*5=15\n",
      "3*6=18\n",
      "3*7=21\n",
      "3*8=24\n",
      "3*9=27\n",
      "3*10=30\n",
      "______________\n",
      "2*1=2\n",
      "2*2=4\n",
      "2*3=6\n",
      "2*4=8\n",
      "2*5=10\n",
      "2*6=12\n",
      "2*7=14\n",
      "2*8=16\n",
      "2*9=18\n",
      "2*10=20\n",
      "______________\n"
     ]
    }
   ],
   "source": [
    "#print the multiple of 25 to 2\n",
    "i=25\n",
    "while i>=2:\n",
    "    j=1\n",
    "    while j<=10:\n",
    "        print(f'{i}*{j}={i*j}')\n",
    "        j=j+1\n",
    "    print('______________')\n",
    "    i=i-1"
   ]
  },
  {
   "cell_type": "code",
   "execution_count": 3,
   "id": "4e1e4a4a",
   "metadata": {},
   "outputs": [
    {
     "name": "stdout",
     "output_type": "stream",
     "text": [
      "1\n",
      "2\n",
      "3\n",
      "4\n",
      "5\n",
      "6\n",
      "7\n",
      "8\n",
      "9\n",
      "10\n"
     ]
    }
   ],
   "source": [
    "#print the number from 1 to 10\n",
    "i=1\n",
    "while i<=10:\n",
    "    print(i)\n",
    "    i=i+1"
   ]
  },
  {
   "cell_type": "code",
   "execution_count": null,
   "id": "323fb844",
   "metadata": {},
   "outputs": [],
   "source": [
    "#while with break"
   ]
  },
  {
   "cell_type": "code",
   "execution_count": 4,
   "id": "1d3a1b8b",
   "metadata": {},
   "outputs": [
    {
     "name": "stdout",
     "output_type": "stream",
     "text": [
      "5\n"
     ]
    }
   ],
   "source": [
    "#find out the output of this progrm\n",
    "i=1\n",
    "while i<=10:\n",
    "    if i==5:\n",
    "        print(i)\n",
    "        break\n",
    "    i=i+1"
   ]
  },
  {
   "cell_type": "code",
   "execution_count": 5,
   "id": "ee25a9b3",
   "metadata": {},
   "outputs": [
    {
     "name": "stdout",
     "output_type": "stream",
     "text": [
      "1\n",
      "2\n",
      "3\n",
      "4\n",
      "5\n"
     ]
    }
   ],
   "source": [
    "#find out the output of this progrm\n",
    "i=1\n",
    "while i<=10:\n",
    "    print(i)\n",
    "    if i==5:\n",
    "        break\n",
    "    i=i+1"
   ]
  },
  {
   "cell_type": "code",
   "execution_count": 6,
   "id": "eb957d43",
   "metadata": {},
   "outputs": [
    {
     "name": "stdout",
     "output_type": "stream",
     "text": [
      "1\n",
      "2\n",
      "3\n",
      "4\n"
     ]
    }
   ],
   "source": [
    "##find out the output of this progrm\n",
    "i=1\n",
    "while i<=10:\n",
    "    if i==5:\n",
    "        break\n",
    "    print(i)\n",
    "    i=i+1"
   ]
  },
  {
   "cell_type": "code",
   "execution_count": 7,
   "id": "3aa5f7e0",
   "metadata": {},
   "outputs": [
    {
     "name": "stdout",
     "output_type": "stream",
     "text": [
      "i=1 j=1\n",
      "i=1 j=2\n",
      "i=2 j=1\n",
      "i=2 j=2\n",
      "i=3 j=1\n",
      "i=3 j=2\n"
     ]
    }
   ],
   "source": [
    "#print the value of i and j\n",
    "i=1\n",
    "while i<=3:\n",
    "    j=1\n",
    "    while j<=3:\n",
    "        print(f'i={i} j={j}')\n",
    "        if j==2:\n",
    "            break\n",
    "        j=j+1\n",
    "    i=i+1"
   ]
  },
  {
   "cell_type": "code",
   "execution_count": 9,
   "id": "781f1971",
   "metadata": {},
   "outputs": [
    {
     "name": "stdout",
     "output_type": "stream",
     "text": [
      "i=1 j=1\n",
      "i=2 j=1\n",
      "i=3 j=1\n",
      "i=4 j=1\n"
     ]
    }
   ],
   "source": [
    "#print the value of i and j\n",
    "i=1\n",
    "while i<=4:\n",
    "    j=1\n",
    "    while j<=3:\n",
    "        if j==2:\n",
    "            break\n",
    "        print(f'i={i} j={j}')\n",
    "        j=j+1\n",
    "    i=i+1"
   ]
  },
  {
   "cell_type": "code",
   "execution_count": 10,
   "id": "83cf71a5",
   "metadata": {},
   "outputs": [
    {
     "name": "stdout",
     "output_type": "stream",
     "text": [
      "i=1 j=1\n",
      "i=1 j=1\n",
      "i=1 j=2\n",
      "i=2 j=1\n",
      "i=2 j=1\n",
      "i=2 j=2\n",
      "i=3 j=1\n",
      "i=3 j=1\n",
      "i=3 j=2\n",
      "i=4 j=1\n",
      "i=4 j=1\n",
      "i=4 j=2\n",
      "i=5 j=1\n",
      "i=5 j=1\n",
      "i=5 j=2\n"
     ]
    }
   ],
   "source": [
    "#print the value of i and j\n",
    "i=1\n",
    "while i<=5:\n",
    "    j=1\n",
    "    while j<=3:\n",
    "        print(f'i={i} j={j}')\n",
    "        if j==2:\n",
    "            break\n",
    "        print(f'i={i} j={j}')\n",
    "        j=j+1\n",
    "    i=i+1"
   ]
  },
  {
   "cell_type": "code",
   "execution_count": null,
   "id": "43c03f4f",
   "metadata": {},
   "outputs": [],
   "source": [
    "#while with continue"
   ]
  },
  {
   "cell_type": "code",
   "execution_count": 1,
   "id": "2b1562ac",
   "metadata": {},
   "outputs": [
    {
     "name": "stdout",
     "output_type": "stream",
     "text": [
      "1\n",
      "2\n",
      "3\n",
      "4\n",
      "5\n",
      "6\n",
      "7\n",
      "8\n",
      "9\n",
      "10\n"
     ]
    }
   ],
   "source": [
    "#print the value from 1 to 10 using continue\n",
    "i=1\n",
    "while i<=10:\n",
    "    print(i)\n",
    "    i=i+1\n",
    "    if i==7:\n",
    "        continue\n",
    "    "
   ]
  },
  {
   "cell_type": "code",
   "execution_count": 2,
   "id": "85b86f67",
   "metadata": {},
   "outputs": [
    {
     "name": "stdout",
     "output_type": "stream",
     "text": [
      "1\n",
      "hello\n",
      "2\n",
      "3\n",
      "hello\n",
      "4\n",
      "hello\n",
      "5\n",
      "hello\n",
      "6\n",
      "hello\n"
     ]
    }
   ],
   "source": [
    "#print the output of this program\n",
    "i=1\n",
    "while i<=6:\n",
    "    print(i)\n",
    "    i=i+1\n",
    "    if i==3:\n",
    "        continue\n",
    "    print('hello')"
   ]
  },
  {
   "cell_type": "code",
   "execution_count": 1,
   "id": "76f93e72",
   "metadata": {},
   "outputs": [
    {
     "name": "stdout",
     "output_type": "stream",
     "text": [
      "1\n",
      "2\n",
      "2\n",
      "3\n",
      "4\n",
      "4\n",
      "5\n",
      "5\n",
      "6\n",
      "6\n",
      "7\n"
     ]
    }
   ],
   "source": [
    "#tell the output\n",
    "i=1\n",
    "while i<=6:\n",
    "    print(i)\n",
    "    i=i+1\n",
    "    if i==3:\n",
    "        continue\n",
    "    print(i)"
   ]
  },
  {
   "cell_type": "code",
   "execution_count": null,
   "id": "1daa5216",
   "metadata": {},
   "outputs": [],
   "source": [
    "#while with pass"
   ]
  },
  {
   "cell_type": "code",
   "execution_count": 2,
   "id": "fd030389",
   "metadata": {},
   "outputs": [
    {
     "name": "stdout",
     "output_type": "stream",
     "text": [
      "namaste\n"
     ]
    }
   ],
   "source": [
    "a=10\n",
    "if a>=50:\n",
    "    pass\n",
    "else:\n",
    "    print('namaste')"
   ]
  },
  {
   "cell_type": "code",
   "execution_count": 6,
   "id": "dc467963",
   "metadata": {},
   "outputs": [
    {
     "name": "stdout",
     "output_type": "stream",
     "text": [
      "1\n",
      "3\n",
      "5\n"
     ]
    }
   ],
   "source": [
    "#using while with find out the output oof this program\n",
    "v=1\n",
    "while v<=5:\n",
    "    if v%2==0:\n",
    "         pass\n",
    "    else:\n",
    "        print(v)\n",
    "    v=v+1"
   ]
  },
  {
   "cell_type": "code",
   "execution_count": 7,
   "id": "da090dc1",
   "metadata": {},
   "outputs": [
    {
     "name": "stdout",
     "output_type": "stream",
     "text": [
      "2\n",
      "4\n"
     ]
    }
   ],
   "source": [
    "#using while with find out the output oof this programq\n",
    "x=1\n",
    "while x<=5:\n",
    "    if x%2==0:\n",
    "         print(x)\n",
    "    else:\n",
    "        pass\n",
    "    x=x+1"
   ]
  },
  {
   "cell_type": "code",
   "execution_count": 8,
   "id": "6d2e33ac",
   "metadata": {},
   "outputs": [],
   "source": [
    "#tell the output of this code\n",
    "v=1\n",
    "while v<=5:\n",
    "    if v%2==0:\n",
    "         pass\n",
    "    else:\n",
    "        pass\n",
    "    v=v+1"
   ]
  },
  {
   "cell_type": "code",
   "execution_count": null,
   "id": "9f01dd56",
   "metadata": {},
   "outputs": [],
   "source": [
    "#while else"
   ]
  },
  {
   "cell_type": "code",
   "execution_count": 9,
   "id": "17cf94dd",
   "metadata": {},
   "outputs": [
    {
     "name": "stdout",
     "output_type": "stream",
     "text": [
      "1\n",
      "2\n",
      "3\n",
      "4\n",
      "i m else block\n"
     ]
    }
   ],
   "source": [
    "#tell the output\n",
    "i=1\n",
    "while i<=4:\n",
    "    print(i)\n",
    "    i=i+1\n",
    "else:\n",
    "    print('i m else block')"
   ]
  },
  {
   "cell_type": "code",
   "execution_count": 10,
   "id": "e1e51852",
   "metadata": {},
   "outputs": [
    {
     "name": "stdout",
     "output_type": "stream",
     "text": [
      "1\n",
      "2\n",
      "3\n",
      "4\n"
     ]
    }
   ],
   "source": [
    "#print the output\n",
    "i=1\n",
    "while i<=6:\n",
    "    print(i)\n",
    "    if i==4:\n",
    "        break\n",
    "    i=i+1\n",
    "else:\n",
    "    print('i m else block')"
   ]
  },
  {
   "cell_type": "code",
   "execution_count": 11,
   "id": "b923b43b",
   "metadata": {},
   "outputs": [
    {
     "name": "stdout",
     "output_type": "stream",
     "text": [
      "1\n",
      "2\n",
      "3\n",
      "4\n",
      "i m else block\n"
     ]
    }
   ],
   "source": [
    "#print the output\n",
    "i=1\n",
    "while i<=4:\n",
    "    print(i)\n",
    "    if i==30:\n",
    "        break\n",
    "    i=i+1\n",
    "else:\n",
    "    print('i m else block')"
   ]
  },
  {
   "cell_type": "code",
   "execution_count": null,
   "id": "14918e5c",
   "metadata": {},
   "outputs": [],
   "source": []
  },
  {
   "cell_type": "code",
   "execution_count": null,
   "id": "8b39a0b7",
   "metadata": {},
   "outputs": [],
   "source": []
  }
 ],
 "metadata": {
  "kernelspec": {
   "display_name": "Python 3 (ipykernel)",
   "language": "python",
   "name": "python3"
  },
  "language_info": {
   "codemirror_mode": {
    "name": "ipython",
    "version": 3
   },
   "file_extension": ".py",
   "mimetype": "text/x-python",
   "name": "python",
   "nbconvert_exporter": "python",
   "pygments_lexer": "ipython3",
   "version": "3.11.4"
  }
 },
 "nbformat": 4,
 "nbformat_minor": 5
}
