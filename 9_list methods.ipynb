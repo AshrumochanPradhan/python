{
 "cells": [
  {
   "cell_type": "code",
   "execution_count": null,
   "id": "74483c48",
   "metadata": {},
   "outputs": [],
   "source": [
    "#copy"
   ]
  },
  {
   "cell_type": "code",
   "execution_count": 1,
   "id": "163679a0",
   "metadata": {},
   "outputs": [
    {
     "name": "stdout",
     "output_type": "stream",
     "text": [
      "[10, 20, 30]\n",
      "[10, 20, 30]\n",
      "2554622392256\n",
      "2554622378112\n",
      "140715634365512\n",
      "140715634365512\n"
     ]
    }
   ],
   "source": [
    "l=[10,20,30]\n",
    "s=l.copy()\n",
    "print(l)\n",
    "print(s)\n",
    "print(id(l))\n",
    "print(id(s))\n",
    "print(id(l[0]))\n",
    "print(id(s[0]))"
   ]
  },
  {
   "cell_type": "code",
   "execution_count": 2,
   "id": "59b86ece",
   "metadata": {},
   "outputs": [
    {
     "name": "stdout",
     "output_type": "stream",
     "text": [
      "[10, 20, 30]\n",
      "[10, 20, 30]\n",
      "2554622376704\n",
      "2554622376704\n",
      "140715634365512\n",
      "140715634365512\n"
     ]
    }
   ],
   "source": [
    "#deep copy\n",
    "l=[10,20,30]\n",
    "s=l\n",
    "print(l)\n",
    "print(s)\n",
    "print(id(l))\n",
    "print(id(s))\n",
    "print(id(l[0]))\n",
    "print(id(s[0]))"
   ]
  },
  {
   "cell_type": "code",
   "execution_count": 3,
   "id": "385b4c01",
   "metadata": {},
   "outputs": [
    {
     "name": "stdout",
     "output_type": "stream",
     "text": [
      "[10, 20, 30]\n",
      "[10, 20, 30]\n",
      "2554622387904\n",
      "2554622386688\n",
      "140715634365512\n",
      "140715634365512\n",
      "[10, 100, 30]\n",
      "[10, 20, 30]\n"
     ]
    }
   ],
   "source": [
    "#shallow copy\n",
    "l=[10,20,30]\n",
    "s=l.copy()\n",
    "print(l)\n",
    "print(s)\n",
    "print(id(l))\n",
    "print(id(s))\n",
    "l[1]=100\n",
    "print(id(l[0]))\n",
    "print(id(s[0]))\n",
    "print(l)\n",
    "print(s)"
   ]
  },
  {
   "cell_type": "code",
   "execution_count": 5,
   "id": "e67fd336",
   "metadata": {},
   "outputs": [
    {
     "name": "stdout",
     "output_type": "stream",
     "text": [
      "[10, 20, 30]\n",
      "[10, 20, 30]\n",
      "2554635350720\n",
      "2554622386688\n",
      "[10, 200, 30]\n",
      "[10, 20, 30]\n"
     ]
    }
   ],
   "source": [
    "#copy()\n",
    "l=[10,20,30]\n",
    "s==l\n",
    "print(l)\n",
    "print(s)\n",
    "print(id(l))\n",
    "print(id(s))\n",
    "l[1]=200\n",
    "print(l)\n",
    "print(s)"
   ]
  },
  {
   "cell_type": "code",
   "execution_count": 6,
   "id": "7d1f8708",
   "metadata": {},
   "outputs": [
    {
     "name": "stdout",
     "output_type": "stream",
     "text": [
      "[10, 20, 30, 10, 20, 30, 10, 20, 30]\n",
      "2554635356736\n",
      "2554635282112\n"
     ]
    }
   ],
   "source": [
    "l=[10,20,30]\n",
    "r=l*3\n",
    "print(r)\n",
    "print(id(l))\n",
    "print(id(r))"
   ]
  },
  {
   "cell_type": "code",
   "execution_count": 7,
   "id": "3079128b",
   "metadata": {},
   "outputs": [
    {
     "name": "stdout",
     "output_type": "stream",
     "text": [
      "Enter your lucky number: 45\n",
      "your lucky number is not present\n"
     ]
    }
   ],
   "source": [
    "#wap to check weather your lucky number is present  inside list or not\n",
    "l=[2,23,763,35,29,76,29,35,19,10,1928,2762,263,189]\n",
    "choice=int(input('Enter your lucky number: '))\n",
    "if choice in l:\n",
    "    print('your lucky number is present')\n",
    "else:\n",
    "    print('your lucky number is not present')"
   ]
  },
  {
   "cell_type": "code",
   "execution_count": 9,
   "id": "5df7dc70",
   "metadata": {},
   "outputs": [
    {
     "name": "stdout",
     "output_type": "stream",
     "text": [
      "Enter your lucky number: 29\n",
      "your lucky number is not present\n",
      "your lucky number is not present\n",
      "your lucky number is not present\n",
      "your lucky number is not present\n",
      "your lucky number is not present\n",
      "your lucky number is not present\n",
      "your lucky number is not present\n",
      "your lucky number is not present\n",
      "your lucky number is not present\n",
      "your lucky number is not present\n",
      "your lucky number is not present\n",
      "your lucky number is not present\n",
      "your lucky number is not present\n",
      "your lucky number is not present\n"
     ]
    }
   ],
   "source": [
    "#wap to check weather your lucky number is present  inside list or not\n",
    "l=[2,23,763,35,29,76,29,35,19,10,1928,2762,263,189]\n",
    "choice=int(input('Enter your lucky number: '))\n",
    "for i in l:\n",
    "    if choice==l:\n",
    "        print('your lucky number is present')\n",
    "    else:\n",
    "        print('your lucky number is not present')"
   ]
  },
  {
   "cell_type": "code",
   "execution_count": 12,
   "id": "4bec0405",
   "metadata": {},
   "outputs": [
    {
     "name": "stdout",
     "output_type": "stream",
     "text": [
      "Enter your lucky number: 23\n",
      "your lucky number is not present\n",
      "your lucky number is present\n"
     ]
    }
   ],
   "source": [
    "#wap to check weather your lucky number is present  inside list or not\n",
    "l=[2,23,763,35,29,76,29,35,19,10,1928,2762,263,189]\n",
    "choice=int(input('Enter your lucky number: '))\n",
    "for i in l:\n",
    "    if choice==i:\n",
    "        print('your lucky number is present')\n",
    "        break\n",
    "    else:\n",
    "        print('your lucky number is not present')"
   ]
  },
  {
   "cell_type": "code",
   "execution_count": 13,
   "id": "1dcbe34f",
   "metadata": {},
   "outputs": [
    {
     "name": "stdout",
     "output_type": "stream",
     "text": [
      "Enter your lucky number: 556\n",
      "your lucky number is not present\n"
     ]
    }
   ],
   "source": [
    "#wap to check weather your lucky number is present  inside list or not\n",
    "l=[2,23,763,35,29,76,29,35,19,10,1928,2762,263,189]\n",
    "choice=int(input('Enter your lucky number: '))\n",
    "for i in l:\n",
    "    if choice==i:\n",
    "        print('your lucky number is present')\n",
    "        break\n",
    "    else:\n",
    "        print('your lucky number is not present')\n",
    "        break"
   ]
  },
  {
   "cell_type": "code",
   "execution_count": 14,
   "id": "4e139b39",
   "metadata": {},
   "outputs": [
    {
     "name": "stdout",
     "output_type": "stream",
     "text": [
      "Enter your lucky number: 45\n",
      "your lucky number is not present\n"
     ]
    }
   ],
   "source": [
    "#wap to check weather your lucky number is present  inside list or not\n",
    "l=[2,23,763,35,29,76,29,35,19,10,1928,2762,263,189]\n",
    "found =False\n",
    "choice=int(input('Enter your lucky number: '))\n",
    "for i in l:\n",
    "    if choice==i:\n",
    "        found=True\n",
    "        break\n",
    "if found==True:\n",
    "    print('your lucky number is present')\n",
    "else:\n",
    "    print('your lucky number is not present')"
   ]
  },
  {
   "cell_type": "code",
   "execution_count": 1,
   "id": "6a223fe5",
   "metadata": {},
   "outputs": [
    {
     "name": "stdout",
     "output_type": "stream",
     "text": [
      "Enter your lucky number: 6565\n",
      "your lucky number is not present\n",
      "Enter your lucky number: 33\n",
      "your lucky number is not present\n",
      "Enter your lucky number: 3553\n",
      "your lucky number is not present\n",
      "Enter your lucky number: 2\n",
      "your lucky number is present\n"
     ]
    }
   ],
   "source": [
    "#wap to check weather your lucky number is present  inside list or not\n",
    "l=[2,23,763,35,29,76,29,35,19,10,1928,2762,263,189]\n",
    "while True:\n",
    "    choice=int(input('Enter your lucky number: '))\n",
    "    if choice in l:\n",
    "        print('your lucky number is present')\n",
    "        break\n",
    "    else:\n",
    "        print('your lucky number is not present')"
   ]
  },
  {
   "cell_type": "code",
   "execution_count": null,
   "id": "4e4942e8",
   "metadata": {},
   "outputs": [],
   "source": [
    "#without in operator"
   ]
  },
  {
   "cell_type": "code",
   "execution_count": 2,
   "id": "237f0d7b",
   "metadata": {},
   "outputs": [
    {
     "name": "stdout",
     "output_type": "stream",
     "text": [
      "Enter u r lucky number: 4\n",
      "Enter u r lucky number: 5\n",
      "Enter u r lucky number: 7\n",
      "Enter u r lucky number: 2\n",
      "Enter u r lucky number: 2\n",
      "Enter u r lucky number: 2\n",
      "your lucky number is not present\n"
     ]
    }
   ],
   "source": [
    "#wap to check weather your lucky number is present  inside list or not\n",
    "l=[2,3,5,7,34,67]\n",
    "found=False\n",
    "while True:\n",
    "    for i in l:\n",
    "        choice=int(input('Enter u r lucky number: '))\n",
    "        if choice==i:\n",
    "            found=True\n",
    "            break\n",
    "    break\n",
    "if found==True:\n",
    "     print('your lucky number is present')\n",
    "else:\n",
    "     print('your lucky number is not present')          "
   ]
  },
  {
   "cell_type": "code",
   "execution_count": 2,
   "id": "be000692",
   "metadata": {},
   "outputs": [
    {
     "name": "stdout",
     "output_type": "stream",
     "text": [
      "Enter u r lucky number: 345\n",
      "Enter u r lucky number: 66\n",
      "Enter u r lucky number: 34\n",
      "your lucky number is present\n"
     ]
    }
   ],
   "source": [
    "#wap to check weather your lucky number is present  inside list or not\n",
    "l=[2,3,5,7,34,67]\n",
    "found=False\n",
    "while True:\n",
    "    choice=int(input('Enter u r lucky number: '))\n",
    "    for i in l:\n",
    "        if choice==i:\n",
    "            found=True\n",
    "            break\n",
    "    if found==True:\n",
    "        break\n",
    "if found==True:\n",
    "     print('your lucky number is present')\n",
    "else:\n",
    "     print('your lucky number is not present')          "
   ]
  },
  {
   "cell_type": "code",
   "execution_count": 1,
   "id": "07de20d8",
   "metadata": {},
   "outputs": [
    {
     "name": "stdout",
     "output_type": "stream",
     "text": [
      "Enter u r lucky number: 443\n",
      "Enter u r lucky number: 776\n",
      "Enter u r lucky number: 3\n",
      "your lucky number is present\n"
     ]
    }
   ],
   "source": [
    "#wap to check weather your lucky number is present  inside list or not#wap to check weather your lucky number is present  inside list or not\n",
    "\n",
    "l=[2,3,5,7,34,67]\n",
    "found=False\n",
    "while True:\n",
    "    choice=int(input('Enter u r lucky number: '))\n",
    "    for i in l:\n",
    "        if choice==i:\n",
    "            found=True\n",
    "            break\n",
    "    if found==True:\n",
    "        print('your lucky number is present')\n",
    "        break\n"
   ]
  }
 ],
 "metadata": {
  "kernelspec": {
   "display_name": "Python 3 (ipykernel)",
   "language": "python",
   "name": "python3"
  },
  "language_info": {
   "codemirror_mode": {
    "name": "ipython",
    "version": 3
   },
   "file_extension": ".py",
   "mimetype": "text/x-python",
   "name": "python",
   "nbconvert_exporter": "python",
   "pygments_lexer": "ipython3",
   "version": "3.11.4"
  }
 },
 "nbformat": 4,
 "nbformat_minor": 5
}
