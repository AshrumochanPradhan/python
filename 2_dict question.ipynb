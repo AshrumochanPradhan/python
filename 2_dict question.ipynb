{
 "cells": [
  {
   "cell_type": "code",
   "execution_count": 2,
   "id": "162a6055",
   "metadata": {},
   "outputs": [
    {
     "name": "stdout",
     "output_type": "stream",
     "text": [
      "{'a': 2, ' ': 4, 'b': 3, 'c': 2, 'd': 3, 'e': 1}\n"
     ]
    }
   ],
   "source": [
    "#Wap to find out the number of occurance of a character present in a string\n",
    "s='aa bbb cc ddd e'\n",
    "d={}\n",
    "for i in s:\n",
    "    d[i]=d.get(i,0)+1  #creating items and updation\n",
    "print(d)"
   ]
  },
  {
   "cell_type": "code",
   "execution_count": 3,
   "id": "768d438d",
   "metadata": {},
   "outputs": [
    {
     "name": "stdout",
     "output_type": "stream",
     "text": [
      "{'r': 1, 'a': 6, 'm': 2}\n"
     ]
    }
   ],
   "source": [
    "#or\n",
    "#Wap to find out the number of occurance of a character present in a string\n",
    "s='raaaaaamm'\n",
    "d={}\n",
    "for i in s:\n",
    "    d[i]=d.get(i,0)+1\n",
    "print(d)"
   ]
  },
  {
   "cell_type": "code",
   "execution_count": 1,
   "id": "4e1b0d60",
   "metadata": {},
   "outputs": [
    {
     "name": "stdout",
     "output_type": "stream",
     "text": [
      "Enter the bf name: ashru\n",
      "Enter the gf name: monday\n",
      "Do you want to add more item[y/n]y\n",
      "Enter the bf name: satya\n",
      "Enter the gf name: sunday\n",
      "Do you want to add more item[y/n]y\n",
      "Enter the bf name: abakash\n",
      "Enter the gf name: tuesday\n",
      "Do you want to add more item[y/n]y\n",
      "Enter the bf name: samir\n",
      "Enter the gf name: friday\n",
      "Do you want to add more item[y/n]y\n",
      "Enter the bf name: daka\n",
      "Enter the gf name: saturday\n",
      "Do you want to add more item[y/n]n\n",
      "Enter your bf name to get gf name:ashru\n",
      "Hey ashru your gf name is monday\n",
      "Do you want to get more item[y/n]samir\n",
      "Enter your bf name to get gf name:samir\n",
      "Hey samir your gf name is friday\n",
      "Do you want to get more item[y/n]y\n",
      "Enter your bf name to get gf name:daka\n",
      "Hey daka your gf name is saturday\n",
      "Do you want to get more item[y/n]n\n"
     ]
    }
   ],
   "source": [
    "#Wap take boyfriend and girlfriend name as an input from the user store them in dict\n",
    "#Then enter boyfriend name to know girlfriend name\n",
    "d={}\n",
    "while True:\n",
    "    bf=input('Enter the bf name: ')\n",
    "    gf=input('Enter the gf name: ')\n",
    "    d[bf]=gf\n",
    "    \n",
    "    choice=input('Do you want to add more item[y/n]').lower()\n",
    "    if choice=='n':\n",
    "        break\n",
    "while True:\n",
    "    bf=input('Enter your bf name to get gf name:')\n",
    "    gf=d.get(bf)\n",
    "    print(f'Hey {bf} your gf name is {gf}')\n",
    "    \n",
    "    choice=input('Do you want to get more item[y/n]').lower()\n",
    "    if choice=='n':\n",
    "        break\n"
   ]
  }
 ],
 "metadata": {
  "kernelspec": {
   "display_name": "Python 3 (ipykernel)",
   "language": "python",
   "name": "python3"
  },
  "language_info": {
   "codemirror_mode": {
    "name": "ipython",
    "version": 3
   },
   "file_extension": ".py",
   "mimetype": "text/x-python",
   "name": "python",
   "nbconvert_exporter": "python",
   "pygments_lexer": "ipython3",
   "version": "3.11.4"
  }
 },
 "nbformat": 4,
 "nbformat_minor": 5
}
